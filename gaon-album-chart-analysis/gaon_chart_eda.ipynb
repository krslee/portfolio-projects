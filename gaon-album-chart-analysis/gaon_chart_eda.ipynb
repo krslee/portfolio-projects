{
 "cells": [
  {
   "cell_type": "markdown",
   "metadata": {},
   "source": [
    "# Gaon Chart EDA\n",
    "\n",
    "### Data from: *http://gaonchart.co.kr/*\n",
    "\n",
    "##### Notes:<br>- For some reason, sum of new sales =/= cumulative sales<br>- Based on values from other sources, I'll be using the cumulative sales column to analyze total sales<br>- Additionally, as the data below depicts monthly sales, the numbers do not consider the exact date the album was released "
   ]
  },
  {
   "cell_type": "markdown",
   "metadata": {},
   "source": [
    "### Import Data and Libraries"
   ]
  },
  {
   "cell_type": "code",
   "execution_count": 18,
   "metadata": {},
   "outputs": [],
   "source": [
    "import pandas as pd\n",
    "import plotly.express as px"
   ]
  },
  {
   "cell_type": "code",
   "execution_count": 19,
   "metadata": {},
   "outputs": [
    {
     "data": {
      "text/html": [
       "<div>\n",
       "<style scoped>\n",
       "    .dataframe tbody tr th:only-of-type {\n",
       "        vertical-align: middle;\n",
       "    }\n",
       "\n",
       "    .dataframe tbody tr th {\n",
       "        vertical-align: top;\n",
       "    }\n",
       "\n",
       "    .dataframe thead th {\n",
       "        text-align: right;\n",
       "    }\n",
       "</style>\n",
       "<table border=\"1\" class=\"dataframe\">\n",
       "  <thead>\n",
       "    <tr style=\"text-align: right;\">\n",
       "      <th></th>\n",
       "      <th>month</th>\n",
       "      <th>month_name</th>\n",
       "      <th>album_rank</th>\n",
       "      <th>rank_change</th>\n",
       "      <th>rank_difference</th>\n",
       "      <th>title</th>\n",
       "      <th>artist</th>\n",
       "      <th>new_sales</th>\n",
       "      <th>cumulative_sales</th>\n",
       "      <th>production</th>\n",
       "    </tr>\n",
       "  </thead>\n",
       "  <tbody>\n",
       "    <tr>\n",
       "      <th>0</th>\n",
       "      <td>1</td>\n",
       "      <td>January</td>\n",
       "      <td>1</td>\n",
       "      <td>new</td>\n",
       "      <td>NaN</td>\n",
       "      <td>THE FIRST STEP : TREASURE EFFECT</td>\n",
       "      <td>TREASURE</td>\n",
       "      <td>266894</td>\n",
       "      <td>266894</td>\n",
       "      <td>YG PLUS</td>\n",
       "    </tr>\n",
       "    <tr>\n",
       "      <th>1</th>\n",
       "      <td>1</td>\n",
       "      <td>January</td>\n",
       "      <td>2</td>\n",
       "      <td>down</td>\n",
       "      <td>-1.0</td>\n",
       "      <td>NCT RESONANCE Pt. 2 - The 2nd Album</td>\n",
       "      <td>NCT</td>\n",
       "      <td>244629</td>\n",
       "      <td>244629</td>\n",
       "      <td>Dreamus</td>\n",
       "    </tr>\n",
       "    <tr>\n",
       "      <th>2</th>\n",
       "      <td>1</td>\n",
       "      <td>January</td>\n",
       "      <td>3</td>\n",
       "      <td>new</td>\n",
       "      <td>NaN</td>\n",
       "      <td>I burn</td>\n",
       "      <td>(G)I-DLE</td>\n",
       "      <td>159268</td>\n",
       "      <td>159268</td>\n",
       "      <td>Kakao Entertainment</td>\n",
       "    </tr>\n",
       "    <tr>\n",
       "      <th>3</th>\n",
       "      <td>1</td>\n",
       "      <td>January</td>\n",
       "      <td>4</td>\n",
       "      <td>new</td>\n",
       "      <td>NaN</td>\n",
       "      <td>NOIR - The 2nd Mini Album</td>\n",
       "      <td>U-KNOW</td>\n",
       "      <td>138236</td>\n",
       "      <td>138236</td>\n",
       "      <td>Dreamus</td>\n",
       "    </tr>\n",
       "    <tr>\n",
       "      <th>4</th>\n",
       "      <td>1</td>\n",
       "      <td>January</td>\n",
       "      <td>5</td>\n",
       "      <td>new</td>\n",
       "      <td>NaN</td>\n",
       "      <td>HIDEOUT: BE OUR VOICE - SEASON 3.</td>\n",
       "      <td>CRAVITY</td>\n",
       "      <td>112301</td>\n",
       "      <td>112301</td>\n",
       "      <td>Kakao Entertainment</td>\n",
       "    </tr>\n",
       "    <tr>\n",
       "      <th>...</th>\n",
       "      <td>...</td>\n",
       "      <td>...</td>\n",
       "      <td>...</td>\n",
       "      <td>...</td>\n",
       "      <td>...</td>\n",
       "      <td>...</td>\n",
       "      <td>...</td>\n",
       "      <td>...</td>\n",
       "      <td>...</td>\n",
       "      <td>...</td>\n",
       "    </tr>\n",
       "    <tr>\n",
       "      <th>1195</th>\n",
       "      <td>12</td>\n",
       "      <td>December</td>\n",
       "      <td>96</td>\n",
       "      <td>up</td>\n",
       "      <td>49.0</td>\n",
       "      <td>Merry &amp; Happy</td>\n",
       "      <td>TWICE</td>\n",
       "      <td>3022</td>\n",
       "      <td>15763</td>\n",
       "      <td>Dreamus</td>\n",
       "    </tr>\n",
       "    <tr>\n",
       "      <th>1196</th>\n",
       "      <td>12</td>\n",
       "      <td>December</td>\n",
       "      <td>97</td>\n",
       "      <td>up</td>\n",
       "      <td>24.0</td>\n",
       "      <td>LALISA</td>\n",
       "      <td>LISA</td>\n",
       "      <td>2919</td>\n",
       "      <td>708475</td>\n",
       "      <td>YG PLUS</td>\n",
       "    </tr>\n",
       "    <tr>\n",
       "      <th>1197</th>\n",
       "      <td>12</td>\n",
       "      <td>December</td>\n",
       "      <td>98</td>\n",
       "      <td>up</td>\n",
       "      <td>21.0</td>\n",
       "      <td>VENI VIDI VICI</td>\n",
       "      <td>TRI.BE</td>\n",
       "      <td>2730</td>\n",
       "      <td>13345</td>\n",
       "      <td>Universal Music</td>\n",
       "    </tr>\n",
       "    <tr>\n",
       "      <th>1198</th>\n",
       "      <td>12</td>\n",
       "      <td>December</td>\n",
       "      <td>99</td>\n",
       "      <td>up</td>\n",
       "      <td>32.0</td>\n",
       "      <td>Love poem</td>\n",
       "      <td>IU</td>\n",
       "      <td>2685</td>\n",
       "      <td>31277</td>\n",
       "      <td>Kakao Entertainment</td>\n",
       "    </tr>\n",
       "    <tr>\n",
       "      <th>1199</th>\n",
       "      <td>12</td>\n",
       "      <td>December</td>\n",
       "      <td>100</td>\n",
       "      <td>new</td>\n",
       "      <td>NaN</td>\n",
       "      <td>Bye (LP)</td>\n",
       "      <td>IM CHANG JUNG (임창정)</td>\n",
       "      <td>2607</td>\n",
       "      <td>2607</td>\n",
       "      <td>Warner Music</td>\n",
       "    </tr>\n",
       "  </tbody>\n",
       "</table>\n",
       "<p>1200 rows × 10 columns</p>\n",
       "</div>"
      ],
      "text/plain": [
       "      month month_name  album_rank rank_change  rank_difference  \\\n",
       "0         1    January           1         new              NaN   \n",
       "1         1    January           2        down             -1.0   \n",
       "2         1    January           3         new              NaN   \n",
       "3         1    January           4         new              NaN   \n",
       "4         1    January           5         new              NaN   \n",
       "...     ...        ...         ...         ...              ...   \n",
       "1195     12   December          96          up             49.0   \n",
       "1196     12   December          97          up             24.0   \n",
       "1197     12   December          98          up             21.0   \n",
       "1198     12   December          99          up             32.0   \n",
       "1199     12   December         100         new              NaN   \n",
       "\n",
       "                                    title               artist  new_sales  \\\n",
       "0        THE FIRST STEP : TREASURE EFFECT            TREASURE      266894   \n",
       "1     NCT RESONANCE Pt. 2 - The 2nd Album                  NCT     244629   \n",
       "2                                  I burn             (G)I-DLE     159268   \n",
       "3               NOIR - The 2nd Mini Album               U-KNOW     138236   \n",
       "4       HIDEOUT: BE OUR VOICE - SEASON 3.              CRAVITY     112301   \n",
       "...                                   ...                  ...        ...   \n",
       "1195                        Merry & Happy                TWICE       3022   \n",
       "1196                               LALISA                 LISA       2919   \n",
       "1197                       VENI VIDI VICI               TRI.BE       2730   \n",
       "1198                            Love poem                   IU       2685   \n",
       "1199                             Bye (LP)  IM CHANG JUNG (임창정)       2607   \n",
       "\n",
       "      cumulative_sales           production  \n",
       "0               266894              YG PLUS  \n",
       "1               244629              Dreamus  \n",
       "2               159268  Kakao Entertainment  \n",
       "3               138236              Dreamus  \n",
       "4               112301  Kakao Entertainment  \n",
       "...                ...                  ...  \n",
       "1195             15763              Dreamus  \n",
       "1196            708475              YG PLUS  \n",
       "1197             13345      Universal Music  \n",
       "1198             31277  Kakao Entertainment  \n",
       "1199              2607         Warner Music  \n",
       "\n",
       "[1200 rows x 10 columns]"
      ]
     },
     "execution_count": 19,
     "metadata": {},
     "output_type": "execute_result"
    }
   ],
   "source": [
    "df = pd.read_csv(\"GaonChartAlbumsMonthly2021New.csv\")\n",
    "df"
   ]
  },
  {
   "cell_type": "markdown",
   "metadata": {},
   "source": [
    "### New Sales Data"
   ]
  },
  {
   "cell_type": "code",
   "execution_count": 20,
   "metadata": {},
   "outputs": [
    {
     "data": {
      "text/plain": [
       "count       1200\n",
       "mean       47043\n",
       "std       171823\n",
       "min         2238\n",
       "25%         6225\n",
       "50%        10866\n",
       "75%        24976\n",
       "max      2490969\n",
       "Name: new_sales, dtype: object"
      ]
     },
     "execution_count": 20,
     "metadata": {},
     "output_type": "execute_result"
    }
   ],
   "source": [
    "df['new_sales'].describe().apply(\"{0:.0f}\".format)"
   ]
  },
  {
   "cell_type": "code",
   "execution_count": 96,
   "metadata": {},
   "outputs": [
    {
     "data": {
      "application/vnd.plotly.v1+json": {
       "config": {
        "plotlyServerURL": "https://plot.ly"
       },
       "data": [
        {
         "alignmentgroup": "True",
         "bingroup": "x",
         "histfunc": "sum",
         "hovertemplate": "color=new<br>month_name=%{x}<br>sum of new_sales=%{y}<extra></extra>",
         "legendgroup": "new",
         "marker": {
          "color": "#636efa",
          "pattern": {
           "shape": ""
          }
         },
         "name": "new",
         "nbinsx": 12,
         "offsetgroup": "new",
         "orientation": "v",
         "showlegend": true,
         "type": "histogram",
         "x": [
          "January",
          "January",
          "January",
          "January",
          "January",
          "January",
          "January",
          "January",
          "January",
          "January",
          "January",
          "January",
          "January",
          "January",
          "January",
          "January",
          "January",
          "January",
          "January",
          "January",
          "January",
          "January",
          "January",
          "January",
          "January",
          "January",
          "January",
          "February",
          "February",
          "February",
          "February",
          "February",
          "February",
          "February",
          "February",
          "February",
          "February",
          "February",
          "February",
          "February",
          "February",
          "February",
          "February",
          "February",
          "February",
          "February",
          "February",
          "February",
          "February",
          "February",
          "February",
          "February",
          "February",
          "February",
          "February",
          "February",
          "February",
          "February",
          "February",
          "February",
          "February",
          "February",
          "February",
          "February",
          "March",
          "March",
          "March",
          "March",
          "March",
          "March",
          "March",
          "March",
          "March",
          "March",
          "March",
          "March",
          "March",
          "March",
          "March",
          "March",
          "March",
          "March",
          "March",
          "March",
          "March",
          "March",
          "March",
          "March",
          "March",
          "March",
          "March",
          "March",
          "March",
          "March",
          "March",
          "March",
          "March",
          "March",
          "March",
          "March",
          "March",
          "March",
          "March",
          "March",
          "March",
          "April",
          "April",
          "April",
          "April",
          "April",
          "April",
          "April",
          "April",
          "April",
          "April",
          "April",
          "April",
          "April",
          "April",
          "April",
          "April",
          "April",
          "April",
          "April",
          "April",
          "April",
          "April",
          "April",
          "April",
          "April",
          "April",
          "April",
          "April",
          "April",
          "April",
          "April",
          "April",
          "April",
          "April",
          "April",
          "April",
          "April",
          "April",
          "April",
          "April",
          "April",
          "April",
          "April",
          "April",
          "April",
          "May",
          "May",
          "May",
          "May",
          "May",
          "May",
          "May",
          "May",
          "May",
          "May",
          "May",
          "May",
          "May",
          "May",
          "May",
          "May",
          "May",
          "May",
          "May",
          "May",
          "May",
          "May",
          "May",
          "May",
          "May",
          "May",
          "May",
          "May",
          "May",
          "May",
          "May",
          "May",
          "May",
          "May",
          "May",
          "May",
          "May",
          "May",
          "May",
          "June",
          "June",
          "June",
          "June",
          "June",
          "June",
          "June",
          "June",
          "June",
          "June",
          "June",
          "June",
          "June",
          "June",
          "June",
          "June",
          "June",
          "June",
          "June",
          "June",
          "June",
          "June",
          "June",
          "June",
          "June",
          "June",
          "June",
          "June",
          "June",
          "June",
          "June",
          "June",
          "June",
          "June",
          "June",
          "June",
          "June",
          "June",
          "June",
          "June",
          "June",
          "June",
          "June",
          "June",
          "June",
          "July",
          "July",
          "July",
          "July",
          "July",
          "July",
          "July",
          "July",
          "July",
          "July",
          "July",
          "July",
          "July",
          "July",
          "July",
          "July",
          "July",
          "July",
          "July",
          "July",
          "July",
          "July",
          "July",
          "July",
          "July",
          "July",
          "July",
          "July",
          "July",
          "July",
          "July",
          "July",
          "August",
          "August",
          "August",
          "August",
          "August",
          "August",
          "August",
          "August",
          "August",
          "August",
          "August",
          "August",
          "August",
          "August",
          "August",
          "August",
          "August",
          "August",
          "August",
          "August",
          "August",
          "August",
          "August",
          "August",
          "August",
          "August",
          "August",
          "August",
          "August",
          "August",
          "August",
          "August",
          "August",
          "August",
          "August",
          "August",
          "September",
          "September",
          "September",
          "September",
          "September",
          "September",
          "September",
          "September",
          "September",
          "September",
          "September",
          "September",
          "September",
          "September",
          "September",
          "September",
          "September",
          "September",
          "September",
          "September",
          "September",
          "September",
          "September",
          "September",
          "September",
          "September",
          "September",
          "September",
          "October",
          "October",
          "October",
          "October",
          "October",
          "October",
          "October",
          "October",
          "October",
          "October",
          "October",
          "October",
          "October",
          "October",
          "October",
          "October",
          "October",
          "October",
          "October",
          "October",
          "October",
          "October",
          "October",
          "October",
          "October",
          "October",
          "October",
          "October",
          "October",
          "October",
          "October",
          "October",
          "October",
          "October",
          "October",
          "October",
          "October",
          "October",
          "October",
          "October",
          "October",
          "November",
          "November",
          "November",
          "November",
          "November",
          "November",
          "November",
          "November",
          "November",
          "November",
          "November",
          "November",
          "November",
          "November",
          "November",
          "November",
          "November",
          "November",
          "November",
          "November",
          "November",
          "November",
          "November",
          "November",
          "November",
          "November",
          "November",
          "November",
          "November",
          "November",
          "November",
          "November",
          "November",
          "November",
          "December",
          "December",
          "December",
          "December",
          "December",
          "December",
          "December",
          "December",
          "December",
          "December",
          "December",
          "December",
          "December",
          "December",
          "December",
          "December",
          "December",
          "December",
          "December",
          "December",
          "December",
          "December",
          "December",
          "December",
          "December",
          "December",
          "December",
          "December"
         ],
         "xaxis": "x",
         "y": [
          266894,
          159268,
          138236,
          112301,
          98014,
          91469,
          89960,
          74863,
          57982,
          53618,
          49221,
          27361,
          25560,
          17420,
          14192,
          13382,
          13135,
          12518,
          7748,
          5000,
          5000,
          4700,
          4559,
          3431,
          3314,
          3217,
          3104,
          195665,
          119998,
          83763,
          79479,
          60000,
          58359,
          53913,
          50182,
          50000,
          40000,
          37914,
          35000,
          29082,
          28000,
          24999,
          24602,
          20000,
          18844,
          17730,
          14990,
          10486,
          9987,
          9826,
          9569,
          9228,
          6663,
          5933,
          5900,
          4847,
          4796,
          4144,
          3998,
          3998,
          3994,
          3965,
          3956,
          3386,
          591944,
          433065,
          394156,
          380711,
          344018,
          226535,
          88552,
          79449,
          72214,
          52158,
          49999,
          37788,
          32423,
          30221,
          25005,
          20000,
          18012,
          17933,
          16000,
          15042,
          11361,
          11357,
          11000,
          10999,
          10615,
          10000,
          9990,
          9969,
          9851,
          9000,
          8900,
          8000,
          7774,
          7664,
          7554,
          6983,
          6140,
          5987,
          5985,
          5890,
          5459,
          522136,
          359031,
          318743,
          232570,
          206188,
          146609,
          118491,
          112202,
          110106,
          84596,
          72735,
          72146,
          62834,
          57048,
          56198,
          53248,
          49877,
          42814,
          35667,
          26064,
          19998,
          19982,
          14910,
          14121,
          13600,
          13136,
          12999,
          11974,
          11961,
          10524,
          10490,
          10462,
          10404,
          10404,
          10001,
          10000,
          9484,
          9295,
          9032,
          8819,
          8457,
          8446,
          8193,
          6878,
          6633,
          1995091,
          693217,
          108820,
          102678,
          99811,
          93908,
          85943,
          73672,
          65994,
          64526,
          59973,
          49991,
          49269,
          48962,
          40008,
          36983,
          35138,
          29793,
          26984,
          26439,
          25098,
          23787,
          22445,
          18203,
          15362,
          14980,
          10665,
          9096,
          7233,
          6850,
          5000,
          4989,
          4900,
          4701,
          4594,
          4508,
          4257,
          4256,
          3650,
          1391964,
          1216175,
          869086,
          522876,
          305808,
          130680,
          103156,
          96142,
          95000,
          90564,
          74443,
          73250,
          71379,
          62962,
          58020,
          52974,
          49700,
          39972,
          38813,
          37427,
          35000,
          34017,
          31578,
          27897,
          23850,
          22206,
          20360,
          20090,
          18655,
          11040,
          10745,
          10000,
          9996,
          8925,
          8681,
          8626,
          8571,
          7758,
          7515,
          7496,
          7462,
          7142,
          6736,
          5533,
          4301,
          2490969,
          282563,
          268252,
          176065,
          89981,
          71099,
          38717,
          23599,
          19693,
          19659,
          13449,
          11552,
          11376,
          10000,
          9991,
          9785,
          9061,
          8000,
          6666,
          6500,
          6000,
          5798,
          5785,
          5046,
          4997,
          4965,
          4785,
          4581,
          4578,
          4543,
          4444,
          4383,
          1127800,
          644369,
          615991,
          318696,
          297322,
          148177,
          141588,
          103885,
          93475,
          59048,
          55944,
          55707,
          51088,
          49900,
          42802,
          40000,
          31395,
          24420,
          23833,
          15576,
          15448,
          15404,
          13761,
          9319,
          8631,
          7756,
          5000,
          4874,
          4760,
          4500,
          4163,
          3676,
          3000,
          3000,
          2999,
          2998,
          2277575,
          732923,
          693079,
          335610,
          138148,
          100372,
          63718,
          60000,
          55399,
          51673,
          45047,
          43924,
          36284,
          29996,
          27954,
          27285,
          23000,
          18324,
          14824,
          12115,
          10075,
          8315,
          5767,
          5224,
          4921,
          4005,
          3000,
          3000,
          1968829,
          1139099,
          626036,
          519618,
          101604,
          84133,
          77138,
          70803,
          56750,
          52725,
          52500,
          44987,
          37927,
          31468,
          30700,
          29200,
          29146,
          28883,
          27996,
          24478,
          23423,
          20170,
          19591,
          15372,
          14405,
          12959,
          12376,
          12280,
          10000,
          10000,
          9406,
          7998,
          7885,
          7589,
          6250,
          5999,
          5000,
          4690,
          4000,
          4000,
          4000,
          654658,
          632506,
          627987,
          399830,
          179581,
          175287,
          129919,
          129119,
          78644,
          78045,
          77203,
          61558,
          55223,
          52439,
          49300,
          41421,
          34868,
          30359,
          15080,
          14729,
          12512,
          11377,
          10000,
          8264,
          7421,
          6780,
          6673,
          6292,
          6069,
          5799,
          5760,
          5530,
          5000,
          4199,
          1630715,
          407165,
          268396,
          109805,
          93911,
          90585,
          85674,
          40809,
          27291,
          26880,
          19694,
          17857,
          17131,
          15444,
          13571,
          11442,
          8058,
          7318,
          7000,
          4898,
          4423,
          4103,
          4041,
          4000,
          3940,
          3940,
          3854,
          2607
         ],
         "yaxis": "y"
        },
        {
         "alignmentgroup": "True",
         "bingroup": "x",
         "histfunc": "sum",
         "hovertemplate": "color=previously released<br>month_name=%{x}<br>sum of new_sales=%{y}<extra></extra>",
         "legendgroup": "previously released",
         "marker": {
          "color": "#EF553B",
          "pattern": {
           "shape": ""
          }
         },
         "name": "previously released",
         "nbinsx": 12,
         "offsetgroup": "previously released",
         "orientation": "v",
         "showlegend": true,
         "type": "histogram",
         "x": [
          "January",
          "January",
          "January",
          "January",
          "January",
          "January",
          "January",
          "January",
          "January",
          "January",
          "January",
          "January",
          "January",
          "January",
          "January",
          "January",
          "January",
          "January",
          "January",
          "January",
          "January",
          "January",
          "January",
          "January",
          "January",
          "January",
          "January",
          "January",
          "January",
          "January",
          "January",
          "January",
          "January",
          "January",
          "January",
          "January",
          "January",
          "January",
          "January",
          "January",
          "January",
          "January",
          "January",
          "January",
          "January",
          "January",
          "January",
          "January",
          "January",
          "January",
          "January",
          "January",
          "January",
          "January",
          "January",
          "January",
          "January",
          "January",
          "January",
          "January",
          "January",
          "January",
          "January",
          "January",
          "January",
          "January",
          "January",
          "January",
          "January",
          "January",
          "January",
          "January",
          "January",
          "February",
          "February",
          "February",
          "February",
          "February",
          "February",
          "February",
          "February",
          "February",
          "February",
          "February",
          "February",
          "February",
          "February",
          "February",
          "February",
          "February",
          "February",
          "February",
          "February",
          "February",
          "February",
          "February",
          "February",
          "February",
          "February",
          "February",
          "February",
          "February",
          "February",
          "February",
          "February",
          "February",
          "February",
          "February",
          "February",
          "February",
          "February",
          "February",
          "February",
          "February",
          "February",
          "February",
          "February",
          "February",
          "February",
          "February",
          "February",
          "February",
          "February",
          "February",
          "February",
          "February",
          "February",
          "February",
          "February",
          "February",
          "February",
          "February",
          "February",
          "February",
          "February",
          "February",
          "March",
          "March",
          "March",
          "March",
          "March",
          "March",
          "March",
          "March",
          "March",
          "March",
          "March",
          "March",
          "March",
          "March",
          "March",
          "March",
          "March",
          "March",
          "March",
          "March",
          "March",
          "March",
          "March",
          "March",
          "March",
          "March",
          "March",
          "March",
          "March",
          "March",
          "March",
          "March",
          "March",
          "March",
          "March",
          "March",
          "March",
          "March",
          "March",
          "March",
          "March",
          "March",
          "March",
          "March",
          "March",
          "March",
          "March",
          "March",
          "March",
          "March",
          "March",
          "March",
          "March",
          "March",
          "March",
          "March",
          "March",
          "March",
          "March",
          "April",
          "April",
          "April",
          "April",
          "April",
          "April",
          "April",
          "April",
          "April",
          "April",
          "April",
          "April",
          "April",
          "April",
          "April",
          "April",
          "April",
          "April",
          "April",
          "April",
          "April",
          "April",
          "April",
          "April",
          "April",
          "April",
          "April",
          "April",
          "April",
          "April",
          "April",
          "April",
          "April",
          "April",
          "April",
          "April",
          "April",
          "April",
          "April",
          "April",
          "April",
          "April",
          "April",
          "April",
          "April",
          "April",
          "April",
          "April",
          "April",
          "April",
          "April",
          "April",
          "April",
          "April",
          "April",
          "May",
          "May",
          "May",
          "May",
          "May",
          "May",
          "May",
          "May",
          "May",
          "May",
          "May",
          "May",
          "May",
          "May",
          "May",
          "May",
          "May",
          "May",
          "May",
          "May",
          "May",
          "May",
          "May",
          "May",
          "May",
          "May",
          "May",
          "May",
          "May",
          "May",
          "May",
          "May",
          "May",
          "May",
          "May",
          "May",
          "May",
          "May",
          "May",
          "May",
          "May",
          "May",
          "May",
          "May",
          "May",
          "May",
          "May",
          "May",
          "May",
          "May",
          "May",
          "May",
          "May",
          "May",
          "May",
          "May",
          "May",
          "May",
          "May",
          "May",
          "May",
          "June",
          "June",
          "June",
          "June",
          "June",
          "June",
          "June",
          "June",
          "June",
          "June",
          "June",
          "June",
          "June",
          "June",
          "June",
          "June",
          "June",
          "June",
          "June",
          "June",
          "June",
          "June",
          "June",
          "June",
          "June",
          "June",
          "June",
          "June",
          "June",
          "June",
          "June",
          "June",
          "June",
          "June",
          "June",
          "June",
          "June",
          "June",
          "June",
          "June",
          "June",
          "June",
          "June",
          "June",
          "June",
          "June",
          "June",
          "June",
          "June",
          "June",
          "June",
          "June",
          "June",
          "June",
          "June",
          "July",
          "July",
          "July",
          "July",
          "July",
          "July",
          "July",
          "July",
          "July",
          "July",
          "July",
          "July",
          "July",
          "July",
          "July",
          "July",
          "July",
          "July",
          "July",
          "July",
          "July",
          "July",
          "July",
          "July",
          "July",
          "July",
          "July",
          "July",
          "July",
          "July",
          "July",
          "July",
          "July",
          "July",
          "July",
          "July",
          "July",
          "July",
          "July",
          "July",
          "July",
          "July",
          "July",
          "July",
          "July",
          "July",
          "July",
          "July",
          "July",
          "July",
          "July",
          "July",
          "July",
          "July",
          "July",
          "July",
          "July",
          "July",
          "July",
          "July",
          "July",
          "July",
          "July",
          "July",
          "July",
          "July",
          "July",
          "July",
          "August",
          "August",
          "August",
          "August",
          "August",
          "August",
          "August",
          "August",
          "August",
          "August",
          "August",
          "August",
          "August",
          "August",
          "August",
          "August",
          "August",
          "August",
          "August",
          "August",
          "August",
          "August",
          "August",
          "August",
          "August",
          "August",
          "August",
          "August",
          "August",
          "August",
          "August",
          "August",
          "August",
          "August",
          "August",
          "August",
          "August",
          "August",
          "August",
          "August",
          "August",
          "August",
          "August",
          "August",
          "August",
          "August",
          "August",
          "August",
          "August",
          "August",
          "August",
          "August",
          "August",
          "August",
          "August",
          "August",
          "August",
          "August",
          "August",
          "August",
          "August",
          "August",
          "August",
          "August",
          "September",
          "September",
          "September",
          "September",
          "September",
          "September",
          "September",
          "September",
          "September",
          "September",
          "September",
          "September",
          "September",
          "September",
          "September",
          "September",
          "September",
          "September",
          "September",
          "September",
          "September",
          "September",
          "September",
          "September",
          "September",
          "September",
          "September",
          "September",
          "September",
          "September",
          "September",
          "September",
          "September",
          "September",
          "September",
          "September",
          "September",
          "September",
          "September",
          "September",
          "September",
          "September",
          "September",
          "September",
          "September",
          "September",
          "September",
          "September",
          "September",
          "September",
          "September",
          "September",
          "September",
          "September",
          "September",
          "September",
          "September",
          "September",
          "September",
          "September",
          "September",
          "September",
          "September",
          "September",
          "September",
          "September",
          "September",
          "September",
          "September",
          "September",
          "September",
          "September",
          "October",
          "October",
          "October",
          "October",
          "October",
          "October",
          "October",
          "October",
          "October",
          "October",
          "October",
          "October",
          "October",
          "October",
          "October",
          "October",
          "October",
          "October",
          "October",
          "October",
          "October",
          "October",
          "October",
          "October",
          "October",
          "October",
          "October",
          "October",
          "October",
          "October",
          "October",
          "October",
          "October",
          "October",
          "October",
          "October",
          "October",
          "October",
          "October",
          "October",
          "October",
          "October",
          "October",
          "October",
          "October",
          "October",
          "October",
          "October",
          "October",
          "October",
          "October",
          "October",
          "October",
          "October",
          "October",
          "October",
          "October",
          "October",
          "October",
          "November",
          "November",
          "November",
          "November",
          "November",
          "November",
          "November",
          "November",
          "November",
          "November",
          "November",
          "November",
          "November",
          "November",
          "November",
          "November",
          "November",
          "November",
          "November",
          "November",
          "November",
          "November",
          "November",
          "November",
          "November",
          "November",
          "November",
          "November",
          "November",
          "November",
          "November",
          "November",
          "November",
          "November",
          "November",
          "November",
          "November",
          "November",
          "November",
          "November",
          "November",
          "November",
          "November",
          "November",
          "November",
          "November",
          "November",
          "November",
          "November",
          "November",
          "November",
          "November",
          "November",
          "November",
          "November",
          "November",
          "November",
          "November",
          "November",
          "November",
          "November",
          "November",
          "November",
          "November",
          "November",
          "November",
          "December",
          "December",
          "December",
          "December",
          "December",
          "December",
          "December",
          "December",
          "December",
          "December",
          "December",
          "December",
          "December",
          "December",
          "December",
          "December",
          "December",
          "December",
          "December",
          "December",
          "December",
          "December",
          "December",
          "December",
          "December",
          "December",
          "December",
          "December",
          "December",
          "December",
          "December",
          "December",
          "December",
          "December",
          "December",
          "December",
          "December",
          "December",
          "December",
          "December",
          "December",
          "December",
          "December",
          "December",
          "December",
          "December",
          "December",
          "December",
          "December",
          "December",
          "December",
          "December",
          "December",
          "December",
          "December",
          "December",
          "December",
          "December",
          "December",
          "December",
          "December",
          "December",
          "December",
          "December",
          "December",
          "December",
          "December",
          "December",
          "December",
          "December",
          "December",
          "December"
         ],
         "xaxis": "x",
         "y": [
          244629,
          67387,
          54674,
          25452,
          24801,
          24693,
          24576,
          21542,
          18736,
          17950,
          17802,
          15317,
          14229,
          14214,
          13720,
          13408,
          11951,
          10614,
          9944,
          9932,
          9723,
          9656,
          9013,
          8099,
          7767,
          7647,
          7425,
          7399,
          7366,
          7110,
          6925,
          6780,
          6775,
          6746,
          6710,
          6599,
          6436,
          6431,
          6362,
          6041,
          5924,
          5895,
          5816,
          5759,
          5545,
          5072,
          4995,
          4971,
          4896,
          4887,
          4636,
          4292,
          3787,
          3704,
          3669,
          3465,
          3356,
          3263,
          3246,
          3166,
          3165,
          3148,
          3091,
          2747,
          2586,
          2571,
          2554,
          2354,
          2342,
          2308,
          2289,
          2284,
          2238,
          763083,
          66118,
          52116,
          44275,
          43305,
          28781,
          24968,
          22703,
          21145,
          20064,
          19326,
          17970,
          17814,
          15591,
          15177,
          13745,
          13335,
          13029,
          12324,
          11866,
          11767,
          11713,
          10366,
          10322,
          10026,
          9669,
          9618,
          9200,
          8991,
          8975,
          8482,
          8416,
          8287,
          8280,
          7862,
          7213,
          7049,
          6200,
          6180,
          6107,
          5997,
          5855,
          5807,
          5776,
          5703,
          5677,
          5587,
          5473,
          5264,
          5253,
          5248,
          5221,
          5166,
          5059,
          4329,
          4295,
          3736,
          3540,
          3517,
          3461,
          3245,
          3073,
          3058,
          118878,
          85784,
          31865,
          29994,
          29332,
          27390,
          24903,
          23912,
          23307,
          20786,
          19959,
          19604,
          19210,
          17897,
          17873,
          17765,
          17733,
          16489,
          16256,
          16010,
          15503,
          14771,
          14713,
          13984,
          12760,
          12654,
          12462,
          12262,
          12069,
          12054,
          12052,
          10242,
          10201,
          10059,
          9998,
          9985,
          9917,
          9718,
          9688,
          9466,
          9367,
          9097,
          8887,
          8870,
          8633,
          8619,
          7977,
          7966,
          7869,
          7318,
          7248,
          6901,
          6761,
          6532,
          6369,
          6364,
          6220,
          5403,
          5391,
          413523,
          73725,
          61171,
          50767,
          48448,
          45056,
          43186,
          42407,
          42038,
          39632,
          37012,
          35188,
          29984,
          29804,
          26743,
          26072,
          24968,
          24271,
          22416,
          22216,
          19812,
          19308,
          19139,
          17276,
          15512,
          15174,
          14974,
          14427,
          14375,
          14146,
          14086,
          13567,
          13427,
          12985,
          12533,
          11973,
          10855,
          10814,
          9504,
          9345,
          9187,
          9161,
          8919,
          8903,
          8563,
          8547,
          8133,
          7751,
          7604,
          7284,
          6969,
          6951,
          6900,
          6879,
          6838,
          100485,
          97500,
          62968,
          44110,
          26944,
          25370,
          24682,
          24361,
          24034,
          23105,
          20608,
          20047,
          19489,
          18355,
          18333,
          15621,
          13227,
          13199,
          12681,
          11950,
          11883,
          11158,
          10936,
          10364,
          10192,
          9704,
          9669,
          9642,
          9591,
          9535,
          9496,
          8991,
          8351,
          8194,
          7926,
          7797,
          6899,
          6725,
          6418,
          6388,
          5915,
          5786,
          5693,
          5662,
          5647,
          5502,
          5146,
          5047,
          4749,
          4733,
          4622,
          4443,
          4401,
          4329,
          4203,
          4044,
          4016,
          3967,
          3768,
          3767,
          3648,
          91177,
          53951,
          39332,
          29057,
          24018,
          23355,
          22222,
          21308,
          21072,
          17516,
          17363,
          13601,
          13584,
          12933,
          11980,
          11666,
          11384,
          11302,
          11124,
          10942,
          10881,
          10760,
          10389,
          10201,
          9745,
          9730,
          9070,
          9054,
          8920,
          8872,
          8482,
          8247,
          8131,
          8028,
          7931,
          7449,
          7367,
          7248,
          6497,
          6452,
          6396,
          6208,
          6100,
          5902,
          5857,
          5788,
          5675,
          5641,
          5574,
          5244,
          5127,
          5012,
          4832,
          4647,
          4625,
          108750,
          84162,
          73817,
          66657,
          36557,
          28558,
          26535,
          25812,
          24574,
          23866,
          23706,
          23649,
          22851,
          16640,
          15829,
          15721,
          15390,
          15360,
          14767,
          14699,
          14510,
          14264,
          14076,
          14021,
          13291,
          13246,
          13044,
          12958,
          12881,
          12702,
          12113,
          11543,
          11253,
          10692,
          10292,
          9909,
          9801,
          9509,
          9388,
          9340,
          9255,
          9152,
          8336,
          8031,
          7133,
          7083,
          7079,
          7032,
          7019,
          6674,
          6533,
          6446,
          6120,
          5988,
          5977,
          5971,
          5799,
          5273,
          5247,
          5119,
          5093,
          4678,
          4500,
          4379,
          4298,
          4296,
          4293,
          4284,
          153301,
          87449,
          76146,
          73573,
          71070,
          36313,
          32818,
          32427,
          28606,
          24434,
          19807,
          19529,
          19079,
          18343,
          17385,
          16328,
          15298,
          15145,
          14953,
          14926,
          13495,
          12291,
          12003,
          11971,
          11639,
          11445,
          11245,
          10964,
          10912,
          10896,
          10319,
          9912,
          9667,
          7951,
          7705,
          7337,
          7184,
          6414,
          6191,
          5888,
          5759,
          5744,
          5305,
          4949,
          4905,
          4901,
          4841,
          4773,
          4544,
          4490,
          4441,
          4106,
          3924,
          3906,
          3843,
          3694,
          3554,
          3554,
          3491,
          3470,
          3416,
          3395,
          3111,
          3057,
          230804,
          100791,
          59367,
          53993,
          43386,
          41374,
          41227,
          38343,
          37701,
          35999,
          32629,
          22564,
          20479,
          18605,
          18221,
          17255,
          17031,
          16921,
          16518,
          13764,
          13590,
          13423,
          13174,
          13170,
          13139,
          12537,
          12428,
          12343,
          11902,
          11335,
          11006,
          10470,
          10224,
          9868,
          9802,
          9151,
          9045,
          8703,
          8318,
          8146,
          7952,
          7941,
          7696,
          7692,
          7610,
          7561,
          7398,
          7265,
          7095,
          6268,
          6194,
          6170,
          6087,
          5697,
          5457,
          5410,
          5193,
          5139,
          4940,
          4380,
          4152,
          4131,
          4049,
          3918,
          3763,
          3722,
          3657,
          3657,
          3565,
          3534,
          3466,
          3214,
          151997,
          113618,
          77420,
          73144,
          65312,
          55435,
          51682,
          46015,
          44231,
          29159,
          28833,
          20245,
          19463,
          19130,
          17716,
          15404,
          15135,
          14096,
          11907,
          11693,
          11656,
          11291,
          10941,
          10918,
          10876,
          10738,
          10690,
          10394,
          10040,
          9844,
          8944,
          8919,
          8751,
          8628,
          8358,
          8297,
          7912,
          7620,
          7452,
          7201,
          7136,
          7052,
          6920,
          6760,
          5940,
          5752,
          5523,
          5263,
          5261,
          5033,
          4954,
          4836,
          4671,
          4601,
          4539,
          4516,
          4252,
          3949,
          3897,
          293401,
          201258,
          65784,
          42862,
          40802,
          40584,
          39011,
          34131,
          31850,
          29515,
          29234,
          27624,
          25494,
          22359,
          19290,
          17922,
          17761,
          17213,
          16463,
          15391,
          15294,
          15163,
          14282,
          14253,
          14168,
          13360,
          12977,
          12711,
          12604,
          11816,
          11628,
          10507,
          9592,
          9119,
          8924,
          8788,
          8630,
          8554,
          8458,
          8246,
          7867,
          7838,
          7804,
          7388,
          7156,
          6727,
          6401,
          6227,
          6184,
          6138,
          6128,
          6078,
          5691,
          5455,
          5038,
          5035,
          4742,
          4699,
          4507,
          4505,
          4484,
          4350,
          4284,
          4226,
          4035,
          3901,
          135282,
          88389,
          82449,
          43417,
          39268,
          32480,
          30226,
          30165,
          29689,
          26201,
          25312,
          24788,
          24460,
          23988,
          20737,
          19892,
          18815,
          18764,
          17437,
          17307,
          16945,
          16140,
          15549,
          15457,
          15215,
          14402,
          14382,
          14367,
          13393,
          12001,
          11509,
          10811,
          10303,
          10125,
          10098,
          9969,
          9829,
          9656,
          9601,
          9456,
          9318,
          9230,
          9194,
          8609,
          8530,
          8344,
          8120,
          7998,
          7903,
          7486,
          6949,
          5989,
          5362,
          5137,
          4972,
          4708,
          4676,
          4657,
          4656,
          4408,
          3830,
          3710,
          3651,
          3605,
          3403,
          3244,
          3178,
          3117,
          3022,
          2919,
          2730,
          2685
         ],
         "yaxis": "y"
        }
       ],
       "layout": {
        "barmode": "group",
        "legend": {
         "title": {
          "text": "color"
         },
         "tracegroupgap": 0
        },
        "template": {
         "data": {
          "bar": [
           {
            "error_x": {
             "color": "#2a3f5f"
            },
            "error_y": {
             "color": "#2a3f5f"
            },
            "marker": {
             "line": {
              "color": "#E5ECF6",
              "width": 0.5
             },
             "pattern": {
              "fillmode": "overlay",
              "size": 10,
              "solidity": 0.2
             }
            },
            "type": "bar"
           }
          ],
          "barpolar": [
           {
            "marker": {
             "line": {
              "color": "#E5ECF6",
              "width": 0.5
             },
             "pattern": {
              "fillmode": "overlay",
              "size": 10,
              "solidity": 0.2
             }
            },
            "type": "barpolar"
           }
          ],
          "carpet": [
           {
            "aaxis": {
             "endlinecolor": "#2a3f5f",
             "gridcolor": "white",
             "linecolor": "white",
             "minorgridcolor": "white",
             "startlinecolor": "#2a3f5f"
            },
            "baxis": {
             "endlinecolor": "#2a3f5f",
             "gridcolor": "white",
             "linecolor": "white",
             "minorgridcolor": "white",
             "startlinecolor": "#2a3f5f"
            },
            "type": "carpet"
           }
          ],
          "choropleth": [
           {
            "colorbar": {
             "outlinewidth": 0,
             "ticks": ""
            },
            "type": "choropleth"
           }
          ],
          "contour": [
           {
            "colorbar": {
             "outlinewidth": 0,
             "ticks": ""
            },
            "colorscale": [
             [
              0,
              "#0d0887"
             ],
             [
              0.1111111111111111,
              "#46039f"
             ],
             [
              0.2222222222222222,
              "#7201a8"
             ],
             [
              0.3333333333333333,
              "#9c179e"
             ],
             [
              0.4444444444444444,
              "#bd3786"
             ],
             [
              0.5555555555555556,
              "#d8576b"
             ],
             [
              0.6666666666666666,
              "#ed7953"
             ],
             [
              0.7777777777777778,
              "#fb9f3a"
             ],
             [
              0.8888888888888888,
              "#fdca26"
             ],
             [
              1,
              "#f0f921"
             ]
            ],
            "type": "contour"
           }
          ],
          "contourcarpet": [
           {
            "colorbar": {
             "outlinewidth": 0,
             "ticks": ""
            },
            "type": "contourcarpet"
           }
          ],
          "heatmap": [
           {
            "colorbar": {
             "outlinewidth": 0,
             "ticks": ""
            },
            "colorscale": [
             [
              0,
              "#0d0887"
             ],
             [
              0.1111111111111111,
              "#46039f"
             ],
             [
              0.2222222222222222,
              "#7201a8"
             ],
             [
              0.3333333333333333,
              "#9c179e"
             ],
             [
              0.4444444444444444,
              "#bd3786"
             ],
             [
              0.5555555555555556,
              "#d8576b"
             ],
             [
              0.6666666666666666,
              "#ed7953"
             ],
             [
              0.7777777777777778,
              "#fb9f3a"
             ],
             [
              0.8888888888888888,
              "#fdca26"
             ],
             [
              1,
              "#f0f921"
             ]
            ],
            "type": "heatmap"
           }
          ],
          "heatmapgl": [
           {
            "colorbar": {
             "outlinewidth": 0,
             "ticks": ""
            },
            "colorscale": [
             [
              0,
              "#0d0887"
             ],
             [
              0.1111111111111111,
              "#46039f"
             ],
             [
              0.2222222222222222,
              "#7201a8"
             ],
             [
              0.3333333333333333,
              "#9c179e"
             ],
             [
              0.4444444444444444,
              "#bd3786"
             ],
             [
              0.5555555555555556,
              "#d8576b"
             ],
             [
              0.6666666666666666,
              "#ed7953"
             ],
             [
              0.7777777777777778,
              "#fb9f3a"
             ],
             [
              0.8888888888888888,
              "#fdca26"
             ],
             [
              1,
              "#f0f921"
             ]
            ],
            "type": "heatmapgl"
           }
          ],
          "histogram": [
           {
            "marker": {
             "pattern": {
              "fillmode": "overlay",
              "size": 10,
              "solidity": 0.2
             }
            },
            "type": "histogram"
           }
          ],
          "histogram2d": [
           {
            "colorbar": {
             "outlinewidth": 0,
             "ticks": ""
            },
            "colorscale": [
             [
              0,
              "#0d0887"
             ],
             [
              0.1111111111111111,
              "#46039f"
             ],
             [
              0.2222222222222222,
              "#7201a8"
             ],
             [
              0.3333333333333333,
              "#9c179e"
             ],
             [
              0.4444444444444444,
              "#bd3786"
             ],
             [
              0.5555555555555556,
              "#d8576b"
             ],
             [
              0.6666666666666666,
              "#ed7953"
             ],
             [
              0.7777777777777778,
              "#fb9f3a"
             ],
             [
              0.8888888888888888,
              "#fdca26"
             ],
             [
              1,
              "#f0f921"
             ]
            ],
            "type": "histogram2d"
           }
          ],
          "histogram2dcontour": [
           {
            "colorbar": {
             "outlinewidth": 0,
             "ticks": ""
            },
            "colorscale": [
             [
              0,
              "#0d0887"
             ],
             [
              0.1111111111111111,
              "#46039f"
             ],
             [
              0.2222222222222222,
              "#7201a8"
             ],
             [
              0.3333333333333333,
              "#9c179e"
             ],
             [
              0.4444444444444444,
              "#bd3786"
             ],
             [
              0.5555555555555556,
              "#d8576b"
             ],
             [
              0.6666666666666666,
              "#ed7953"
             ],
             [
              0.7777777777777778,
              "#fb9f3a"
             ],
             [
              0.8888888888888888,
              "#fdca26"
             ],
             [
              1,
              "#f0f921"
             ]
            ],
            "type": "histogram2dcontour"
           }
          ],
          "mesh3d": [
           {
            "colorbar": {
             "outlinewidth": 0,
             "ticks": ""
            },
            "type": "mesh3d"
           }
          ],
          "parcoords": [
           {
            "line": {
             "colorbar": {
              "outlinewidth": 0,
              "ticks": ""
             }
            },
            "type": "parcoords"
           }
          ],
          "pie": [
           {
            "automargin": true,
            "type": "pie"
           }
          ],
          "scatter": [
           {
            "marker": {
             "colorbar": {
              "outlinewidth": 0,
              "ticks": ""
             }
            },
            "type": "scatter"
           }
          ],
          "scatter3d": [
           {
            "line": {
             "colorbar": {
              "outlinewidth": 0,
              "ticks": ""
             }
            },
            "marker": {
             "colorbar": {
              "outlinewidth": 0,
              "ticks": ""
             }
            },
            "type": "scatter3d"
           }
          ],
          "scattercarpet": [
           {
            "marker": {
             "colorbar": {
              "outlinewidth": 0,
              "ticks": ""
             }
            },
            "type": "scattercarpet"
           }
          ],
          "scattergeo": [
           {
            "marker": {
             "colorbar": {
              "outlinewidth": 0,
              "ticks": ""
             }
            },
            "type": "scattergeo"
           }
          ],
          "scattergl": [
           {
            "marker": {
             "colorbar": {
              "outlinewidth": 0,
              "ticks": ""
             }
            },
            "type": "scattergl"
           }
          ],
          "scattermapbox": [
           {
            "marker": {
             "colorbar": {
              "outlinewidth": 0,
              "ticks": ""
             }
            },
            "type": "scattermapbox"
           }
          ],
          "scatterpolar": [
           {
            "marker": {
             "colorbar": {
              "outlinewidth": 0,
              "ticks": ""
             }
            },
            "type": "scatterpolar"
           }
          ],
          "scatterpolargl": [
           {
            "marker": {
             "colorbar": {
              "outlinewidth": 0,
              "ticks": ""
             }
            },
            "type": "scatterpolargl"
           }
          ],
          "scatterternary": [
           {
            "marker": {
             "colorbar": {
              "outlinewidth": 0,
              "ticks": ""
             }
            },
            "type": "scatterternary"
           }
          ],
          "surface": [
           {
            "colorbar": {
             "outlinewidth": 0,
             "ticks": ""
            },
            "colorscale": [
             [
              0,
              "#0d0887"
             ],
             [
              0.1111111111111111,
              "#46039f"
             ],
             [
              0.2222222222222222,
              "#7201a8"
             ],
             [
              0.3333333333333333,
              "#9c179e"
             ],
             [
              0.4444444444444444,
              "#bd3786"
             ],
             [
              0.5555555555555556,
              "#d8576b"
             ],
             [
              0.6666666666666666,
              "#ed7953"
             ],
             [
              0.7777777777777778,
              "#fb9f3a"
             ],
             [
              0.8888888888888888,
              "#fdca26"
             ],
             [
              1,
              "#f0f921"
             ]
            ],
            "type": "surface"
           }
          ],
          "table": [
           {
            "cells": {
             "fill": {
              "color": "#EBF0F8"
             },
             "line": {
              "color": "white"
             }
            },
            "header": {
             "fill": {
              "color": "#C8D4E3"
             },
             "line": {
              "color": "white"
             }
            },
            "type": "table"
           }
          ]
         },
         "layout": {
          "annotationdefaults": {
           "arrowcolor": "#2a3f5f",
           "arrowhead": 0,
           "arrowwidth": 1
          },
          "autotypenumbers": "strict",
          "coloraxis": {
           "colorbar": {
            "outlinewidth": 0,
            "ticks": ""
           }
          },
          "colorscale": {
           "diverging": [
            [
             0,
             "#8e0152"
            ],
            [
             0.1,
             "#c51b7d"
            ],
            [
             0.2,
             "#de77ae"
            ],
            [
             0.3,
             "#f1b6da"
            ],
            [
             0.4,
             "#fde0ef"
            ],
            [
             0.5,
             "#f7f7f7"
            ],
            [
             0.6,
             "#e6f5d0"
            ],
            [
             0.7,
             "#b8e186"
            ],
            [
             0.8,
             "#7fbc41"
            ],
            [
             0.9,
             "#4d9221"
            ],
            [
             1,
             "#276419"
            ]
           ],
           "sequential": [
            [
             0,
             "#0d0887"
            ],
            [
             0.1111111111111111,
             "#46039f"
            ],
            [
             0.2222222222222222,
             "#7201a8"
            ],
            [
             0.3333333333333333,
             "#9c179e"
            ],
            [
             0.4444444444444444,
             "#bd3786"
            ],
            [
             0.5555555555555556,
             "#d8576b"
            ],
            [
             0.6666666666666666,
             "#ed7953"
            ],
            [
             0.7777777777777778,
             "#fb9f3a"
            ],
            [
             0.8888888888888888,
             "#fdca26"
            ],
            [
             1,
             "#f0f921"
            ]
           ],
           "sequentialminus": [
            [
             0,
             "#0d0887"
            ],
            [
             0.1111111111111111,
             "#46039f"
            ],
            [
             0.2222222222222222,
             "#7201a8"
            ],
            [
             0.3333333333333333,
             "#9c179e"
            ],
            [
             0.4444444444444444,
             "#bd3786"
            ],
            [
             0.5555555555555556,
             "#d8576b"
            ],
            [
             0.6666666666666666,
             "#ed7953"
            ],
            [
             0.7777777777777778,
             "#fb9f3a"
            ],
            [
             0.8888888888888888,
             "#fdca26"
            ],
            [
             1,
             "#f0f921"
            ]
           ]
          },
          "colorway": [
           "#636efa",
           "#EF553B",
           "#00cc96",
           "#ab63fa",
           "#FFA15A",
           "#19d3f3",
           "#FF6692",
           "#B6E880",
           "#FF97FF",
           "#FECB52"
          ],
          "font": {
           "color": "#2a3f5f"
          },
          "geo": {
           "bgcolor": "white",
           "lakecolor": "white",
           "landcolor": "#E5ECF6",
           "showlakes": true,
           "showland": true,
           "subunitcolor": "white"
          },
          "hoverlabel": {
           "align": "left"
          },
          "hovermode": "closest",
          "mapbox": {
           "style": "light"
          },
          "paper_bgcolor": "white",
          "plot_bgcolor": "#E5ECF6",
          "polar": {
           "angularaxis": {
            "gridcolor": "white",
            "linecolor": "white",
            "ticks": ""
           },
           "bgcolor": "#E5ECF6",
           "radialaxis": {
            "gridcolor": "white",
            "linecolor": "white",
            "ticks": ""
           }
          },
          "scene": {
           "xaxis": {
            "backgroundcolor": "#E5ECF6",
            "gridcolor": "white",
            "gridwidth": 2,
            "linecolor": "white",
            "showbackground": true,
            "ticks": "",
            "zerolinecolor": "white"
           },
           "yaxis": {
            "backgroundcolor": "#E5ECF6",
            "gridcolor": "white",
            "gridwidth": 2,
            "linecolor": "white",
            "showbackground": true,
            "ticks": "",
            "zerolinecolor": "white"
           },
           "zaxis": {
            "backgroundcolor": "#E5ECF6",
            "gridcolor": "white",
            "gridwidth": 2,
            "linecolor": "white",
            "showbackground": true,
            "ticks": "",
            "zerolinecolor": "white"
           }
          },
          "shapedefaults": {
           "line": {
            "color": "#2a3f5f"
           }
          },
          "ternary": {
           "aaxis": {
            "gridcolor": "white",
            "linecolor": "white",
            "ticks": ""
           },
           "baxis": {
            "gridcolor": "white",
            "linecolor": "white",
            "ticks": ""
           },
           "bgcolor": "#E5ECF6",
           "caxis": {
            "gridcolor": "white",
            "linecolor": "white",
            "ticks": ""
           }
          },
          "title": {
           "x": 0.05
          },
          "xaxis": {
           "automargin": true,
           "gridcolor": "white",
           "linecolor": "white",
           "ticks": "",
           "title": {
            "standoff": 15
           },
           "zerolinecolor": "white",
           "zerolinewidth": 2
          },
          "yaxis": {
           "automargin": true,
           "gridcolor": "white",
           "linecolor": "white",
           "ticks": "",
           "title": {
            "standoff": 15
           },
           "zerolinecolor": "white",
           "zerolinewidth": 2
          }
         }
        },
        "title": {
         "text": "Total New Sales Per Month"
        },
        "xaxis": {
         "anchor": "y",
         "domain": [
          0,
          1
         ],
         "title": {
          "text": "month_name"
         }
        },
        "yaxis": {
         "anchor": "x",
         "domain": [
          0,
          1
         ],
         "title": {
          "text": "sum of new_sales"
         }
        }
       }
      }
     },
     "metadata": {},
     "output_type": "display_data"
    }
   ],
   "source": [
    "# Histogram of new sales of Top 10 albums by month\n",
    "px.histogram(df, x=\"month_name\", y=\"new_sales\", nbins=12, barmode='group', color=df[\"rank_change\"].where(df[\"rank_change\"] == \"new\", \"previously released\"), title='Total New Sales Per Month')"
   ]
  },
  {
   "cell_type": "markdown",
   "metadata": {},
   "source": [
    "### Monthly Data"
   ]
  },
  {
   "cell_type": "markdown",
   "metadata": {},
   "source": [
    "#### Monthly Top 10 Albums"
   ]
  },
  {
   "cell_type": "code",
   "execution_count": 22,
   "metadata": {},
   "outputs": [
    {
     "data": {
      "text/html": [
       "<div>\n",
       "<style scoped>\n",
       "    .dataframe tbody tr th:only-of-type {\n",
       "        vertical-align: middle;\n",
       "    }\n",
       "\n",
       "    .dataframe tbody tr th {\n",
       "        vertical-align: top;\n",
       "    }\n",
       "\n",
       "    .dataframe thead th {\n",
       "        text-align: right;\n",
       "    }\n",
       "</style>\n",
       "<table border=\"1\" class=\"dataframe\">\n",
       "  <thead>\n",
       "    <tr style=\"text-align: right;\">\n",
       "      <th></th>\n",
       "      <th>month</th>\n",
       "      <th>month_name</th>\n",
       "      <th>album_rank</th>\n",
       "      <th>rank_change</th>\n",
       "      <th>rank_difference</th>\n",
       "      <th>title</th>\n",
       "      <th>artist</th>\n",
       "      <th>new_sales</th>\n",
       "      <th>cumulative_sales</th>\n",
       "      <th>production</th>\n",
       "    </tr>\n",
       "  </thead>\n",
       "  <tbody>\n",
       "    <tr>\n",
       "      <th>0</th>\n",
       "      <td>1</td>\n",
       "      <td>January</td>\n",
       "      <td>1</td>\n",
       "      <td>new</td>\n",
       "      <td>NaN</td>\n",
       "      <td>THE FIRST STEP : TREASURE EFFECT</td>\n",
       "      <td>TREASURE</td>\n",
       "      <td>266894</td>\n",
       "      <td>266894</td>\n",
       "      <td>YG PLUS</td>\n",
       "    </tr>\n",
       "    <tr>\n",
       "      <th>1</th>\n",
       "      <td>1</td>\n",
       "      <td>January</td>\n",
       "      <td>2</td>\n",
       "      <td>down</td>\n",
       "      <td>-1.0</td>\n",
       "      <td>NCT RESONANCE Pt. 2 - The 2nd Album</td>\n",
       "      <td>NCT</td>\n",
       "      <td>244629</td>\n",
       "      <td>244629</td>\n",
       "      <td>Dreamus</td>\n",
       "    </tr>\n",
       "    <tr>\n",
       "      <th>2</th>\n",
       "      <td>1</td>\n",
       "      <td>January</td>\n",
       "      <td>3</td>\n",
       "      <td>new</td>\n",
       "      <td>NaN</td>\n",
       "      <td>I burn</td>\n",
       "      <td>(G)I-DLE</td>\n",
       "      <td>159268</td>\n",
       "      <td>159268</td>\n",
       "      <td>Kakao Entertainment</td>\n",
       "    </tr>\n",
       "    <tr>\n",
       "      <th>3</th>\n",
       "      <td>1</td>\n",
       "      <td>January</td>\n",
       "      <td>4</td>\n",
       "      <td>new</td>\n",
       "      <td>NaN</td>\n",
       "      <td>NOIR - The 2nd Mini Album</td>\n",
       "      <td>U-KNOW</td>\n",
       "      <td>138236</td>\n",
       "      <td>138236</td>\n",
       "      <td>Dreamus</td>\n",
       "    </tr>\n",
       "    <tr>\n",
       "      <th>4</th>\n",
       "      <td>1</td>\n",
       "      <td>January</td>\n",
       "      <td>5</td>\n",
       "      <td>new</td>\n",
       "      <td>NaN</td>\n",
       "      <td>HIDEOUT: BE OUR VOICE - SEASON 3.</td>\n",
       "      <td>CRAVITY</td>\n",
       "      <td>112301</td>\n",
       "      <td>112301</td>\n",
       "      <td>Kakao Entertainment</td>\n",
       "    </tr>\n",
       "    <tr>\n",
       "      <th>5</th>\n",
       "      <td>1</td>\n",
       "      <td>January</td>\n",
       "      <td>6</td>\n",
       "      <td>new</td>\n",
       "      <td>NaN</td>\n",
       "      <td>DEVIL</td>\n",
       "      <td>ONEUS</td>\n",
       "      <td>98014</td>\n",
       "      <td>98014</td>\n",
       "      <td>Kakao Entertainment</td>\n",
       "    </tr>\n",
       "    <tr>\n",
       "      <th>6</th>\n",
       "      <td>1</td>\n",
       "      <td>January</td>\n",
       "      <td>7</td>\n",
       "      <td>new</td>\n",
       "      <td>NaN</td>\n",
       "      <td>Dystopia : Road to Utopia</td>\n",
       "      <td>Dreamcatcher</td>\n",
       "      <td>91469</td>\n",
       "      <td>91469</td>\n",
       "      <td>Genie Music</td>\n",
       "    </tr>\n",
       "    <tr>\n",
       "      <th>7</th>\n",
       "      <td>1</td>\n",
       "      <td>January</td>\n",
       "      <td>8</td>\n",
       "      <td>new</td>\n",
       "      <td>NaN</td>\n",
       "      <td>VOICE : The future is now</td>\n",
       "      <td>VICTON</td>\n",
       "      <td>89960</td>\n",
       "      <td>89960</td>\n",
       "      <td>Kakao Entertainment</td>\n",
       "    </tr>\n",
       "    <tr>\n",
       "      <th>8</th>\n",
       "      <td>1</td>\n",
       "      <td>January</td>\n",
       "      <td>9</td>\n",
       "      <td>new</td>\n",
       "      <td>NaN</td>\n",
       "      <td>5th Mini Album [YES.]</td>\n",
       "      <td>Golden Child</td>\n",
       "      <td>74863</td>\n",
       "      <td>74863</td>\n",
       "      <td>Kakao Entertainment</td>\n",
       "    </tr>\n",
       "    <tr>\n",
       "      <th>9</th>\n",
       "      <td>1</td>\n",
       "      <td>January</td>\n",
       "      <td>10</td>\n",
       "      <td>up</td>\n",
       "      <td>16.0</td>\n",
       "      <td>THE ALBUM</td>\n",
       "      <td>BLACKPINK</td>\n",
       "      <td>67387</td>\n",
       "      <td>67387</td>\n",
       "      <td>YG PLUS</td>\n",
       "    </tr>\n",
       "  </tbody>\n",
       "</table>\n",
       "</div>"
      ],
      "text/plain": [
       "   month month_name  album_rank rank_change  rank_difference  \\\n",
       "0      1    January           1         new              NaN   \n",
       "1      1    January           2        down             -1.0   \n",
       "2      1    January           3         new              NaN   \n",
       "3      1    January           4         new              NaN   \n",
       "4      1    January           5         new              NaN   \n",
       "5      1    January           6         new              NaN   \n",
       "6      1    January           7         new              NaN   \n",
       "7      1    January           8         new              NaN   \n",
       "8      1    January           9         new              NaN   \n",
       "9      1    January          10          up             16.0   \n",
       "\n",
       "                                 title        artist  new_sales  \\\n",
       "0     THE FIRST STEP : TREASURE EFFECT     TREASURE      266894   \n",
       "1  NCT RESONANCE Pt. 2 - The 2nd Album           NCT     244629   \n",
       "2                               I burn      (G)I-DLE     159268   \n",
       "3            NOIR - The 2nd Mini Album        U-KNOW     138236   \n",
       "4    HIDEOUT: BE OUR VOICE - SEASON 3.       CRAVITY     112301   \n",
       "5                                DEVIL         ONEUS      98014   \n",
       "6            Dystopia : Road to Utopia  Dreamcatcher      91469   \n",
       "7            VOICE : The future is now       VICTON       89960   \n",
       "8                5th Mini Album [YES.]  Golden Child      74863   \n",
       "9                            THE ALBUM     BLACKPINK      67387   \n",
       "\n",
       "   cumulative_sales           production  \n",
       "0            266894              YG PLUS  \n",
       "1            244629              Dreamus  \n",
       "2            159268  Kakao Entertainment  \n",
       "3            138236              Dreamus  \n",
       "4            112301  Kakao Entertainment  \n",
       "5             98014  Kakao Entertainment  \n",
       "6             91469          Genie Music  \n",
       "7             89960  Kakao Entertainment  \n",
       "8             74863  Kakao Entertainment  \n",
       "9             67387              YG PLUS  "
      ]
     },
     "execution_count": 22,
     "metadata": {},
     "output_type": "execute_result"
    }
   ],
   "source": [
    "# Get Top 10 of each month\n",
    "monthly_top_10 = df.groupby(\"month\").head(10)\n",
    "monthly_top_10.loc[monthly_top_10[\"month\"] == 1]"
   ]
  },
  {
   "cell_type": "code",
   "execution_count": 23,
   "metadata": {},
   "outputs": [
    {
     "data": {
      "application/vnd.plotly.v1+json": {
       "config": {
        "plotlyServerURL": "https://plot.ly"
       },
       "data": [
        {
         "alignmentgroup": "True",
         "bingroup": "x",
         "histfunc": "sum",
         "hovertemplate": "artist=BAEKHYUN<br>title=%{x}<br>sum of new_sales=%{y}<extra></extra>",
         "legendgroup": "BAEKHYUN",
         "marker": {
          "color": "#636efa",
          "pattern": {
           "shape": ""
          }
         },
         "name": "BAEKHYUN",
         "offsetgroup": "BAEKHYUN",
         "orientation": "v",
         "showlegend": true,
         "type": "histogram",
         "x": [
          "Bambi - The 3rd Mini Album"
         ],
         "xaxis": "x",
         "y": [
          591944
         ],
         "yaxis": "y"
        },
        {
         "alignmentgroup": "True",
         "bingroup": "x",
         "histfunc": "sum",
         "hovertemplate": "artist=Super Junior<br>title=%{x}<br>sum of new_sales=%{y}<extra></extra>",
         "legendgroup": "Super Junior",
         "marker": {
          "color": "#EF553B",
          "pattern": {
           "shape": ""
          }
         },
         "name": "Super Junior",
         "offsetgroup": "Super Junior",
         "orientation": "v",
         "showlegend": true,
         "type": "histogram",
         "x": [
          "The Renaissance - The 10th Album"
         ],
         "xaxis": "x",
         "y": [
          433065
         ],
         "yaxis": "y"
        },
        {
         "alignmentgroup": "True",
         "bingroup": "x",
         "histfunc": "sum",
         "hovertemplate": "artist=ROSE<br>title=%{x}<br>sum of new_sales=%{y}<extra></extra>",
         "legendgroup": "ROSE",
         "marker": {
          "color": "#00cc96",
          "pattern": {
           "shape": ""
          }
         },
         "name": "ROSE",
         "offsetgroup": "ROSE",
         "orientation": "v",
         "showlegend": true,
         "type": "histogram",
         "x": [
          "R"
         ],
         "xaxis": "x",
         "y": [
          394156
         ],
         "yaxis": "y"
        },
        {
         "alignmentgroup": "True",
         "bingroup": "x",
         "histfunc": "sum",
         "hovertemplate": "artist=ATEEZ <br>title=%{x}<br>sum of new_sales=%{y}<extra></extra>",
         "legendgroup": "ATEEZ ",
         "marker": {
          "color": "#ab63fa",
          "pattern": {
           "shape": ""
          }
         },
         "name": "ATEEZ ",
         "offsetgroup": "ATEEZ ",
         "orientation": "v",
         "showlegend": true,
         "type": "histogram",
         "x": [
          "ZERO : FEVER Part.2"
         ],
         "xaxis": "x",
         "y": [
          380711
         ],
         "yaxis": "y"
        },
        {
         "alignmentgroup": "True",
         "bingroup": "x",
         "histfunc": "sum",
         "hovertemplate": "artist=IU<br>title=%{x}<br>sum of new_sales=%{y}<extra></extra>",
         "legendgroup": "IU",
         "marker": {
          "color": "#FFA15A",
          "pattern": {
           "shape": ""
          }
         },
         "name": "IU",
         "offsetgroup": "IU",
         "orientation": "v",
         "showlegend": true,
         "type": "histogram",
         "x": [
          "5th Album 'LILAC'"
         ],
         "xaxis": "x",
         "y": [
          344018
         ],
         "yaxis": "y"
        },
        {
         "alignmentgroup": "True",
         "bingroup": "x",
         "histfunc": "sum",
         "hovertemplate": "artist=WayV<br>title=%{x}<br>sum of new_sales=%{y}<extra></extra>",
         "legendgroup": "WayV",
         "marker": {
          "color": "#19d3f3",
          "pattern": {
           "shape": ""
          }
         },
         "name": "WayV",
         "offsetgroup": "WayV",
         "orientation": "v",
         "showlegend": true,
         "type": "histogram",
         "x": [
          "Kick Back - The 3rd Mini Album"
         ],
         "xaxis": "x",
         "y": [
          226535
         ],
         "yaxis": "y"
        },
        {
         "alignmentgroup": "True",
         "bingroup": "x",
         "histfunc": "sum",
         "hovertemplate": "artist=BTS<br>title=%{x}<br>sum of new_sales=%{y}<extra></extra>",
         "legendgroup": "BTS",
         "marker": {
          "color": "#FF6692",
          "pattern": {
           "shape": ""
          }
         },
         "name": "BTS",
         "offsetgroup": "BTS",
         "orientation": "v",
         "showlegend": true,
         "type": "histogram",
         "x": [
          "BE"
         ],
         "xaxis": "x",
         "y": [
          118878
         ],
         "yaxis": "y"
        },
        {
         "alignmentgroup": "True",
         "bingroup": "x",
         "histfunc": "sum",
         "hovertemplate": "artist=PENTAGON<br>title=%{x}<br>sum of new_sales=%{y}<extra></extra>",
         "legendgroup": "PENTAGON",
         "marker": {
          "color": "#B6E880",
          "pattern": {
           "shape": ""
          }
         },
         "name": "PENTAGON",
         "offsetgroup": "PENTAGON",
         "orientation": "v",
         "showlegend": true,
         "type": "histogram",
         "x": [
          "LOVE or TAKE"
         ],
         "xaxis": "x",
         "y": [
          88552
         ],
         "yaxis": "y"
        },
        {
         "alignmentgroup": "True",
         "bingroup": "x",
         "histfunc": "sum",
         "hovertemplate": "artist=SHINee<br>title=%{x}<br>sum of new_sales=%{y}<extra></extra>",
         "legendgroup": "SHINee",
         "marker": {
          "color": "#FF97FF",
          "pattern": {
           "shape": ""
          }
         },
         "name": "SHINee",
         "offsetgroup": "SHINee",
         "orientation": "v",
         "showlegend": true,
         "type": "histogram",
         "x": [
          "Don`t Call Me - The 7th Album"
         ],
         "xaxis": "x",
         "y": [
          85784
         ],
         "yaxis": "y"
        },
        {
         "alignmentgroup": "True",
         "bingroup": "x",
         "histfunc": "sum",
         "hovertemplate": "artist=WOODZ <br>title=%{x}<br>sum of new_sales=%{y}<extra></extra>",
         "legendgroup": "WOODZ ",
         "marker": {
          "color": "#FECB52",
          "pattern": {
           "shape": ""
          }
         },
         "name": "WOODZ ",
         "offsetgroup": "WOODZ ",
         "orientation": "v",
         "showlegend": true,
         "type": "histogram",
         "x": [
          "SET"
         ],
         "xaxis": "x",
         "y": [
          79449
         ],
         "yaxis": "y"
        }
       ],
       "layout": {
        "barmode": "relative",
        "legend": {
         "title": {
          "text": "artist"
         },
         "tracegroupgap": 0
        },
        "template": {
         "data": {
          "bar": [
           {
            "error_x": {
             "color": "#2a3f5f"
            },
            "error_y": {
             "color": "#2a3f5f"
            },
            "marker": {
             "line": {
              "color": "#E5ECF6",
              "width": 0.5
             },
             "pattern": {
              "fillmode": "overlay",
              "size": 10,
              "solidity": 0.2
             }
            },
            "type": "bar"
           }
          ],
          "barpolar": [
           {
            "marker": {
             "line": {
              "color": "#E5ECF6",
              "width": 0.5
             },
             "pattern": {
              "fillmode": "overlay",
              "size": 10,
              "solidity": 0.2
             }
            },
            "type": "barpolar"
           }
          ],
          "carpet": [
           {
            "aaxis": {
             "endlinecolor": "#2a3f5f",
             "gridcolor": "white",
             "linecolor": "white",
             "minorgridcolor": "white",
             "startlinecolor": "#2a3f5f"
            },
            "baxis": {
             "endlinecolor": "#2a3f5f",
             "gridcolor": "white",
             "linecolor": "white",
             "minorgridcolor": "white",
             "startlinecolor": "#2a3f5f"
            },
            "type": "carpet"
           }
          ],
          "choropleth": [
           {
            "colorbar": {
             "outlinewidth": 0,
             "ticks": ""
            },
            "type": "choropleth"
           }
          ],
          "contour": [
           {
            "colorbar": {
             "outlinewidth": 0,
             "ticks": ""
            },
            "colorscale": [
             [
              0,
              "#0d0887"
             ],
             [
              0.1111111111111111,
              "#46039f"
             ],
             [
              0.2222222222222222,
              "#7201a8"
             ],
             [
              0.3333333333333333,
              "#9c179e"
             ],
             [
              0.4444444444444444,
              "#bd3786"
             ],
             [
              0.5555555555555556,
              "#d8576b"
             ],
             [
              0.6666666666666666,
              "#ed7953"
             ],
             [
              0.7777777777777778,
              "#fb9f3a"
             ],
             [
              0.8888888888888888,
              "#fdca26"
             ],
             [
              1,
              "#f0f921"
             ]
            ],
            "type": "contour"
           }
          ],
          "contourcarpet": [
           {
            "colorbar": {
             "outlinewidth": 0,
             "ticks": ""
            },
            "type": "contourcarpet"
           }
          ],
          "heatmap": [
           {
            "colorbar": {
             "outlinewidth": 0,
             "ticks": ""
            },
            "colorscale": [
             [
              0,
              "#0d0887"
             ],
             [
              0.1111111111111111,
              "#46039f"
             ],
             [
              0.2222222222222222,
              "#7201a8"
             ],
             [
              0.3333333333333333,
              "#9c179e"
             ],
             [
              0.4444444444444444,
              "#bd3786"
             ],
             [
              0.5555555555555556,
              "#d8576b"
             ],
             [
              0.6666666666666666,
              "#ed7953"
             ],
             [
              0.7777777777777778,
              "#fb9f3a"
             ],
             [
              0.8888888888888888,
              "#fdca26"
             ],
             [
              1,
              "#f0f921"
             ]
            ],
            "type": "heatmap"
           }
          ],
          "heatmapgl": [
           {
            "colorbar": {
             "outlinewidth": 0,
             "ticks": ""
            },
            "colorscale": [
             [
              0,
              "#0d0887"
             ],
             [
              0.1111111111111111,
              "#46039f"
             ],
             [
              0.2222222222222222,
              "#7201a8"
             ],
             [
              0.3333333333333333,
              "#9c179e"
             ],
             [
              0.4444444444444444,
              "#bd3786"
             ],
             [
              0.5555555555555556,
              "#d8576b"
             ],
             [
              0.6666666666666666,
              "#ed7953"
             ],
             [
              0.7777777777777778,
              "#fb9f3a"
             ],
             [
              0.8888888888888888,
              "#fdca26"
             ],
             [
              1,
              "#f0f921"
             ]
            ],
            "type": "heatmapgl"
           }
          ],
          "histogram": [
           {
            "marker": {
             "pattern": {
              "fillmode": "overlay",
              "size": 10,
              "solidity": 0.2
             }
            },
            "type": "histogram"
           }
          ],
          "histogram2d": [
           {
            "colorbar": {
             "outlinewidth": 0,
             "ticks": ""
            },
            "colorscale": [
             [
              0,
              "#0d0887"
             ],
             [
              0.1111111111111111,
              "#46039f"
             ],
             [
              0.2222222222222222,
              "#7201a8"
             ],
             [
              0.3333333333333333,
              "#9c179e"
             ],
             [
              0.4444444444444444,
              "#bd3786"
             ],
             [
              0.5555555555555556,
              "#d8576b"
             ],
             [
              0.6666666666666666,
              "#ed7953"
             ],
             [
              0.7777777777777778,
              "#fb9f3a"
             ],
             [
              0.8888888888888888,
              "#fdca26"
             ],
             [
              1,
              "#f0f921"
             ]
            ],
            "type": "histogram2d"
           }
          ],
          "histogram2dcontour": [
           {
            "colorbar": {
             "outlinewidth": 0,
             "ticks": ""
            },
            "colorscale": [
             [
              0,
              "#0d0887"
             ],
             [
              0.1111111111111111,
              "#46039f"
             ],
             [
              0.2222222222222222,
              "#7201a8"
             ],
             [
              0.3333333333333333,
              "#9c179e"
             ],
             [
              0.4444444444444444,
              "#bd3786"
             ],
             [
              0.5555555555555556,
              "#d8576b"
             ],
             [
              0.6666666666666666,
              "#ed7953"
             ],
             [
              0.7777777777777778,
              "#fb9f3a"
             ],
             [
              0.8888888888888888,
              "#fdca26"
             ],
             [
              1,
              "#f0f921"
             ]
            ],
            "type": "histogram2dcontour"
           }
          ],
          "mesh3d": [
           {
            "colorbar": {
             "outlinewidth": 0,
             "ticks": ""
            },
            "type": "mesh3d"
           }
          ],
          "parcoords": [
           {
            "line": {
             "colorbar": {
              "outlinewidth": 0,
              "ticks": ""
             }
            },
            "type": "parcoords"
           }
          ],
          "pie": [
           {
            "automargin": true,
            "type": "pie"
           }
          ],
          "scatter": [
           {
            "marker": {
             "colorbar": {
              "outlinewidth": 0,
              "ticks": ""
             }
            },
            "type": "scatter"
           }
          ],
          "scatter3d": [
           {
            "line": {
             "colorbar": {
              "outlinewidth": 0,
              "ticks": ""
             }
            },
            "marker": {
             "colorbar": {
              "outlinewidth": 0,
              "ticks": ""
             }
            },
            "type": "scatter3d"
           }
          ],
          "scattercarpet": [
           {
            "marker": {
             "colorbar": {
              "outlinewidth": 0,
              "ticks": ""
             }
            },
            "type": "scattercarpet"
           }
          ],
          "scattergeo": [
           {
            "marker": {
             "colorbar": {
              "outlinewidth": 0,
              "ticks": ""
             }
            },
            "type": "scattergeo"
           }
          ],
          "scattergl": [
           {
            "marker": {
             "colorbar": {
              "outlinewidth": 0,
              "ticks": ""
             }
            },
            "type": "scattergl"
           }
          ],
          "scattermapbox": [
           {
            "marker": {
             "colorbar": {
              "outlinewidth": 0,
              "ticks": ""
             }
            },
            "type": "scattermapbox"
           }
          ],
          "scatterpolar": [
           {
            "marker": {
             "colorbar": {
              "outlinewidth": 0,
              "ticks": ""
             }
            },
            "type": "scatterpolar"
           }
          ],
          "scatterpolargl": [
           {
            "marker": {
             "colorbar": {
              "outlinewidth": 0,
              "ticks": ""
             }
            },
            "type": "scatterpolargl"
           }
          ],
          "scatterternary": [
           {
            "marker": {
             "colorbar": {
              "outlinewidth": 0,
              "ticks": ""
             }
            },
            "type": "scatterternary"
           }
          ],
          "surface": [
           {
            "colorbar": {
             "outlinewidth": 0,
             "ticks": ""
            },
            "colorscale": [
             [
              0,
              "#0d0887"
             ],
             [
              0.1111111111111111,
              "#46039f"
             ],
             [
              0.2222222222222222,
              "#7201a8"
             ],
             [
              0.3333333333333333,
              "#9c179e"
             ],
             [
              0.4444444444444444,
              "#bd3786"
             ],
             [
              0.5555555555555556,
              "#d8576b"
             ],
             [
              0.6666666666666666,
              "#ed7953"
             ],
             [
              0.7777777777777778,
              "#fb9f3a"
             ],
             [
              0.8888888888888888,
              "#fdca26"
             ],
             [
              1,
              "#f0f921"
             ]
            ],
            "type": "surface"
           }
          ],
          "table": [
           {
            "cells": {
             "fill": {
              "color": "#EBF0F8"
             },
             "line": {
              "color": "white"
             }
            },
            "header": {
             "fill": {
              "color": "#C8D4E3"
             },
             "line": {
              "color": "white"
             }
            },
            "type": "table"
           }
          ]
         },
         "layout": {
          "annotationdefaults": {
           "arrowcolor": "#2a3f5f",
           "arrowhead": 0,
           "arrowwidth": 1
          },
          "autotypenumbers": "strict",
          "coloraxis": {
           "colorbar": {
            "outlinewidth": 0,
            "ticks": ""
           }
          },
          "colorscale": {
           "diverging": [
            [
             0,
             "#8e0152"
            ],
            [
             0.1,
             "#c51b7d"
            ],
            [
             0.2,
             "#de77ae"
            ],
            [
             0.3,
             "#f1b6da"
            ],
            [
             0.4,
             "#fde0ef"
            ],
            [
             0.5,
             "#f7f7f7"
            ],
            [
             0.6,
             "#e6f5d0"
            ],
            [
             0.7,
             "#b8e186"
            ],
            [
             0.8,
             "#7fbc41"
            ],
            [
             0.9,
             "#4d9221"
            ],
            [
             1,
             "#276419"
            ]
           ],
           "sequential": [
            [
             0,
             "#0d0887"
            ],
            [
             0.1111111111111111,
             "#46039f"
            ],
            [
             0.2222222222222222,
             "#7201a8"
            ],
            [
             0.3333333333333333,
             "#9c179e"
            ],
            [
             0.4444444444444444,
             "#bd3786"
            ],
            [
             0.5555555555555556,
             "#d8576b"
            ],
            [
             0.6666666666666666,
             "#ed7953"
            ],
            [
             0.7777777777777778,
             "#fb9f3a"
            ],
            [
             0.8888888888888888,
             "#fdca26"
            ],
            [
             1,
             "#f0f921"
            ]
           ],
           "sequentialminus": [
            [
             0,
             "#0d0887"
            ],
            [
             0.1111111111111111,
             "#46039f"
            ],
            [
             0.2222222222222222,
             "#7201a8"
            ],
            [
             0.3333333333333333,
             "#9c179e"
            ],
            [
             0.4444444444444444,
             "#bd3786"
            ],
            [
             0.5555555555555556,
             "#d8576b"
            ],
            [
             0.6666666666666666,
             "#ed7953"
            ],
            [
             0.7777777777777778,
             "#fb9f3a"
            ],
            [
             0.8888888888888888,
             "#fdca26"
            ],
            [
             1,
             "#f0f921"
            ]
           ]
          },
          "colorway": [
           "#636efa",
           "#EF553B",
           "#00cc96",
           "#ab63fa",
           "#FFA15A",
           "#19d3f3",
           "#FF6692",
           "#B6E880",
           "#FF97FF",
           "#FECB52"
          ],
          "font": {
           "color": "#2a3f5f"
          },
          "geo": {
           "bgcolor": "white",
           "lakecolor": "white",
           "landcolor": "#E5ECF6",
           "showlakes": true,
           "showland": true,
           "subunitcolor": "white"
          },
          "hoverlabel": {
           "align": "left"
          },
          "hovermode": "closest",
          "mapbox": {
           "style": "light"
          },
          "paper_bgcolor": "white",
          "plot_bgcolor": "#E5ECF6",
          "polar": {
           "angularaxis": {
            "gridcolor": "white",
            "linecolor": "white",
            "ticks": ""
           },
           "bgcolor": "#E5ECF6",
           "radialaxis": {
            "gridcolor": "white",
            "linecolor": "white",
            "ticks": ""
           }
          },
          "scene": {
           "xaxis": {
            "backgroundcolor": "#E5ECF6",
            "gridcolor": "white",
            "gridwidth": 2,
            "linecolor": "white",
            "showbackground": true,
            "ticks": "",
            "zerolinecolor": "white"
           },
           "yaxis": {
            "backgroundcolor": "#E5ECF6",
            "gridcolor": "white",
            "gridwidth": 2,
            "linecolor": "white",
            "showbackground": true,
            "ticks": "",
            "zerolinecolor": "white"
           },
           "zaxis": {
            "backgroundcolor": "#E5ECF6",
            "gridcolor": "white",
            "gridwidth": 2,
            "linecolor": "white",
            "showbackground": true,
            "ticks": "",
            "zerolinecolor": "white"
           }
          },
          "shapedefaults": {
           "line": {
            "color": "#2a3f5f"
           }
          },
          "ternary": {
           "aaxis": {
            "gridcolor": "white",
            "linecolor": "white",
            "ticks": ""
           },
           "baxis": {
            "gridcolor": "white",
            "linecolor": "white",
            "ticks": ""
           },
           "bgcolor": "#E5ECF6",
           "caxis": {
            "gridcolor": "white",
            "linecolor": "white",
            "ticks": ""
           }
          },
          "title": {
           "x": 0.05
          },
          "xaxis": {
           "automargin": true,
           "gridcolor": "white",
           "linecolor": "white",
           "ticks": "",
           "title": {
            "standoff": 15
           },
           "zerolinecolor": "white",
           "zerolinewidth": 2
          },
          "yaxis": {
           "automargin": true,
           "gridcolor": "white",
           "linecolor": "white",
           "ticks": "",
           "title": {
            "standoff": 15
           },
           "zerolinecolor": "white",
           "zerolinewidth": 2
          }
         }
        },
        "title": {
         "text": "Top 10 Albums of the March"
        },
        "xaxis": {
         "anchor": "y",
         "domain": [
          0,
          1
         ],
         "title": {
          "text": "title"
         }
        },
        "yaxis": {
         "anchor": "x",
         "domain": [
          0,
          1
         ],
         "title": {
          "text": "sum of new_sales"
         }
        }
       }
      }
     },
     "metadata": {},
     "output_type": "display_data"
    }
   ],
   "source": [
    "# Histogram of new sales of Top 10 albums filtering by month\n",
    "# Example below shows data for March\n",
    "px.histogram(monthly_top_10.loc[monthly_top_10[\"month_name\"] == \"March\"], x=\"title\", y=\"new_sales\", color=\"artist\", title='Top 10 Albums of the March') "
   ]
  },
  {
   "cell_type": "markdown",
   "metadata": {},
   "source": [
    "#### Monthly Top Ranked Album"
   ]
  },
  {
   "cell_type": "code",
   "execution_count": 24,
   "metadata": {},
   "outputs": [
    {
     "data": {
      "text/html": [
       "<div>\n",
       "<style scoped>\n",
       "    .dataframe tbody tr th:only-of-type {\n",
       "        vertical-align: middle;\n",
       "    }\n",
       "\n",
       "    .dataframe tbody tr th {\n",
       "        vertical-align: top;\n",
       "    }\n",
       "\n",
       "    .dataframe thead th {\n",
       "        text-align: right;\n",
       "    }\n",
       "</style>\n",
       "<table border=\"1\" class=\"dataframe\">\n",
       "  <thead>\n",
       "    <tr style=\"text-align: right;\">\n",
       "      <th></th>\n",
       "      <th>month</th>\n",
       "      <th>month_name</th>\n",
       "      <th>album_rank</th>\n",
       "      <th>rank_change</th>\n",
       "      <th>rank_difference</th>\n",
       "      <th>title</th>\n",
       "      <th>artist</th>\n",
       "      <th>new_sales</th>\n",
       "      <th>cumulative_sales</th>\n",
       "      <th>production</th>\n",
       "    </tr>\n",
       "  </thead>\n",
       "  <tbody>\n",
       "    <tr>\n",
       "      <th>0</th>\n",
       "      <td>1</td>\n",
       "      <td>January</td>\n",
       "      <td>1</td>\n",
       "      <td>new</td>\n",
       "      <td>NaN</td>\n",
       "      <td>THE FIRST STEP : TREASURE EFFECT</td>\n",
       "      <td>TREASURE</td>\n",
       "      <td>266894</td>\n",
       "      <td>266894</td>\n",
       "      <td>YG PLUS</td>\n",
       "    </tr>\n",
       "    <tr>\n",
       "      <th>100</th>\n",
       "      <td>2</td>\n",
       "      <td>February</td>\n",
       "      <td>1</td>\n",
       "      <td>up</td>\n",
       "      <td>16.0</td>\n",
       "      <td>BE</td>\n",
       "      <td>BTS</td>\n",
       "      <td>763083</td>\n",
       "      <td>788535</td>\n",
       "      <td>Dreamus</td>\n",
       "    </tr>\n",
       "    <tr>\n",
       "      <th>200</th>\n",
       "      <td>3</td>\n",
       "      <td>March</td>\n",
       "      <td>1</td>\n",
       "      <td>new</td>\n",
       "      <td>NaN</td>\n",
       "      <td>Bambi - The 3rd Mini Album</td>\n",
       "      <td>BAEKHYUN</td>\n",
       "      <td>591944</td>\n",
       "      <td>591944</td>\n",
       "      <td>Dreamus</td>\n",
       "    </tr>\n",
       "    <tr>\n",
       "      <th>300</th>\n",
       "      <td>4</td>\n",
       "      <td>April</td>\n",
       "      <td>1</td>\n",
       "      <td>new</td>\n",
       "      <td>NaN</td>\n",
       "      <td>BORDER : CARNIVAL</td>\n",
       "      <td>ENHYPEN</td>\n",
       "      <td>522136</td>\n",
       "      <td>522136</td>\n",
       "      <td>Genie Music, Stone Music Entertainment</td>\n",
       "    </tr>\n",
       "    <tr>\n",
       "      <th>400</th>\n",
       "      <td>5</td>\n",
       "      <td>May</td>\n",
       "      <td>1</td>\n",
       "      <td>new</td>\n",
       "      <td>NaN</td>\n",
       "      <td>맛 (Hot Sauce) - The 1st Album</td>\n",
       "      <td>NCT DREAM</td>\n",
       "      <td>1995091</td>\n",
       "      <td>1995091</td>\n",
       "      <td>Dreamus</td>\n",
       "    </tr>\n",
       "    <tr>\n",
       "      <th>500</th>\n",
       "      <td>6</td>\n",
       "      <td>June</td>\n",
       "      <td>1</td>\n",
       "      <td>new</td>\n",
       "      <td>NaN</td>\n",
       "      <td>8th Mini Album `Your Choice`</td>\n",
       "      <td>SEVENTEEN</td>\n",
       "      <td>1391964</td>\n",
       "      <td>1391964</td>\n",
       "      <td>YG PLUS</td>\n",
       "    </tr>\n",
       "    <tr>\n",
       "      <th>600</th>\n",
       "      <td>7</td>\n",
       "      <td>July</td>\n",
       "      <td>1</td>\n",
       "      <td>new</td>\n",
       "      <td>NaN</td>\n",
       "      <td>Butter</td>\n",
       "      <td>BTS</td>\n",
       "      <td>2490969</td>\n",
       "      <td>2490969</td>\n",
       "      <td>YG PLUS</td>\n",
       "    </tr>\n",
       "    <tr>\n",
       "      <th>700</th>\n",
       "      <td>8</td>\n",
       "      <td>August</td>\n",
       "      <td>1</td>\n",
       "      <td>new</td>\n",
       "      <td>NaN</td>\n",
       "      <td>NOEASY</td>\n",
       "      <td>Stray Kids</td>\n",
       "      <td>1127800</td>\n",
       "      <td>1127800</td>\n",
       "      <td>Dreamus</td>\n",
       "    </tr>\n",
       "    <tr>\n",
       "      <th>800</th>\n",
       "      <td>9</td>\n",
       "      <td>September</td>\n",
       "      <td>1</td>\n",
       "      <td>new</td>\n",
       "      <td>NaN</td>\n",
       "      <td>Sticker - The 3rd Album</td>\n",
       "      <td>NCT 127</td>\n",
       "      <td>2277575</td>\n",
       "      <td>2277575</td>\n",
       "      <td>Dreamus</td>\n",
       "    </tr>\n",
       "    <tr>\n",
       "      <th>900</th>\n",
       "      <td>10</td>\n",
       "      <td>October</td>\n",
       "      <td>1</td>\n",
       "      <td>new</td>\n",
       "      <td>NaN</td>\n",
       "      <td>9th Mini Album `Attacca`</td>\n",
       "      <td>SEVENTEEN</td>\n",
       "      <td>1968829</td>\n",
       "      <td>1968829</td>\n",
       "      <td>YG PLUS</td>\n",
       "    </tr>\n",
       "    <tr>\n",
       "      <th>1000</th>\n",
       "      <td>11</td>\n",
       "      <td>November</td>\n",
       "      <td>1</td>\n",
       "      <td>new</td>\n",
       "      <td>NaN</td>\n",
       "      <td>Christmas EveL</td>\n",
       "      <td>Stray Kids</td>\n",
       "      <td>654658</td>\n",
       "      <td>654658</td>\n",
       "      <td>Dreamus</td>\n",
       "    </tr>\n",
       "    <tr>\n",
       "      <th>1100</th>\n",
       "      <td>12</td>\n",
       "      <td>December</td>\n",
       "      <td>1</td>\n",
       "      <td>new</td>\n",
       "      <td>NaN</td>\n",
       "      <td>Universe - The 3rd Album</td>\n",
       "      <td>NCT</td>\n",
       "      <td>1630715</td>\n",
       "      <td>1630715</td>\n",
       "      <td>Dreamus</td>\n",
       "    </tr>\n",
       "  </tbody>\n",
       "</table>\n",
       "</div>"
      ],
      "text/plain": [
       "      month month_name  album_rank rank_change  rank_difference  \\\n",
       "0         1    January           1         new              NaN   \n",
       "100       2   February           1          up             16.0   \n",
       "200       3      March           1         new              NaN   \n",
       "300       4      April           1         new              NaN   \n",
       "400       5        May           1         new              NaN   \n",
       "500       6       June           1         new              NaN   \n",
       "600       7       July           1         new              NaN   \n",
       "700       8     August           1         new              NaN   \n",
       "800       9  September           1         new              NaN   \n",
       "900      10    October           1         new              NaN   \n",
       "1000     11   November           1         new              NaN   \n",
       "1100     12   December           1         new              NaN   \n",
       "\n",
       "                                 title       artist  new_sales  \\\n",
       "0     THE FIRST STEP : TREASURE EFFECT    TREASURE      266894   \n",
       "100                                 BE          BTS     763083   \n",
       "200         Bambi - The 3rd Mini Album     BAEKHYUN     591944   \n",
       "300                  BORDER : CARNIVAL      ENHYPEN     522136   \n",
       "400      맛 (Hot Sauce) - The 1st Album    NCT DREAM    1995091   \n",
       "500       8th Mini Album `Your Choice`    SEVENTEEN    1391964   \n",
       "600                             Butter          BTS    2490969   \n",
       "700                             NOEASY  Stray Kids     1127800   \n",
       "800            Sticker - The 3rd Album      NCT 127    2277575   \n",
       "900           9th Mini Album `Attacca`    SEVENTEEN    1968829   \n",
       "1000                    Christmas EveL  Stray Kids      654658   \n",
       "1100          Universe - The 3rd Album          NCT    1630715   \n",
       "\n",
       "      cumulative_sales                              production  \n",
       "0               266894                                 YG PLUS  \n",
       "100             788535                                 Dreamus  \n",
       "200             591944                                 Dreamus  \n",
       "300             522136  Genie Music, Stone Music Entertainment  \n",
       "400            1995091                                 Dreamus  \n",
       "500            1391964                                 YG PLUS  \n",
       "600            2490969                                 YG PLUS  \n",
       "700            1127800                                 Dreamus  \n",
       "800            2277575                                 Dreamus  \n",
       "900            1968829                                 YG PLUS  \n",
       "1000            654658                                 Dreamus  \n",
       "1100           1630715                                 Dreamus  "
      ]
     },
     "execution_count": 24,
     "metadata": {},
     "output_type": "execute_result"
    }
   ],
   "source": [
    "# Get top ranked album of each month\n",
    "monthly_first = df.groupby(\"month\").head(1)\n",
    "monthly_first"
   ]
  },
  {
   "cell_type": "code",
   "execution_count": 25,
   "metadata": {},
   "outputs": [
    {
     "data": {
      "application/vnd.plotly.v1+json": {
       "config": {
        "plotlyServerURL": "https://plot.ly"
       },
       "data": [
        {
         "alignmentgroup": "True",
         "bingroup": "x",
         "histfunc": "sum",
         "hovertemplate": "title=THE FIRST STEP : TREASURE EFFECT<br>month_name=%{x}<br>sum of new_sales=%{y}<extra></extra>",
         "legendgroup": "THE FIRST STEP : TREASURE EFFECT",
         "marker": {
          "color": "#636efa",
          "pattern": {
           "shape": ""
          }
         },
         "name": "THE FIRST STEP : TREASURE EFFECT",
         "nbinsx": 12,
         "offsetgroup": "THE FIRST STEP : TREASURE EFFECT",
         "orientation": "v",
         "showlegend": true,
         "type": "histogram",
         "x": [
          "January"
         ],
         "xaxis": "x",
         "y": [
          266894
         ],
         "yaxis": "y"
        },
        {
         "alignmentgroup": "True",
         "bingroup": "x",
         "histfunc": "sum",
         "hovertemplate": "title=BE<br>month_name=%{x}<br>sum of new_sales=%{y}<extra></extra>",
         "legendgroup": "BE",
         "marker": {
          "color": "#EF553B",
          "pattern": {
           "shape": ""
          }
         },
         "name": "BE",
         "nbinsx": 12,
         "offsetgroup": "BE",
         "orientation": "v",
         "showlegend": true,
         "type": "histogram",
         "x": [
          "February"
         ],
         "xaxis": "x",
         "y": [
          763083
         ],
         "yaxis": "y"
        },
        {
         "alignmentgroup": "True",
         "bingroup": "x",
         "histfunc": "sum",
         "hovertemplate": "title=Bambi - The 3rd Mini Album<br>month_name=%{x}<br>sum of new_sales=%{y}<extra></extra>",
         "legendgroup": "Bambi - The 3rd Mini Album",
         "marker": {
          "color": "#00cc96",
          "pattern": {
           "shape": ""
          }
         },
         "name": "Bambi - The 3rd Mini Album",
         "nbinsx": 12,
         "offsetgroup": "Bambi - The 3rd Mini Album",
         "orientation": "v",
         "showlegend": true,
         "type": "histogram",
         "x": [
          "March"
         ],
         "xaxis": "x",
         "y": [
          591944
         ],
         "yaxis": "y"
        },
        {
         "alignmentgroup": "True",
         "bingroup": "x",
         "histfunc": "sum",
         "hovertemplate": "title=BORDER : CARNIVAL<br>month_name=%{x}<br>sum of new_sales=%{y}<extra></extra>",
         "legendgroup": "BORDER : CARNIVAL",
         "marker": {
          "color": "#ab63fa",
          "pattern": {
           "shape": ""
          }
         },
         "name": "BORDER : CARNIVAL",
         "nbinsx": 12,
         "offsetgroup": "BORDER : CARNIVAL",
         "orientation": "v",
         "showlegend": true,
         "type": "histogram",
         "x": [
          "April"
         ],
         "xaxis": "x",
         "y": [
          522136
         ],
         "yaxis": "y"
        },
        {
         "alignmentgroup": "True",
         "bingroup": "x",
         "histfunc": "sum",
         "hovertemplate": "title=맛 (Hot Sauce) - The 1st Album<br>month_name=%{x}<br>sum of new_sales=%{y}<extra></extra>",
         "legendgroup": "맛 (Hot Sauce) - The 1st Album",
         "marker": {
          "color": "#FFA15A",
          "pattern": {
           "shape": ""
          }
         },
         "name": "맛 (Hot Sauce) - The 1st Album",
         "nbinsx": 12,
         "offsetgroup": "맛 (Hot Sauce) - The 1st Album",
         "orientation": "v",
         "showlegend": true,
         "type": "histogram",
         "x": [
          "May"
         ],
         "xaxis": "x",
         "y": [
          1995091
         ],
         "yaxis": "y"
        },
        {
         "alignmentgroup": "True",
         "bingroup": "x",
         "histfunc": "sum",
         "hovertemplate": "title=8th Mini Album `Your Choice`<br>month_name=%{x}<br>sum of new_sales=%{y}<extra></extra>",
         "legendgroup": "8th Mini Album `Your Choice`",
         "marker": {
          "color": "#19d3f3",
          "pattern": {
           "shape": ""
          }
         },
         "name": "8th Mini Album `Your Choice`",
         "nbinsx": 12,
         "offsetgroup": "8th Mini Album `Your Choice`",
         "orientation": "v",
         "showlegend": true,
         "type": "histogram",
         "x": [
          "June"
         ],
         "xaxis": "x",
         "y": [
          1391964
         ],
         "yaxis": "y"
        },
        {
         "alignmentgroup": "True",
         "bingroup": "x",
         "histfunc": "sum",
         "hovertemplate": "title=Butter<br>month_name=%{x}<br>sum of new_sales=%{y}<extra></extra>",
         "legendgroup": "Butter",
         "marker": {
          "color": "#FF6692",
          "pattern": {
           "shape": ""
          }
         },
         "name": "Butter",
         "nbinsx": 12,
         "offsetgroup": "Butter",
         "orientation": "v",
         "showlegend": true,
         "type": "histogram",
         "x": [
          "July"
         ],
         "xaxis": "x",
         "y": [
          2490969
         ],
         "yaxis": "y"
        },
        {
         "alignmentgroup": "True",
         "bingroup": "x",
         "histfunc": "sum",
         "hovertemplate": "title=NOEASY<br>month_name=%{x}<br>sum of new_sales=%{y}<extra></extra>",
         "legendgroup": "NOEASY",
         "marker": {
          "color": "#B6E880",
          "pattern": {
           "shape": ""
          }
         },
         "name": "NOEASY",
         "nbinsx": 12,
         "offsetgroup": "NOEASY",
         "orientation": "v",
         "showlegend": true,
         "type": "histogram",
         "x": [
          "August"
         ],
         "xaxis": "x",
         "y": [
          1127800
         ],
         "yaxis": "y"
        },
        {
         "alignmentgroup": "True",
         "bingroup": "x",
         "histfunc": "sum",
         "hovertemplate": "title=Sticker - The 3rd Album<br>month_name=%{x}<br>sum of new_sales=%{y}<extra></extra>",
         "legendgroup": "Sticker - The 3rd Album",
         "marker": {
          "color": "#FF97FF",
          "pattern": {
           "shape": ""
          }
         },
         "name": "Sticker - The 3rd Album",
         "nbinsx": 12,
         "offsetgroup": "Sticker - The 3rd Album",
         "orientation": "v",
         "showlegend": true,
         "type": "histogram",
         "x": [
          "September"
         ],
         "xaxis": "x",
         "y": [
          2277575
         ],
         "yaxis": "y"
        },
        {
         "alignmentgroup": "True",
         "bingroup": "x",
         "histfunc": "sum",
         "hovertemplate": "title=9th Mini Album `Attacca`<br>month_name=%{x}<br>sum of new_sales=%{y}<extra></extra>",
         "legendgroup": "9th Mini Album `Attacca`",
         "marker": {
          "color": "#FECB52",
          "pattern": {
           "shape": ""
          }
         },
         "name": "9th Mini Album `Attacca`",
         "nbinsx": 12,
         "offsetgroup": "9th Mini Album `Attacca`",
         "orientation": "v",
         "showlegend": true,
         "type": "histogram",
         "x": [
          "October"
         ],
         "xaxis": "x",
         "y": [
          1968829
         ],
         "yaxis": "y"
        },
        {
         "alignmentgroup": "True",
         "bingroup": "x",
         "histfunc": "sum",
         "hovertemplate": "title=Christmas EveL<br>month_name=%{x}<br>sum of new_sales=%{y}<extra></extra>",
         "legendgroup": "Christmas EveL",
         "marker": {
          "color": "#636efa",
          "pattern": {
           "shape": ""
          }
         },
         "name": "Christmas EveL",
         "nbinsx": 12,
         "offsetgroup": "Christmas EveL",
         "orientation": "v",
         "showlegend": true,
         "type": "histogram",
         "x": [
          "November"
         ],
         "xaxis": "x",
         "y": [
          654658
         ],
         "yaxis": "y"
        },
        {
         "alignmentgroup": "True",
         "bingroup": "x",
         "histfunc": "sum",
         "hovertemplate": "title=Universe - The 3rd Album<br>month_name=%{x}<br>sum of new_sales=%{y}<extra></extra>",
         "legendgroup": "Universe - The 3rd Album",
         "marker": {
          "color": "#EF553B",
          "pattern": {
           "shape": ""
          }
         },
         "name": "Universe - The 3rd Album",
         "nbinsx": 12,
         "offsetgroup": "Universe - The 3rd Album",
         "orientation": "v",
         "showlegend": true,
         "type": "histogram",
         "x": [
          "December"
         ],
         "xaxis": "x",
         "y": [
          1630715
         ],
         "yaxis": "y"
        }
       ],
       "layout": {
        "barmode": "relative",
        "legend": {
         "title": {
          "text": "title"
         },
         "tracegroupgap": 0
        },
        "template": {
         "data": {
          "bar": [
           {
            "error_x": {
             "color": "#2a3f5f"
            },
            "error_y": {
             "color": "#2a3f5f"
            },
            "marker": {
             "line": {
              "color": "#E5ECF6",
              "width": 0.5
             },
             "pattern": {
              "fillmode": "overlay",
              "size": 10,
              "solidity": 0.2
             }
            },
            "type": "bar"
           }
          ],
          "barpolar": [
           {
            "marker": {
             "line": {
              "color": "#E5ECF6",
              "width": 0.5
             },
             "pattern": {
              "fillmode": "overlay",
              "size": 10,
              "solidity": 0.2
             }
            },
            "type": "barpolar"
           }
          ],
          "carpet": [
           {
            "aaxis": {
             "endlinecolor": "#2a3f5f",
             "gridcolor": "white",
             "linecolor": "white",
             "minorgridcolor": "white",
             "startlinecolor": "#2a3f5f"
            },
            "baxis": {
             "endlinecolor": "#2a3f5f",
             "gridcolor": "white",
             "linecolor": "white",
             "minorgridcolor": "white",
             "startlinecolor": "#2a3f5f"
            },
            "type": "carpet"
           }
          ],
          "choropleth": [
           {
            "colorbar": {
             "outlinewidth": 0,
             "ticks": ""
            },
            "type": "choropleth"
           }
          ],
          "contour": [
           {
            "colorbar": {
             "outlinewidth": 0,
             "ticks": ""
            },
            "colorscale": [
             [
              0,
              "#0d0887"
             ],
             [
              0.1111111111111111,
              "#46039f"
             ],
             [
              0.2222222222222222,
              "#7201a8"
             ],
             [
              0.3333333333333333,
              "#9c179e"
             ],
             [
              0.4444444444444444,
              "#bd3786"
             ],
             [
              0.5555555555555556,
              "#d8576b"
             ],
             [
              0.6666666666666666,
              "#ed7953"
             ],
             [
              0.7777777777777778,
              "#fb9f3a"
             ],
             [
              0.8888888888888888,
              "#fdca26"
             ],
             [
              1,
              "#f0f921"
             ]
            ],
            "type": "contour"
           }
          ],
          "contourcarpet": [
           {
            "colorbar": {
             "outlinewidth": 0,
             "ticks": ""
            },
            "type": "contourcarpet"
           }
          ],
          "heatmap": [
           {
            "colorbar": {
             "outlinewidth": 0,
             "ticks": ""
            },
            "colorscale": [
             [
              0,
              "#0d0887"
             ],
             [
              0.1111111111111111,
              "#46039f"
             ],
             [
              0.2222222222222222,
              "#7201a8"
             ],
             [
              0.3333333333333333,
              "#9c179e"
             ],
             [
              0.4444444444444444,
              "#bd3786"
             ],
             [
              0.5555555555555556,
              "#d8576b"
             ],
             [
              0.6666666666666666,
              "#ed7953"
             ],
             [
              0.7777777777777778,
              "#fb9f3a"
             ],
             [
              0.8888888888888888,
              "#fdca26"
             ],
             [
              1,
              "#f0f921"
             ]
            ],
            "type": "heatmap"
           }
          ],
          "heatmapgl": [
           {
            "colorbar": {
             "outlinewidth": 0,
             "ticks": ""
            },
            "colorscale": [
             [
              0,
              "#0d0887"
             ],
             [
              0.1111111111111111,
              "#46039f"
             ],
             [
              0.2222222222222222,
              "#7201a8"
             ],
             [
              0.3333333333333333,
              "#9c179e"
             ],
             [
              0.4444444444444444,
              "#bd3786"
             ],
             [
              0.5555555555555556,
              "#d8576b"
             ],
             [
              0.6666666666666666,
              "#ed7953"
             ],
             [
              0.7777777777777778,
              "#fb9f3a"
             ],
             [
              0.8888888888888888,
              "#fdca26"
             ],
             [
              1,
              "#f0f921"
             ]
            ],
            "type": "heatmapgl"
           }
          ],
          "histogram": [
           {
            "marker": {
             "pattern": {
              "fillmode": "overlay",
              "size": 10,
              "solidity": 0.2
             }
            },
            "type": "histogram"
           }
          ],
          "histogram2d": [
           {
            "colorbar": {
             "outlinewidth": 0,
             "ticks": ""
            },
            "colorscale": [
             [
              0,
              "#0d0887"
             ],
             [
              0.1111111111111111,
              "#46039f"
             ],
             [
              0.2222222222222222,
              "#7201a8"
             ],
             [
              0.3333333333333333,
              "#9c179e"
             ],
             [
              0.4444444444444444,
              "#bd3786"
             ],
             [
              0.5555555555555556,
              "#d8576b"
             ],
             [
              0.6666666666666666,
              "#ed7953"
             ],
             [
              0.7777777777777778,
              "#fb9f3a"
             ],
             [
              0.8888888888888888,
              "#fdca26"
             ],
             [
              1,
              "#f0f921"
             ]
            ],
            "type": "histogram2d"
           }
          ],
          "histogram2dcontour": [
           {
            "colorbar": {
             "outlinewidth": 0,
             "ticks": ""
            },
            "colorscale": [
             [
              0,
              "#0d0887"
             ],
             [
              0.1111111111111111,
              "#46039f"
             ],
             [
              0.2222222222222222,
              "#7201a8"
             ],
             [
              0.3333333333333333,
              "#9c179e"
             ],
             [
              0.4444444444444444,
              "#bd3786"
             ],
             [
              0.5555555555555556,
              "#d8576b"
             ],
             [
              0.6666666666666666,
              "#ed7953"
             ],
             [
              0.7777777777777778,
              "#fb9f3a"
             ],
             [
              0.8888888888888888,
              "#fdca26"
             ],
             [
              1,
              "#f0f921"
             ]
            ],
            "type": "histogram2dcontour"
           }
          ],
          "mesh3d": [
           {
            "colorbar": {
             "outlinewidth": 0,
             "ticks": ""
            },
            "type": "mesh3d"
           }
          ],
          "parcoords": [
           {
            "line": {
             "colorbar": {
              "outlinewidth": 0,
              "ticks": ""
             }
            },
            "type": "parcoords"
           }
          ],
          "pie": [
           {
            "automargin": true,
            "type": "pie"
           }
          ],
          "scatter": [
           {
            "marker": {
             "colorbar": {
              "outlinewidth": 0,
              "ticks": ""
             }
            },
            "type": "scatter"
           }
          ],
          "scatter3d": [
           {
            "line": {
             "colorbar": {
              "outlinewidth": 0,
              "ticks": ""
             }
            },
            "marker": {
             "colorbar": {
              "outlinewidth": 0,
              "ticks": ""
             }
            },
            "type": "scatter3d"
           }
          ],
          "scattercarpet": [
           {
            "marker": {
             "colorbar": {
              "outlinewidth": 0,
              "ticks": ""
             }
            },
            "type": "scattercarpet"
           }
          ],
          "scattergeo": [
           {
            "marker": {
             "colorbar": {
              "outlinewidth": 0,
              "ticks": ""
             }
            },
            "type": "scattergeo"
           }
          ],
          "scattergl": [
           {
            "marker": {
             "colorbar": {
              "outlinewidth": 0,
              "ticks": ""
             }
            },
            "type": "scattergl"
           }
          ],
          "scattermapbox": [
           {
            "marker": {
             "colorbar": {
              "outlinewidth": 0,
              "ticks": ""
             }
            },
            "type": "scattermapbox"
           }
          ],
          "scatterpolar": [
           {
            "marker": {
             "colorbar": {
              "outlinewidth": 0,
              "ticks": ""
             }
            },
            "type": "scatterpolar"
           }
          ],
          "scatterpolargl": [
           {
            "marker": {
             "colorbar": {
              "outlinewidth": 0,
              "ticks": ""
             }
            },
            "type": "scatterpolargl"
           }
          ],
          "scatterternary": [
           {
            "marker": {
             "colorbar": {
              "outlinewidth": 0,
              "ticks": ""
             }
            },
            "type": "scatterternary"
           }
          ],
          "surface": [
           {
            "colorbar": {
             "outlinewidth": 0,
             "ticks": ""
            },
            "colorscale": [
             [
              0,
              "#0d0887"
             ],
             [
              0.1111111111111111,
              "#46039f"
             ],
             [
              0.2222222222222222,
              "#7201a8"
             ],
             [
              0.3333333333333333,
              "#9c179e"
             ],
             [
              0.4444444444444444,
              "#bd3786"
             ],
             [
              0.5555555555555556,
              "#d8576b"
             ],
             [
              0.6666666666666666,
              "#ed7953"
             ],
             [
              0.7777777777777778,
              "#fb9f3a"
             ],
             [
              0.8888888888888888,
              "#fdca26"
             ],
             [
              1,
              "#f0f921"
             ]
            ],
            "type": "surface"
           }
          ],
          "table": [
           {
            "cells": {
             "fill": {
              "color": "#EBF0F8"
             },
             "line": {
              "color": "white"
             }
            },
            "header": {
             "fill": {
              "color": "#C8D4E3"
             },
             "line": {
              "color": "white"
             }
            },
            "type": "table"
           }
          ]
         },
         "layout": {
          "annotationdefaults": {
           "arrowcolor": "#2a3f5f",
           "arrowhead": 0,
           "arrowwidth": 1
          },
          "autotypenumbers": "strict",
          "coloraxis": {
           "colorbar": {
            "outlinewidth": 0,
            "ticks": ""
           }
          },
          "colorscale": {
           "diverging": [
            [
             0,
             "#8e0152"
            ],
            [
             0.1,
             "#c51b7d"
            ],
            [
             0.2,
             "#de77ae"
            ],
            [
             0.3,
             "#f1b6da"
            ],
            [
             0.4,
             "#fde0ef"
            ],
            [
             0.5,
             "#f7f7f7"
            ],
            [
             0.6,
             "#e6f5d0"
            ],
            [
             0.7,
             "#b8e186"
            ],
            [
             0.8,
             "#7fbc41"
            ],
            [
             0.9,
             "#4d9221"
            ],
            [
             1,
             "#276419"
            ]
           ],
           "sequential": [
            [
             0,
             "#0d0887"
            ],
            [
             0.1111111111111111,
             "#46039f"
            ],
            [
             0.2222222222222222,
             "#7201a8"
            ],
            [
             0.3333333333333333,
             "#9c179e"
            ],
            [
             0.4444444444444444,
             "#bd3786"
            ],
            [
             0.5555555555555556,
             "#d8576b"
            ],
            [
             0.6666666666666666,
             "#ed7953"
            ],
            [
             0.7777777777777778,
             "#fb9f3a"
            ],
            [
             0.8888888888888888,
             "#fdca26"
            ],
            [
             1,
             "#f0f921"
            ]
           ],
           "sequentialminus": [
            [
             0,
             "#0d0887"
            ],
            [
             0.1111111111111111,
             "#46039f"
            ],
            [
             0.2222222222222222,
             "#7201a8"
            ],
            [
             0.3333333333333333,
             "#9c179e"
            ],
            [
             0.4444444444444444,
             "#bd3786"
            ],
            [
             0.5555555555555556,
             "#d8576b"
            ],
            [
             0.6666666666666666,
             "#ed7953"
            ],
            [
             0.7777777777777778,
             "#fb9f3a"
            ],
            [
             0.8888888888888888,
             "#fdca26"
            ],
            [
             1,
             "#f0f921"
            ]
           ]
          },
          "colorway": [
           "#636efa",
           "#EF553B",
           "#00cc96",
           "#ab63fa",
           "#FFA15A",
           "#19d3f3",
           "#FF6692",
           "#B6E880",
           "#FF97FF",
           "#FECB52"
          ],
          "font": {
           "color": "#2a3f5f"
          },
          "geo": {
           "bgcolor": "white",
           "lakecolor": "white",
           "landcolor": "#E5ECF6",
           "showlakes": true,
           "showland": true,
           "subunitcolor": "white"
          },
          "hoverlabel": {
           "align": "left"
          },
          "hovermode": "closest",
          "mapbox": {
           "style": "light"
          },
          "paper_bgcolor": "white",
          "plot_bgcolor": "#E5ECF6",
          "polar": {
           "angularaxis": {
            "gridcolor": "white",
            "linecolor": "white",
            "ticks": ""
           },
           "bgcolor": "#E5ECF6",
           "radialaxis": {
            "gridcolor": "white",
            "linecolor": "white",
            "ticks": ""
           }
          },
          "scene": {
           "xaxis": {
            "backgroundcolor": "#E5ECF6",
            "gridcolor": "white",
            "gridwidth": 2,
            "linecolor": "white",
            "showbackground": true,
            "ticks": "",
            "zerolinecolor": "white"
           },
           "yaxis": {
            "backgroundcolor": "#E5ECF6",
            "gridcolor": "white",
            "gridwidth": 2,
            "linecolor": "white",
            "showbackground": true,
            "ticks": "",
            "zerolinecolor": "white"
           },
           "zaxis": {
            "backgroundcolor": "#E5ECF6",
            "gridcolor": "white",
            "gridwidth": 2,
            "linecolor": "white",
            "showbackground": true,
            "ticks": "",
            "zerolinecolor": "white"
           }
          },
          "shapedefaults": {
           "line": {
            "color": "#2a3f5f"
           }
          },
          "ternary": {
           "aaxis": {
            "gridcolor": "white",
            "linecolor": "white",
            "ticks": ""
           },
           "baxis": {
            "gridcolor": "white",
            "linecolor": "white",
            "ticks": ""
           },
           "bgcolor": "#E5ECF6",
           "caxis": {
            "gridcolor": "white",
            "linecolor": "white",
            "ticks": ""
           }
          },
          "title": {
           "x": 0.05
          },
          "xaxis": {
           "automargin": true,
           "gridcolor": "white",
           "linecolor": "white",
           "ticks": "",
           "title": {
            "standoff": 15
           },
           "zerolinecolor": "white",
           "zerolinewidth": 2
          },
          "yaxis": {
           "automargin": true,
           "gridcolor": "white",
           "linecolor": "white",
           "ticks": "",
           "title": {
            "standoff": 15
           },
           "zerolinecolor": "white",
           "zerolinewidth": 2
          }
         }
        },
        "title": {
         "text": "Top Ranked Album of Each Month"
        },
        "xaxis": {
         "anchor": "y",
         "domain": [
          0,
          1
         ],
         "title": {
          "text": "month_name"
         }
        },
        "yaxis": {
         "anchor": "x",
         "domain": [
          0,
          1
         ],
         "title": {
          "text": "sum of new_sales"
         }
        }
       }
      }
     },
     "metadata": {},
     "output_type": "display_data"
    }
   ],
   "source": [
    "# Histogram of new sales of top ranked album each month\n",
    "px.histogram(monthly_first, x=\"month_name\", y=\"new_sales\", nbins=12, color=\"title\", title='Top Ranked Album of Each Month') "
   ]
  },
  {
   "cell_type": "code",
   "execution_count": 26,
   "metadata": {},
   "outputs": [
    {
     "data": {
      "text/plain": [
       "month\n",
       "1     0.12\n",
       "2     0.29\n",
       "3     0.15\n",
       "4     0.11\n",
       "5     0.41\n",
       "6     0.22\n",
       "7     0.53\n",
       "8     0.22\n",
       "9     0.37\n",
       "10    0.31\n",
       "11    0.13\n",
       "12    0.40\n",
       "Name: new_sales, dtype: float64"
      ]
     },
     "execution_count": 26,
     "metadata": {},
     "output_type": "execute_result"
    }
   ],
   "source": [
    "# Percentage of monthly new sales that is from the top album\n",
    "monthly_new_sales_total = df.groupby(\"month\")[\"new_sales\"].sum()\n",
    "monthly_new_sales_top_10_total = df.groupby(\"month\").head(1).groupby(\"month\")[\"new_sales\"].sum()\n",
    "round(monthly_new_sales_top_10_total/monthly_new_sales_total, 2)\n"
   ]
  },
  {
   "cell_type": "markdown",
   "metadata": {},
   "source": [
    "### Annual Data"
   ]
  },
  {
   "cell_type": "code",
   "execution_count": 27,
   "metadata": {},
   "outputs": [
    {
     "data": {
      "text/html": [
       "<div>\n",
       "<style scoped>\n",
       "    .dataframe tbody tr th:only-of-type {\n",
       "        vertical-align: middle;\n",
       "    }\n",
       "\n",
       "    .dataframe tbody tr th {\n",
       "        vertical-align: top;\n",
       "    }\n",
       "\n",
       "    .dataframe thead th {\n",
       "        text-align: right;\n",
       "    }\n",
       "</style>\n",
       "<table border=\"1\" class=\"dataframe\">\n",
       "  <thead>\n",
       "    <tr style=\"text-align: right;\">\n",
       "      <th></th>\n",
       "      <th>month</th>\n",
       "      <th>month_name</th>\n",
       "      <th>album_rank</th>\n",
       "      <th>rank_change</th>\n",
       "      <th>rank_difference</th>\n",
       "      <th>title</th>\n",
       "      <th>artist</th>\n",
       "      <th>new_sales</th>\n",
       "      <th>cumulative_sales</th>\n",
       "      <th>production</th>\n",
       "    </tr>\n",
       "  </thead>\n",
       "  <tbody>\n",
       "    <tr>\n",
       "      <th>911</th>\n",
       "      <td>10</td>\n",
       "      <td>October</td>\n",
       "      <td>12</td>\n",
       "      <td>new</td>\n",
       "      <td>NaN</td>\n",
       "      <td>..선물</td>\n",
       "      <td>LEE CHAN WON (이찬원)</td>\n",
       "      <td>70803</td>\n",
       "      <td>70803</td>\n",
       "      <td>MUSIC&amp;NEW</td>\n",
       "    </tr>\n",
       "    <tr>\n",
       "      <th>1021</th>\n",
       "      <td>11</td>\n",
       "      <td>November</td>\n",
       "      <td>22</td>\n",
       "      <td>down</td>\n",
       "      <td>-10.0</td>\n",
       "      <td>..선물</td>\n",
       "      <td>LEE CHAN WON (이찬원)</td>\n",
       "      <td>40584</td>\n",
       "      <td>111387</td>\n",
       "      <td>MUSIC&amp;NEW</td>\n",
       "    </tr>\n",
       "    <tr>\n",
       "      <th>837</th>\n",
       "      <td>9</td>\n",
       "      <td>September</td>\n",
       "      <td>38</td>\n",
       "      <td>new</td>\n",
       "      <td>NaN</td>\n",
       "      <td>1+1=1</td>\n",
       "      <td>HyunA&amp;DAWN</td>\n",
       "      <td>14824</td>\n",
       "      <td>14824</td>\n",
       "      <td>Kakao Entertainment</td>\n",
       "    </tr>\n",
       "    <tr>\n",
       "      <th>388</th>\n",
       "      <td>4</td>\n",
       "      <td>April</td>\n",
       "      <td>89</td>\n",
       "      <td>new</td>\n",
       "      <td>NaN</td>\n",
       "      <td>12월의 기적 (Miracles in December) (Korean Ver.)</td>\n",
       "      <td>EXO</td>\n",
       "      <td>8193</td>\n",
       "      <td>8192</td>\n",
       "      <td>Dreamus</td>\n",
       "    </tr>\n",
       "    <tr>\n",
       "      <th>862</th>\n",
       "      <td>9</td>\n",
       "      <td>September</td>\n",
       "      <td>63</td>\n",
       "      <td>down</td>\n",
       "      <td>-55.0</td>\n",
       "      <td>1ST ALBUM PART 1 [The Awakening: Written In Th...</td>\n",
       "      <td>CRAVITY</td>\n",
       "      <td>7952</td>\n",
       "      <td>149540</td>\n",
       "      <td>Kakao Entertainment</td>\n",
       "    </tr>\n",
       "    <tr>\n",
       "      <th>...</th>\n",
       "      <td>...</td>\n",
       "      <td>...</td>\n",
       "      <td>...</td>\n",
       "      <td>...</td>\n",
       "      <td>...</td>\n",
       "      <td>...</td>\n",
       "      <td>...</td>\n",
       "      <td>...</td>\n",
       "      <td>...</td>\n",
       "      <td>...</td>\n",
       "    </tr>\n",
       "    <tr>\n",
       "      <th>963</th>\n",
       "      <td>10</td>\n",
       "      <td>October</td>\n",
       "      <td>64</td>\n",
       "      <td>down</td>\n",
       "      <td>-27.0</td>\n",
       "      <td>화양연화 pt.2</td>\n",
       "      <td>BTS</td>\n",
       "      <td>8751</td>\n",
       "      <td>133429</td>\n",
       "      <td>YG PLUS</td>\n",
       "    </tr>\n",
       "    <tr>\n",
       "      <th>546</th>\n",
       "      <td>6</td>\n",
       "      <td>June</td>\n",
       "      <td>47</td>\n",
       "      <td>up</td>\n",
       "      <td>4.0</td>\n",
       "      <td>화양연화 pt.2</td>\n",
       "      <td>BTS</td>\n",
       "      <td>11302</td>\n",
       "      <td>80134</td>\n",
       "      <td>YG PLUS</td>\n",
       "    </tr>\n",
       "    <tr>\n",
       "      <th>36</th>\n",
       "      <td>1</td>\n",
       "      <td>January</td>\n",
       "      <td>37</td>\n",
       "      <td>down</td>\n",
       "      <td>-1.0</td>\n",
       "      <td>화양연화 pt.2</td>\n",
       "      <td>BTS</td>\n",
       "      <td>9944</td>\n",
       "      <td>9944</td>\n",
       "      <td>Dreamus</td>\n",
       "    </tr>\n",
       "    <tr>\n",
       "      <th>138</th>\n",
       "      <td>2</td>\n",
       "      <td>February</td>\n",
       "      <td>39</td>\n",
       "      <td>down</td>\n",
       "      <td>-2.0</td>\n",
       "      <td>화양연화 pt.2</td>\n",
       "      <td>BTS</td>\n",
       "      <td>12324</td>\n",
       "      <td>22268</td>\n",
       "      <td>Dreamus</td>\n",
       "    </tr>\n",
       "    <tr>\n",
       "      <th>742</th>\n",
       "      <td>8</td>\n",
       "      <td>August</td>\n",
       "      <td>43</td>\n",
       "      <td>new</td>\n",
       "      <td>NaN</td>\n",
       "      <td>환상의 나라</td>\n",
       "      <td>JANNABI</td>\n",
       "      <td>13761</td>\n",
       "      <td>13761</td>\n",
       "      <td>Kakao Entertainment</td>\n",
       "    </tr>\n",
       "  </tbody>\n",
       "</table>\n",
       "<p>1200 rows × 10 columns</p>\n",
       "</div>"
      ],
      "text/plain": [
       "      month month_name  album_rank rank_change  rank_difference  \\\n",
       "911      10    October          12         new              NaN   \n",
       "1021     11   November          22        down            -10.0   \n",
       "837       9  September          38         new              NaN   \n",
       "388       4      April          89         new              NaN   \n",
       "862       9  September          63        down            -55.0   \n",
       "...     ...        ...         ...         ...              ...   \n",
       "963      10    October          64        down            -27.0   \n",
       "546       6       June          47          up              4.0   \n",
       "36        1    January          37        down             -1.0   \n",
       "138       2   February          39        down             -2.0   \n",
       "742       8     August          43         new              NaN   \n",
       "\n",
       "                                                  title              artist  \\\n",
       "911                                                ..선물  LEE CHAN WON (이찬원)   \n",
       "1021                                               ..선물  LEE CHAN WON (이찬원)   \n",
       "837                                               1+1=1          HyunA&DAWN   \n",
       "388        12월의 기적 (Miracles in December) (Korean Ver.)                 EXO   \n",
       "862   1ST ALBUM PART 1 [The Awakening: Written In Th...             CRAVITY   \n",
       "...                                                 ...                 ...   \n",
       "963                                           화양연화 pt.2                 BTS   \n",
       "546                                           화양연화 pt.2                 BTS   \n",
       "36                                            화양연화 pt.2                 BTS   \n",
       "138                                           화양연화 pt.2                 BTS   \n",
       "742                                              환상의 나라             JANNABI   \n",
       "\n",
       "      new_sales  cumulative_sales           production  \n",
       "911       70803             70803            MUSIC&NEW  \n",
       "1021      40584            111387            MUSIC&NEW  \n",
       "837       14824             14824  Kakao Entertainment  \n",
       "388        8193              8192              Dreamus  \n",
       "862        7952            149540  Kakao Entertainment  \n",
       "...         ...               ...                  ...  \n",
       "963        8751            133429              YG PLUS  \n",
       "546       11302             80134              YG PLUS  \n",
       "36         9944              9944              Dreamus  \n",
       "138       12324             22268              Dreamus  \n",
       "742       13761             13761  Kakao Entertainment  \n",
       "\n",
       "[1200 rows x 10 columns]"
      ]
     },
     "execution_count": 27,
     "metadata": {},
     "output_type": "execute_result"
    }
   ],
   "source": [
    "# Sorting data by album titles\n",
    "# Not entirely necessary but easier to visualize next step\n",
    "sort_by_album = df.sort_values(by=\"title\")\n",
    "sort_by_album"
   ]
  },
  {
   "cell_type": "code",
   "execution_count": 28,
   "metadata": {},
   "outputs": [
    {
     "data": {
      "text/html": [
       "<div>\n",
       "<style scoped>\n",
       "    .dataframe tbody tr th:only-of-type {\n",
       "        vertical-align: middle;\n",
       "    }\n",
       "\n",
       "    .dataframe tbody tr th {\n",
       "        vertical-align: top;\n",
       "    }\n",
       "\n",
       "    .dataframe thead th {\n",
       "        text-align: right;\n",
       "    }\n",
       "</style>\n",
       "<table border=\"1\" class=\"dataframe\">\n",
       "  <thead>\n",
       "    <tr style=\"text-align: right;\">\n",
       "      <th></th>\n",
       "      <th>title</th>\n",
       "      <th>cumulative_sales</th>\n",
       "    </tr>\n",
       "  </thead>\n",
       "  <tbody>\n",
       "    <tr>\n",
       "      <th>0</th>\n",
       "      <td>Butter</td>\n",
       "      <td>2999407</td>\n",
       "    </tr>\n",
       "    <tr>\n",
       "      <th>1</th>\n",
       "      <td>Sticker - The 3rd Album</td>\n",
       "      <td>2431995</td>\n",
       "    </tr>\n",
       "    <tr>\n",
       "      <th>2</th>\n",
       "      <td>맛 (Hot Sauce) - The 1st Album</td>\n",
       "      <td>2097185</td>\n",
       "    </tr>\n",
       "    <tr>\n",
       "      <th>3</th>\n",
       "      <td>9th Mini Album `Attacca`</td>\n",
       "      <td>2059073</td>\n",
       "    </tr>\n",
       "    <tr>\n",
       "      <th>4</th>\n",
       "      <td>Universe - The 3rd Album</td>\n",
       "      <td>1630715</td>\n",
       "    </tr>\n",
       "    <tr>\n",
       "      <th>...</th>\n",
       "      <td>...</td>\n",
       "      <td>...</td>\n",
       "    </tr>\n",
       "    <tr>\n",
       "      <th>95</th>\n",
       "      <td>SUMMER POPUP ALBUM [POPPING]</td>\n",
       "      <td>111875</td>\n",
       "    </tr>\n",
       "    <tr>\n",
       "      <th>96</th>\n",
       "      <td>..선물</td>\n",
       "      <td>111387</td>\n",
       "    </tr>\n",
       "    <tr>\n",
       "      <th>97</th>\n",
       "      <td>The Book of Us : Negentropy - Chaos swallowed ...</td>\n",
       "      <td>110106</td>\n",
       "    </tr>\n",
       "    <tr>\n",
       "      <th>98</th>\n",
       "      <td>6TH MINI ALBUM [Goosebumps]</td>\n",
       "      <td>109805</td>\n",
       "    </tr>\n",
       "    <tr>\n",
       "      <th>99</th>\n",
       "      <td>The First - The 1st Single Album</td>\n",
       "      <td>109573</td>\n",
       "    </tr>\n",
       "  </tbody>\n",
       "</table>\n",
       "<p>100 rows × 2 columns</p>\n",
       "</div>"
      ],
      "text/plain": [
       "                                                title  cumulative_sales\n",
       "0                                              Butter           2999407\n",
       "1                             Sticker - The 3rd Album           2431995\n",
       "2                       맛 (Hot Sauce) - The 1st Album           2097185\n",
       "3                            9th Mini Album `Attacca`           2059073\n",
       "4                            Universe - The 3rd Album           1630715\n",
       "..                                                ...               ...\n",
       "95                       SUMMER POPUP ALBUM [POPPING]            111875\n",
       "96                                               ..선물            111387\n",
       "97  The Book of Us : Negentropy - Chaos swallowed ...            110106\n",
       "98                        6TH MINI ALBUM [Goosebumps]            109805\n",
       "99                   The First - The 1st Single Album            109573\n",
       "\n",
       "[100 rows x 2 columns]"
      ]
     },
     "execution_count": 28,
     "metadata": {},
     "output_type": "execute_result"
    }
   ],
   "source": [
    "# Getting Top 100 albums of the year by cumulative_sales\n",
    "total_sales = sort_by_album.groupby(\"title\")[\"cumulative_sales\"].max()\n",
    "annual_top_100 = total_sales.sort_values(ascending=False).head(100).to_frame().reset_index()\n",
    "annual_top_100"
   ]
  },
  {
   "cell_type": "code",
   "execution_count": 29,
   "metadata": {},
   "outputs": [
    {
     "data": {
      "text/html": [
       "<div>\n",
       "<style scoped>\n",
       "    .dataframe tbody tr th:only-of-type {\n",
       "        vertical-align: middle;\n",
       "    }\n",
       "\n",
       "    .dataframe tbody tr th {\n",
       "        vertical-align: top;\n",
       "    }\n",
       "\n",
       "    .dataframe thead th {\n",
       "        text-align: right;\n",
       "    }\n",
       "</style>\n",
       "<table border=\"1\" class=\"dataframe\">\n",
       "  <thead>\n",
       "    <tr style=\"text-align: right;\">\n",
       "      <th></th>\n",
       "      <th>title</th>\n",
       "      <th>cumulative_sales</th>\n",
       "      <th>album_rank</th>\n",
       "    </tr>\n",
       "  </thead>\n",
       "  <tbody>\n",
       "    <tr>\n",
       "      <th>0</th>\n",
       "      <td>Butter</td>\n",
       "      <td>2999407</td>\n",
       "      <td>1.0</td>\n",
       "    </tr>\n",
       "    <tr>\n",
       "      <th>1</th>\n",
       "      <td>Sticker - The 3rd Album</td>\n",
       "      <td>2431995</td>\n",
       "      <td>2.0</td>\n",
       "    </tr>\n",
       "    <tr>\n",
       "      <th>2</th>\n",
       "      <td>맛 (Hot Sauce) - The 1st Album</td>\n",
       "      <td>2097185</td>\n",
       "      <td>3.0</td>\n",
       "    </tr>\n",
       "    <tr>\n",
       "      <th>3</th>\n",
       "      <td>9th Mini Album `Attacca`</td>\n",
       "      <td>2059073</td>\n",
       "      <td>4.0</td>\n",
       "    </tr>\n",
       "    <tr>\n",
       "      <th>4</th>\n",
       "      <td>Universe - The 3rd Album</td>\n",
       "      <td>1630715</td>\n",
       "      <td>5.0</td>\n",
       "    </tr>\n",
       "    <tr>\n",
       "      <th>...</th>\n",
       "      <td>...</td>\n",
       "      <td>...</td>\n",
       "      <td>...</td>\n",
       "    </tr>\n",
       "    <tr>\n",
       "      <th>95</th>\n",
       "      <td>SUMMER POPUP ALBUM [POPPING]</td>\n",
       "      <td>111875</td>\n",
       "      <td>96.0</td>\n",
       "    </tr>\n",
       "    <tr>\n",
       "      <th>96</th>\n",
       "      <td>..선물</td>\n",
       "      <td>111387</td>\n",
       "      <td>97.0</td>\n",
       "    </tr>\n",
       "    <tr>\n",
       "      <th>97</th>\n",
       "      <td>The Book of Us : Negentropy - Chaos swallowed ...</td>\n",
       "      <td>110106</td>\n",
       "      <td>98.0</td>\n",
       "    </tr>\n",
       "    <tr>\n",
       "      <th>98</th>\n",
       "      <td>6TH MINI ALBUM [Goosebumps]</td>\n",
       "      <td>109805</td>\n",
       "      <td>99.0</td>\n",
       "    </tr>\n",
       "    <tr>\n",
       "      <th>99</th>\n",
       "      <td>The First - The 1st Single Album</td>\n",
       "      <td>109573</td>\n",
       "      <td>100.0</td>\n",
       "    </tr>\n",
       "  </tbody>\n",
       "</table>\n",
       "<p>100 rows × 3 columns</p>\n",
       "</div>"
      ],
      "text/plain": [
       "                                                title  cumulative_sales  \\\n",
       "0                                              Butter           2999407   \n",
       "1                             Sticker - The 3rd Album           2431995   \n",
       "2                       맛 (Hot Sauce) - The 1st Album           2097185   \n",
       "3                            9th Mini Album `Attacca`           2059073   \n",
       "4                            Universe - The 3rd Album           1630715   \n",
       "..                                                ...               ...   \n",
       "95                       SUMMER POPUP ALBUM [POPPING]            111875   \n",
       "96                                               ..선물            111387   \n",
       "97  The Book of Us : Negentropy - Chaos swallowed ...            110106   \n",
       "98                        6TH MINI ALBUM [Goosebumps]            109805   \n",
       "99                   The First - The 1st Single Album            109573   \n",
       "\n",
       "    album_rank  \n",
       "0          1.0  \n",
       "1          2.0  \n",
       "2          3.0  \n",
       "3          4.0  \n",
       "4          5.0  \n",
       "..         ...  \n",
       "95        96.0  \n",
       "96        97.0  \n",
       "97        98.0  \n",
       "98        99.0  \n",
       "99       100.0  \n",
       "\n",
       "[100 rows x 3 columns]"
      ]
     },
     "execution_count": 29,
     "metadata": {},
     "output_type": "execute_result"
    }
   ],
   "source": [
    "# Adding column for ranks\n",
    "annual_top_100[\"album_rank\"] = annual_top_100[\"cumulative_sales\"].rank(ascending=False)\n",
    "annual_top_100"
   ]
  },
  {
   "cell_type": "code",
   "execution_count": 30,
   "metadata": {},
   "outputs": [
    {
     "data": {
      "application/vnd.plotly.v1+json": {
       "config": {
        "plotlyServerURL": "https://plot.ly"
       },
       "data": [
        {
         "alignmentgroup": "True",
         "bingroup": "x",
         "histfunc": "sum",
         "hovertemplate": "title=Butter<br>album_rank=%{x}<br>sum of cumulative_sales=%{y}<extra></extra>",
         "legendgroup": "Butter",
         "marker": {
          "color": "#636efa",
          "pattern": {
           "shape": ""
          }
         },
         "name": "Butter",
         "nbinsx": 100,
         "offsetgroup": "Butter",
         "orientation": "v",
         "showlegend": true,
         "type": "histogram",
         "x": [
          1
         ],
         "xaxis": "x",
         "y": [
          2999407
         ],
         "yaxis": "y"
        },
        {
         "alignmentgroup": "True",
         "bingroup": "x",
         "histfunc": "sum",
         "hovertemplate": "title=Sticker - The 3rd Album<br>album_rank=%{x}<br>sum of cumulative_sales=%{y}<extra></extra>",
         "legendgroup": "Sticker - The 3rd Album",
         "marker": {
          "color": "#EF553B",
          "pattern": {
           "shape": ""
          }
         },
         "name": "Sticker - The 3rd Album",
         "nbinsx": 100,
         "offsetgroup": "Sticker - The 3rd Album",
         "orientation": "v",
         "showlegend": true,
         "type": "histogram",
         "x": [
          2
         ],
         "xaxis": "x",
         "y": [
          2431995
         ],
         "yaxis": "y"
        },
        {
         "alignmentgroup": "True",
         "bingroup": "x",
         "histfunc": "sum",
         "hovertemplate": "title=맛 (Hot Sauce) - The 1st Album<br>album_rank=%{x}<br>sum of cumulative_sales=%{y}<extra></extra>",
         "legendgroup": "맛 (Hot Sauce) - The 1st Album",
         "marker": {
          "color": "#00cc96",
          "pattern": {
           "shape": ""
          }
         },
         "name": "맛 (Hot Sauce) - The 1st Album",
         "nbinsx": 100,
         "offsetgroup": "맛 (Hot Sauce) - The 1st Album",
         "orientation": "v",
         "showlegend": true,
         "type": "histogram",
         "x": [
          3
         ],
         "xaxis": "x",
         "y": [
          2097185
         ],
         "yaxis": "y"
        },
        {
         "alignmentgroup": "True",
         "bingroup": "x",
         "histfunc": "sum",
         "hovertemplate": "title=9th Mini Album `Attacca`<br>album_rank=%{x}<br>sum of cumulative_sales=%{y}<extra></extra>",
         "legendgroup": "9th Mini Album `Attacca`",
         "marker": {
          "color": "#ab63fa",
          "pattern": {
           "shape": ""
          }
         },
         "name": "9th Mini Album `Attacca`",
         "nbinsx": 100,
         "offsetgroup": "9th Mini Album `Attacca`",
         "orientation": "v",
         "showlegend": true,
         "type": "histogram",
         "x": [
          4
         ],
         "xaxis": "x",
         "y": [
          2059073
         ],
         "yaxis": "y"
        },
        {
         "alignmentgroup": "True",
         "bingroup": "x",
         "histfunc": "sum",
         "hovertemplate": "title=Universe - The 3rd Album<br>album_rank=%{x}<br>sum of cumulative_sales=%{y}<extra></extra>",
         "legendgroup": "Universe - The 3rd Album",
         "marker": {
          "color": "#FFA15A",
          "pattern": {
           "shape": ""
          }
         },
         "name": "Universe - The 3rd Album",
         "nbinsx": 100,
         "offsetgroup": "Universe - The 3rd Album",
         "orientation": "v",
         "showlegend": true,
         "type": "histogram",
         "x": [
          5
         ],
         "xaxis": "x",
         "y": [
          1630715
         ],
         "yaxis": "y"
        },
        {
         "alignmentgroup": "True",
         "bingroup": "x",
         "histfunc": "sum",
         "hovertemplate": "title=8th Mini Album `Your Choice`<br>album_rank=%{x}<br>sum of cumulative_sales=%{y}<extra></extra>",
         "legendgroup": "8th Mini Album `Your Choice`",
         "marker": {
          "color": "#19d3f3",
          "pattern": {
           "shape": ""
          }
         },
         "name": "8th Mini Album `Your Choice`",
         "nbinsx": 100,
         "offsetgroup": "8th Mini Album `Your Choice`",
         "orientation": "v",
         "showlegend": true,
         "type": "histogram",
         "x": [
          6
         ],
         "xaxis": "x",
         "y": [
          1465781
         ],
         "yaxis": "y"
        },
        {
         "alignmentgroup": "True",
         "bingroup": "x",
         "histfunc": "sum",
         "hovertemplate": "title=DON`T FIGHT THE FEELING - Special Album<br>album_rank=%{x}<br>sum of cumulative_sales=%{y}<extra></extra>",
         "legendgroup": "DON`T FIGHT THE FEELING - Special Album",
         "marker": {
          "color": "#FF6692",
          "pattern": {
           "shape": ""
          }
         },
         "name": "DON`T FIGHT THE FEELING - Special Album",
         "nbinsx": 100,
         "offsetgroup": "DON`T FIGHT THE FEELING - Special Album",
         "orientation": "v",
         "showlegend": true,
         "type": "histogram",
         "x": [
          7
         ],
         "xaxis": "x",
         "y": [
          1325276
         ],
         "yaxis": "y"
        },
        {
         "alignmentgroup": "True",
         "bingroup": "x",
         "histfunc": "sum",
         "hovertemplate": "title=NOEASY<br>album_rank=%{x}<br>sum of cumulative_sales=%{y}<extra></extra>",
         "legendgroup": "NOEASY",
         "marker": {
          "color": "#B6E880",
          "pattern": {
           "shape": ""
          }
         },
         "name": "NOEASY",
         "nbinsx": 100,
         "offsetgroup": "NOEASY",
         "orientation": "v",
         "showlegend": true,
         "type": "histogram",
         "x": [
          8
         ],
         "xaxis": "x",
         "y": [
          1303106
         ],
         "yaxis": "y"
        },
        {
         "alignmentgroup": "True",
         "bingroup": "x",
         "histfunc": "sum",
         "hovertemplate": "title=DIMENSION : DILEMMA<br>album_rank=%{x}<br>sum of cumulative_sales=%{y}<extra></extra>",
         "legendgroup": "DIMENSION : DILEMMA",
         "marker": {
          "color": "#FF97FF",
          "pattern": {
           "shape": ""
          }
         },
         "name": "DIMENSION : DILEMMA",
         "nbinsx": 100,
         "offsetgroup": "DIMENSION : DILEMMA",
         "orientation": "v",
         "showlegend": true,
         "type": "histogram",
         "x": [
          9
         ],
         "xaxis": "x",
         "y": [
          1205949
         ],
         "yaxis": "y"
        },
        {
         "alignmentgroup": "True",
         "bingroup": "x",
         "histfunc": "sum",
         "hovertemplate": "title=BE<br>album_rank=%{x}<br>sum of cumulative_sales=%{y}<extra></extra>",
         "legendgroup": "BE",
         "marker": {
          "color": "#FECB52",
          "pattern": {
           "shape": ""
          }
         },
         "name": "BE",
         "nbinsx": 100,
         "offsetgroup": "BE",
         "orientation": "v",
         "showlegend": true,
         "type": "histogram",
         "x": [
          10
         ],
         "xaxis": "x",
         "y": [
          1049496
         ],
         "yaxis": "y"
        },
        {
         "alignmentgroup": "True",
         "bingroup": "x",
         "histfunc": "sum",
         "hovertemplate": "title=Hello Future - The 1st Album Repackage<br>album_rank=%{x}<br>sum of cumulative_sales=%{y}<extra></extra>",
         "legendgroup": "Hello Future - The 1st Album Repackage",
         "marker": {
          "color": "#636efa",
          "pattern": {
           "shape": ""
          }
         },
         "name": "Hello Future - The 1st Album Repackage",
         "nbinsx": 100,
         "offsetgroup": "Hello Future - The 1st Album Repackage",
         "orientation": "v",
         "showlegend": true,
         "type": "histogram",
         "x": [
          11
         ],
         "xaxis": "x",
         "y": [
          1025005
         ],
         "yaxis": "y"
        },
        {
         "alignmentgroup": "True",
         "bingroup": "x",
         "histfunc": "sum",
         "hovertemplate": "title=Bambi - The 3rd Mini Album<br>album_rank=%{x}<br>sum of cumulative_sales=%{y}<extra></extra>",
         "legendgroup": "Bambi - The 3rd Mini Album",
         "marker": {
          "color": "#EF553B",
          "pattern": {
           "shape": ""
          }
         },
         "name": "Bambi - The 3rd Mini Album",
         "nbinsx": 100,
         "offsetgroup": "Bambi - The 3rd Mini Album",
         "orientation": "v",
         "showlegend": true,
         "type": "histogram",
         "x": [
          12
         ],
         "xaxis": "x",
         "y": [
          1005467
         ],
         "yaxis": "y"
        },
        {
         "alignmentgroup": "True",
         "bingroup": "x",
         "histfunc": "sum",
         "hovertemplate": "title=Favorite - The 3rd Album Repackage<br>album_rank=%{x}<br>sum of cumulative_sales=%{y}<extra></extra>",
         "legendgroup": "Favorite - The 3rd Album Repackage",
         "marker": {
          "color": "#00cc96",
          "pattern": {
           "shape": ""
          }
         },
         "name": "Favorite - The 3rd Album Repackage",
         "nbinsx": 100,
         "offsetgroup": "Favorite - The 3rd Album Repackage",
         "orientation": "v",
         "showlegend": true,
         "type": "histogram",
         "x": [
          13
         ],
         "xaxis": "x",
         "y": [
          934986
         ],
         "yaxis": "y"
        },
        {
         "alignmentgroup": "True",
         "bingroup": "x",
         "histfunc": "sum",
         "hovertemplate": "title=혼돈의 장 : FREEZE<br>album_rank=%{x}<br>sum of cumulative_sales=%{y}<extra></extra>",
         "legendgroup": "혼돈의 장 : FREEZE",
         "marker": {
          "color": "#ab63fa",
          "pattern": {
           "shape": ""
          }
         },
         "name": "혼돈의 장 : FREEZE",
         "nbinsx": 100,
         "offsetgroup": "혼돈의 장 : FREEZE",
         "orientation": "v",
         "showlegend": true,
         "type": "histogram",
         "x": [
          14
         ],
         "xaxis": "x",
         "y": [
          877917
         ],
         "yaxis": "y"
        },
        {
         "alignmentgroup": "True",
         "bingroup": "x",
         "histfunc": "sum",
         "hovertemplate": "title=BORDER : CARNIVAL<br>album_rank=%{x}<br>sum of cumulative_sales=%{y}<extra></extra>",
         "legendgroup": "BORDER : CARNIVAL",
         "marker": {
          "color": "#FFA15A",
          "pattern": {
           "shape": ""
          }
         },
         "name": "BORDER : CARNIVAL",
         "nbinsx": 100,
         "offsetgroup": "BORDER : CARNIVAL",
         "orientation": "v",
         "showlegend": true,
         "type": "histogram",
         "x": [
          15
         ],
         "xaxis": "x",
         "y": [
          788451
         ],
         "yaxis": "y"
        },
        {
         "alignmentgroup": "True",
         "bingroup": "x",
         "histfunc": "sum",
         "hovertemplate": "title=혼돈의 장: FIGHT OR ESCAPE<br>album_rank=%{x}<br>sum of cumulative_sales=%{y}<extra></extra>",
         "legendgroup": "혼돈의 장: FIGHT OR ESCAPE",
         "marker": {
          "color": "#19d3f3",
          "pattern": {
           "shape": ""
          }
         },
         "name": "혼돈의 장: FIGHT OR ESCAPE",
         "nbinsx": 100,
         "offsetgroup": "혼돈의 장: FIGHT OR ESCAPE",
         "orientation": "v",
         "showlegend": true,
         "type": "histogram",
         "x": [
          16
         ],
         "xaxis": "x",
         "y": [
          775121
         ],
         "yaxis": "y"
        },
        {
         "alignmentgroup": "True",
         "bingroup": "x",
         "histfunc": "sum",
         "hovertemplate": "title=Christmas EveL<br>album_rank=%{x}<br>sum of cumulative_sales=%{y}<extra></extra>",
         "legendgroup": "Christmas EveL",
         "marker": {
          "color": "#FF6692",
          "pattern": {
           "shape": ""
          }
         },
         "name": "Christmas EveL",
         "nbinsx": 100,
         "offsetgroup": "Christmas EveL",
         "orientation": "v",
         "showlegend": true,
         "type": "histogram",
         "x": [
          17
         ],
         "xaxis": "x",
         "y": [
          743047
         ],
         "yaxis": "y"
        },
        {
         "alignmentgroup": "True",
         "bingroup": "x",
         "histfunc": "sum",
         "hovertemplate": "title=ZERO : FEVER Part.3<br>album_rank=%{x}<br>sum of cumulative_sales=%{y}<extra></extra>",
         "legendgroup": "ZERO : FEVER Part.3",
         "marker": {
          "color": "#B6E880",
          "pattern": {
           "shape": ""
          }
         },
         "name": "ZERO : FEVER Part.3",
         "nbinsx": 100,
         "offsetgroup": "ZERO : FEVER Part.3",
         "orientation": "v",
         "showlegend": true,
         "type": "histogram",
         "x": [
          18
         ],
         "xaxis": "x",
         "y": [
          732923
         ],
         "yaxis": "y"
        },
        {
         "alignmentgroup": "True",
         "bingroup": "x",
         "histfunc": "sum",
         "hovertemplate": "title=Formula of Love: O+T=<3<br>album_rank=%{x}<br>sum of cumulative_sales=%{y}<extra></extra>",
         "legendgroup": "Formula of Love: O+T=<3",
         "marker": {
          "color": "#FF97FF",
          "pattern": {
           "shape": ""
          }
         },
         "name": "Formula of Love: O+T=<3",
         "nbinsx": 100,
         "offsetgroup": "Formula of Love: O+T=<3",
         "orientation": "v",
         "showlegend": true,
         "type": "histogram",
         "x": [
          19
         ],
         "xaxis": "x",
         "y": [
          714955
         ],
         "yaxis": "y"
        },
        {
         "alignmentgroup": "True",
         "bingroup": "x",
         "histfunc": "sum",
         "hovertemplate": "title=LALISA<br>album_rank=%{x}<br>sum of cumulative_sales=%{y}<extra></extra>",
         "legendgroup": "LALISA",
         "marker": {
          "color": "#FECB52",
          "pattern": {
           "shape": ""
          }
         },
         "name": "LALISA",
         "nbinsx": 100,
         "offsetgroup": "LALISA",
         "orientation": "v",
         "showlegend": true,
         "type": "histogram",
         "x": [
          20
         ],
         "xaxis": "x",
         "y": [
          708475
         ],
         "yaxis": "y"
        },
        {
         "alignmentgroup": "True",
         "bingroup": "x",
         "histfunc": "sum",
         "hovertemplate": "title=3rd Single Album [MAVERICK]<br>album_rank=%{x}<br>sum of cumulative_sales=%{y}<extra></extra>",
         "legendgroup": "3rd Single Album [MAVERICK]",
         "marker": {
          "color": "#636efa",
          "pattern": {
           "shape": ""
          }
         },
         "name": "3rd Single Album [MAVERICK]",
         "nbinsx": 100,
         "offsetgroup": "3rd Single Album [MAVERICK]",
         "orientation": "v",
         "showlegend": true,
         "type": "histogram",
         "x": [
          21
         ],
         "xaxis": "x",
         "y": [
          642369
         ],
         "yaxis": "y"
        },
        {
         "alignmentgroup": "True",
         "bingroup": "x",
         "histfunc": "sum",
         "hovertemplate": "title=6TH MINI ALBUM [THRILL-ING]<br>album_rank=%{x}<br>sum of cumulative_sales=%{y}<extra></extra>",
         "legendgroup": "6TH MINI ALBUM [THRILL-ING]",
         "marker": {
          "color": "#EF553B",
          "pattern": {
           "shape": ""
          }
         },
         "name": "6TH MINI ALBUM [THRILL-ING]",
         "nbinsx": 100,
         "offsetgroup": "6TH MINI ALBUM [THRILL-ING]",
         "orientation": "v",
         "showlegend": true,
         "type": "histogram",
         "x": [
          22
         ],
         "xaxis": "x",
         "y": [
          638555
         ],
         "yaxis": "y"
        },
        {
         "alignmentgroup": "True",
         "bingroup": "x",
         "histfunc": "sum",
         "hovertemplate": "title=Savage - The 1st Mini Album<br>album_rank=%{x}<br>sum of cumulative_sales=%{y}<extra></extra>",
         "legendgroup": "Savage - The 1st Mini Album",
         "marker": {
          "color": "#00cc96",
          "pattern": {
           "shape": ""
          }
         },
         "name": "Savage - The 1st Mini Album",
         "nbinsx": 100,
         "offsetgroup": "Savage - The 1st Mini Album",
         "orientation": "v",
         "showlegend": true,
         "type": "histogram",
         "x": [
          23
         ],
         "xaxis": "x",
         "y": [
          574445
         ],
         "yaxis": "y"
        },
        {
         "alignmentgroup": "True",
         "bingroup": "x",
         "histfunc": "sum",
         "hovertemplate": "title=Taste of Love<br>album_rank=%{x}<br>sum of cumulative_sales=%{y}<extra></extra>",
         "legendgroup": "Taste of Love",
         "marker": {
          "color": "#ab63fa",
          "pattern": {
           "shape": ""
          }
         },
         "name": "Taste of Love",
         "nbinsx": 100,
         "offsetgroup": "Taste of Love",
         "orientation": "v",
         "showlegend": true,
         "type": "histogram",
         "x": [
          24
         ],
         "xaxis": "x",
         "y": [
          557389
         ],
         "yaxis": "y"
        },
        {
         "alignmentgroup": "True",
         "bingroup": "x",
         "histfunc": "sum",
         "hovertemplate": "title=R<br>album_rank=%{x}<br>sum of cumulative_sales=%{y}<extra></extra>",
         "legendgroup": "R",
         "marker": {
          "color": "#FFA15A",
          "pattern": {
           "shape": ""
          }
         },
         "name": "R",
         "nbinsx": 100,
         "offsetgroup": "R",
         "orientation": "v",
         "showlegend": true,
         "type": "histogram",
         "x": [
          25
         ],
         "xaxis": "x",
         "y": [
          516915
         ],
         "yaxis": "y"
        },
        {
         "alignmentgroup": "True",
         "bingroup": "x",
         "histfunc": "sum",
         "hovertemplate": "title=ZERO : FEVER Part.2<br>album_rank=%{x}<br>sum of cumulative_sales=%{y}<extra></extra>",
         "legendgroup": "ZERO : FEVER Part.2",
         "marker": {
          "color": "#19d3f3",
          "pattern": {
           "shape": ""
          }
         },
         "name": "ZERO : FEVER Part.2",
         "nbinsx": 100,
         "offsetgroup": "ZERO : FEVER Part.2",
         "orientation": "v",
         "showlegend": true,
         "type": "histogram",
         "x": [
          26
         ],
         "xaxis": "x",
         "y": [
          514498
         ],
         "yaxis": "y"
        },
        {
         "alignmentgroup": "True",
         "bingroup": "x",
         "histfunc": "sum",
         "hovertemplate": "title=CRAZY IN LOVE<br>album_rank=%{x}<br>sum of cumulative_sales=%{y}<extra></extra>",
         "legendgroup": "CRAZY IN LOVE",
         "marker": {
          "color": "#FF6692",
          "pattern": {
           "shape": ""
          }
         },
         "name": "CRAZY IN LOVE",
         "nbinsx": 100,
         "offsetgroup": "CRAZY IN LOVE",
         "orientation": "v",
         "showlegend": true,
         "type": "histogram",
         "x": [
          27
         ],
         "xaxis": "x",
         "y": [
          500124
         ],
         "yaxis": "y"
        },
        {
         "alignmentgroup": "True",
         "bingroup": "x",
         "histfunc": "sum",
         "hovertemplate": "title=The Renaissance - The 10th Album<br>album_rank=%{x}<br>sum of cumulative_sales=%{y}<extra></extra>",
         "legendgroup": "The Renaissance - The 10th Album",
         "marker": {
          "color": "#B6E880",
          "pattern": {
           "shape": ""
          }
         },
         "name": "The Renaissance - The 10th Album",
         "nbinsx": 100,
         "offsetgroup": "The Renaissance - The 10th Album",
         "orientation": "v",
         "showlegend": true,
         "type": "histogram",
         "x": [
          28
         ],
         "xaxis": "x",
         "y": [
          480163
         ],
         "yaxis": "y"
        },
        {
         "alignmentgroup": "True",
         "bingroup": "x",
         "histfunc": "sum",
         "hovertemplate": "title=LOVE YOURSELF 轉 `Tear`<br>album_rank=%{x}<br>sum of cumulative_sales=%{y}<extra></extra>",
         "legendgroup": "LOVE YOURSELF 轉 `Tear`",
         "marker": {
          "color": "#FF97FF",
          "pattern": {
           "shape": ""
          }
         },
         "name": "LOVE YOURSELF 轉 `Tear`",
         "nbinsx": 100,
         "offsetgroup": "LOVE YOURSELF 轉 `Tear`",
         "orientation": "v",
         "showlegend": true,
         "type": "histogram",
         "x": [
          29
         ],
         "xaxis": "x",
         "y": [
          458050
         ],
         "yaxis": "y"
        },
        {
         "alignmentgroup": "True",
         "bingroup": "x",
         "histfunc": "sum",
         "hovertemplate": "title=NO LIMIT<br>album_rank=%{x}<br>sum of cumulative_sales=%{y}<extra></extra>",
         "legendgroup": "NO LIMIT",
         "marker": {
          "color": "#FECB52",
          "pattern": {
           "shape": ""
          }
         },
         "name": "NO LIMIT",
         "nbinsx": 100,
         "offsetgroup": "NO LIMIT",
         "orientation": "v",
         "showlegend": true,
         "type": "histogram",
         "x": [
          30
         ],
         "xaxis": "x",
         "y": [
          424618
         ],
         "yaxis": "y"
        },
        {
         "alignmentgroup": "True",
         "bingroup": "x",
         "histfunc": "sum",
         "hovertemplate": "title=LOVE YOURSELF 結 `Answer`<br>album_rank=%{x}<br>sum of cumulative_sales=%{y}<extra></extra>",
         "legendgroup": "LOVE YOURSELF 結 `Answer`",
         "marker": {
          "color": "#636efa",
          "pattern": {
           "shape": ""
          }
         },
         "name": "LOVE YOURSELF 結 `Answer`",
         "nbinsx": 100,
         "offsetgroup": "LOVE YOURSELF 結 `Answer`",
         "orientation": "v",
         "showlegend": true,
         "type": "histogram",
         "x": [
          31
         ],
         "xaxis": "x",
         "y": [
          411822
         ],
         "yaxis": "y"
        },
        {
         "alignmentgroup": "True",
         "bingroup": "x",
         "histfunc": "sum",
         "hovertemplate": "title=ZERO: FEVER EPILOGUE<br>album_rank=%{x}<br>sum of cumulative_sales=%{y}<extra></extra>",
         "legendgroup": "ZERO: FEVER EPILOGUE",
         "marker": {
          "color": "#EF553B",
          "pattern": {
           "shape": ""
          }
         },
         "name": "ZERO: FEVER EPILOGUE",
         "nbinsx": 100,
         "offsetgroup": "ZERO: FEVER EPILOGUE",
         "orientation": "v",
         "showlegend": true,
         "type": "histogram",
         "x": [
          32
         ],
         "xaxis": "x",
         "y": [
          407165
         ],
         "yaxis": "y"
        },
        {
         "alignmentgroup": "True",
         "bingroup": "x",
         "histfunc": "sum",
         "hovertemplate": "title=5th Album 'LILAC'<br>album_rank=%{x}<br>sum of cumulative_sales=%{y}<extra></extra>",
         "legendgroup": "5th Album 'LILAC'",
         "marker": {
          "color": "#00cc96",
          "pattern": {
           "shape": ""
          }
         },
         "name": "5th Album 'LILAC'",
         "nbinsx": 100,
         "offsetgroup": "5th Album 'LILAC'",
         "orientation": "v",
         "showlegend": true,
         "type": "histogram",
         "x": [
          33
         ],
         "xaxis": "x",
         "y": [
          402864
         ],
         "yaxis": "y"
        },
        {
         "alignmentgroup": "True",
         "bingroup": "x",
         "histfunc": "sum",
         "hovertemplate": "title=NCT RESONANCE Pt. 2 - The 2nd Album<br>album_rank=%{x}<br>sum of cumulative_sales=%{y}<extra></extra>",
         "legendgroup": "NCT RESONANCE Pt. 2 - The 2nd Album",
         "marker": {
          "color": "#ab63fa",
          "pattern": {
           "shape": ""
          }
         },
         "name": "NCT RESONANCE Pt. 2 - The 2nd Album",
         "nbinsx": 100,
         "offsetgroup": "NCT RESONANCE Pt. 2 - The 2nd Album",
         "orientation": "v",
         "showlegend": true,
         "type": "histogram",
         "x": [
          34
         ],
         "xaxis": "x",
         "y": [
          394012
         ],
         "yaxis": "y"
        },
        {
         "alignmentgroup": "True",
         "bingroup": "x",
         "histfunc": "sum",
         "hovertemplate": "title=LOVE YOURSELF 承 `Her`<br>album_rank=%{x}<br>sum of cumulative_sales=%{y}<extra></extra>",
         "legendgroup": "LOVE YOURSELF 承 `Her`",
         "marker": {
          "color": "#FFA15A",
          "pattern": {
           "shape": ""
          }
         },
         "name": "LOVE YOURSELF 承 `Her`",
         "nbinsx": 100,
         "offsetgroup": "LOVE YOURSELF 承 `Her`",
         "orientation": "v",
         "showlegend": true,
         "type": "histogram",
         "x": [
          35
         ],
         "xaxis": "x",
         "y": [
          391160
         ],
         "yaxis": "y"
        },
        {
         "alignmentgroup": "True",
         "bingroup": "x",
         "histfunc": "sum",
         "hovertemplate": "title=공감 - The 1st Mini Album<br>album_rank=%{x}<br>sum of cumulative_sales=%{y}<extra></extra>",
         "legendgroup": "공감 - The 1st Mini Album",
         "marker": {
          "color": "#19d3f3",
          "pattern": {
           "shape": ""
          }
         },
         "name": "공감 - The 1st Mini Album",
         "nbinsx": 100,
         "offsetgroup": "공감 - The 1st Mini Album",
         "orientation": "v",
         "showlegend": true,
         "type": "histogram",
         "x": [
          36
         ],
         "xaxis": "x",
         "y": [
          378715
         ],
         "yaxis": "y"
        },
        {
         "alignmentgroup": "True",
         "bingroup": "x",
         "histfunc": "sum",
         "hovertemplate": "title=Queendom - The 6th Mini Album<br>album_rank=%{x}<br>sum of cumulative_sales=%{y}<extra></extra>",
         "legendgroup": "Queendom - The 6th Mini Album",
         "marker": {
          "color": "#FF6692",
          "pattern": {
           "shape": ""
          }
         },
         "name": "Queendom - The 6th Mini Album",
         "nbinsx": 100,
         "offsetgroup": "Queendom - The 6th Mini Album",
         "orientation": "v",
         "showlegend": true,
         "type": "histogram",
         "x": [
          37
         ],
         "xaxis": "x",
         "y": [
          360070
         ],
         "yaxis": "y"
        },
        {
         "alignmentgroup": "True",
         "bingroup": "x",
         "histfunc": "sum",
         "hovertemplate": "title=All Yours<br>album_rank=%{x}<br>sum of cumulative_sales=%{y}<extra></extra>",
         "legendgroup": "All Yours",
         "marker": {
          "color": "#B6E880",
          "pattern": {
           "shape": ""
          }
         },
         "name": "All Yours",
         "nbinsx": 100,
         "offsetgroup": "All Yours",
         "orientation": "v",
         "showlegend": true,
         "type": "histogram",
         "x": [
          38
         ],
         "xaxis": "x",
         "y": [
          359031
         ],
         "yaxis": "y"
        },
        {
         "alignmentgroup": "True",
         "bingroup": "x",
         "histfunc": "sum",
         "hovertemplate": "title=MAP OF THE SOUL : PERSONA<br>album_rank=%{x}<br>sum of cumulative_sales=%{y}<extra></extra>",
         "legendgroup": "MAP OF THE SOUL : PERSONA",
         "marker": {
          "color": "#FF97FF",
          "pattern": {
           "shape": ""
          }
         },
         "name": "MAP OF THE SOUL : PERSONA",
         "nbinsx": 100,
         "offsetgroup": "MAP OF THE SOUL : PERSONA",
         "orientation": "v",
         "showlegend": true,
         "type": "histogram",
         "x": [
          39
         ],
         "xaxis": "x",
         "y": [
          358154
         ],
         "yaxis": "y"
        },
        {
         "alignmentgroup": "True",
         "bingroup": "x",
         "histfunc": "sum",
         "hovertemplate": "title=One Of A Kind<br>album_rank=%{x}<br>sum of cumulative_sales=%{y}<extra></extra>",
         "legendgroup": "One Of A Kind",
         "marker": {
          "color": "#FECB52",
          "pattern": {
           "shape": ""
          }
         },
         "name": "One Of A Kind",
         "nbinsx": 100,
         "offsetgroup": "One Of A Kind",
         "orientation": "v",
         "showlegend": true,
         "type": "histogram",
         "x": [
          40
         ],
         "xaxis": "x",
         "y": [
          349549
         ],
         "yaxis": "y"
        },
        {
         "alignmentgroup": "True",
         "bingroup": "x",
         "histfunc": "sum",
         "hovertemplate": "title=MAP OF THE SOUL : 7<br>album_rank=%{x}<br>sum of cumulative_sales=%{y}<extra></extra>",
         "legendgroup": "MAP OF THE SOUL : 7",
         "marker": {
          "color": "#636efa",
          "pattern": {
           "shape": ""
          }
         },
         "name": "MAP OF THE SOUL : 7",
         "nbinsx": 100,
         "offsetgroup": "MAP OF THE SOUL : 7",
         "orientation": "v",
         "showlegend": true,
         "type": "histogram",
         "x": [
          41
         ],
         "xaxis": "x",
         "y": [
          345192
         ],
         "yaxis": "y"
        },
        {
         "alignmentgroup": "True",
         "bingroup": "x",
         "histfunc": "sum",
         "hovertemplate": "title=THE FIRST STEP : TREASURE EFFECT<br>album_rank=%{x}<br>sum of cumulative_sales=%{y}<extra></extra>",
         "legendgroup": "THE FIRST STEP : TREASURE EFFECT",
         "marker": {
          "color": "#EF553B",
          "pattern": {
           "shape": ""
          }
         },
         "name": "THE FIRST STEP : TREASURE EFFECT",
         "nbinsx": 100,
         "offsetgroup": "THE FIRST STEP : TREASURE EFFECT",
         "orientation": "v",
         "showlegend": true,
         "type": "histogram",
         "x": [
          42
         ],
         "xaxis": "x",
         "y": [
          331320
         ],
         "yaxis": "y"
        },
        {
         "alignmentgroup": "True",
         "bingroup": "x",
         "histfunc": "sum",
         "hovertemplate": "title=GUESS WHO<br>album_rank=%{x}<br>sum of cumulative_sales=%{y}<extra></extra>",
         "legendgroup": "GUESS WHO",
         "marker": {
          "color": "#00cc96",
          "pattern": {
           "shape": ""
          }
         },
         "name": "GUESS WHO",
         "nbinsx": 100,
         "offsetgroup": "GUESS WHO",
         "orientation": "v",
         "showlegend": true,
         "type": "histogram",
         "x": [
          43
         ],
         "xaxis": "x",
         "y": [
          330070
         ],
         "yaxis": "y"
        },
        {
         "alignmentgroup": "True",
         "bingroup": "x",
         "histfunc": "sum",
         "hovertemplate": "title=YELLOW<br>album_rank=%{x}<br>sum of cumulative_sales=%{y}<extra></extra>",
         "legendgroup": "YELLOW",
         "marker": {
          "color": "#ab63fa",
          "pattern": {
           "shape": ""
          }
         },
         "name": "YELLOW",
         "nbinsx": 100,
         "offsetgroup": "YELLOW",
         "orientation": "v",
         "showlegend": true,
         "type": "histogram",
         "x": [
          44
         ],
         "xaxis": "x",
         "y": [
          318743
         ],
         "yaxis": "y"
        },
        {
         "alignmentgroup": "True",
         "bingroup": "x",
         "histfunc": "sum",
         "hovertemplate": "title=SWITCH ON<br>album_rank=%{x}<br>sum of cumulative_sales=%{y}<extra></extra>",
         "legendgroup": "SWITCH ON",
         "marker": {
          "color": "#FFA15A",
          "pattern": {
           "shape": ""
          }
         },
         "name": "SWITCH ON",
         "nbinsx": 100,
         "offsetgroup": "SWITCH ON",
         "orientation": "v",
         "showlegend": true,
         "type": "histogram",
         "x": [
          45
         ],
         "xaxis": "x",
         "y": [
          309750
         ],
         "yaxis": "y"
        },
        {
         "alignmentgroup": "True",
         "bingroup": "x",
         "histfunc": "sum",
         "hovertemplate": "title=Don`t Call Me - The 7th Album<br>album_rank=%{x}<br>sum of cumulative_sales=%{y}<extra></extra>",
         "legendgroup": "Don`t Call Me - The 7th Album",
         "marker": {
          "color": "#19d3f3",
          "pattern": {
           "shape": ""
          }
         },
         "name": "Don`t Call Me - The 7th Album",
         "nbinsx": 100,
         "offsetgroup": "Don`t Call Me - The 7th Album",
         "orientation": "v",
         "showlegend": true,
         "type": "histogram",
         "x": [
          46
         ],
         "xaxis": "x",
         "y": [
          300977
         ],
         "yaxis": "y"
        },
        {
         "alignmentgroup": "True",
         "bingroup": "x",
         "histfunc": "sum",
         "hovertemplate": "title=Kick Back - The 3rd Mini Album<br>album_rank=%{x}<br>sum of cumulative_sales=%{y}<extra></extra>",
         "legendgroup": "Kick Back - The 3rd Mini Album",
         "marker": {
          "color": "#FF6692",
          "pattern": {
           "shape": ""
          }
         },
         "name": "Kick Back - The 3rd Mini Album",
         "nbinsx": 100,
         "offsetgroup": "Kick Back - The 3rd Mini Album",
         "orientation": "v",
         "showlegend": true,
         "type": "histogram",
         "x": [
          47
         ],
         "xaxis": "x",
         "y": [
          275497
         ],
         "yaxis": "y"
        },
        {
         "alignmentgroup": "True",
         "bingroup": "x",
         "histfunc": "sum",
         "hovertemplate": "title=ELEVEN<br>album_rank=%{x}<br>sum of cumulative_sales=%{y}<extra></extra>",
         "legendgroup": "ELEVEN",
         "marker": {
          "color": "#B6E880",
          "pattern": {
           "shape": ""
          }
         },
         "name": "ELEVEN",
         "nbinsx": 100,
         "offsetgroup": "ELEVEN",
         "orientation": "v",
         "showlegend": true,
         "type": "histogram",
         "x": [
          48
         ],
         "xaxis": "x",
         "y": [
          268396
         ],
         "yaxis": "y"
        },
        {
         "alignmentgroup": "True",
         "bingroup": "x",
         "histfunc": "sum",
         "hovertemplate": "title=Hello Future - The 1st Album Repackage (Kit)<br>album_rank=%{x}<br>sum of cumulative_sales=%{y}<extra></extra>",
         "legendgroup": "Hello Future - The 1st Album Repackage (Kit)",
         "marker": {
          "color": "#FF97FF",
          "pattern": {
           "shape": ""
          }
         },
         "name": "Hello Future - The 1st Album Repackage (Kit)",
         "nbinsx": 100,
         "offsetgroup": "Hello Future - The 1st Album Repackage (Kit)",
         "orientation": "v",
         "showlegend": true,
         "type": "histogram",
         "x": [
          49
         ],
         "xaxis": "x",
         "y": [
          268252
         ],
         "yaxis": "y"
        },
        {
         "alignmentgroup": "True",
         "bingroup": "x",
         "histfunc": "sum",
         "hovertemplate": "title=Peaches - The 2nd Mini Album<br>album_rank=%{x}<br>sum of cumulative_sales=%{y}<extra></extra>",
         "legendgroup": "Peaches - The 2nd Mini Album",
         "marker": {
          "color": "#FECB52",
          "pattern": {
           "shape": ""
          }
         },
         "name": "Peaches - The 2nd Mini Album",
         "nbinsx": 100,
         "offsetgroup": "Peaches - The 2nd Mini Album",
         "orientation": "v",
         "showlegend": true,
         "type": "histogram",
         "x": [
          50
         ],
         "xaxis": "x",
         "y": [
          265201
         ],
         "yaxis": "y"
        },
        {
         "alignmentgroup": "True",
         "bingroup": "x",
         "histfunc": "sum",
         "hovertemplate": "title=Favorite - The 3rd Album Repackage (Kit)<br>album_rank=%{x}<br>sum of cumulative_sales=%{y}<extra></extra>",
         "legendgroup": "Favorite - The 3rd Album Repackage (Kit)",
         "marker": {
          "color": "#636efa",
          "pattern": {
           "shape": ""
          }
         },
         "name": "Favorite - The 3rd Album Repackage (Kit)",
         "nbinsx": 100,
         "offsetgroup": "Favorite - The 3rd Album Repackage (Kit)",
         "orientation": "v",
         "showlegend": true,
         "type": "histogram",
         "x": [
          51
         ],
         "xaxis": "x",
         "y": [
          231958
         ],
         "yaxis": "y"
        },
        {
         "alignmentgroup": "True",
         "bingroup": "x",
         "histfunc": "sum",
         "hovertemplate": "title=TURN OVER<br>album_rank=%{x}<br>sum of cumulative_sales=%{y}<extra></extra>",
         "legendgroup": "TURN OVER",
         "marker": {
          "color": "#EF553B",
          "pattern": {
           "shape": ""
          }
         },
         "name": "TURN OVER",
         "nbinsx": 100,
         "offsetgroup": "TURN OVER",
         "orientation": "v",
         "showlegend": true,
         "type": "histogram",
         "x": [
          52
         ],
         "xaxis": "x",
         "y": [
          217201
         ],
         "yaxis": "y"
        },
        {
         "alignmentgroup": "True",
         "bingroup": "x",
         "histfunc": "sum",
         "hovertemplate": "title=The 2nd Album 'Romanticize'<br>album_rank=%{x}<br>sum of cumulative_sales=%{y}<extra></extra>",
         "legendgroup": "The 2nd Album 'Romanticize'",
         "marker": {
          "color": "#00cc96",
          "pattern": {
           "shape": ""
          }
         },
         "name": "The 2nd Album 'Romanticize'",
         "nbinsx": 100,
         "offsetgroup": "The 2nd Album 'Romanticize'",
         "orientation": "v",
         "showlegend": true,
         "type": "histogram",
         "x": [
          53
         ],
         "xaxis": "x",
         "y": [
          206188
         ],
         "yaxis": "y"
        },
        {
         "alignmentgroup": "True",
         "bingroup": "x",
         "histfunc": "sum",
         "hovertemplate": "title=I burn<br>album_rank=%{x}<br>sum of cumulative_sales=%{y}<extra></extra>",
         "legendgroup": "I burn",
         "marker": {
          "color": "#ab63fa",
          "pattern": {
           "shape": ""
          }
         },
         "name": "I burn",
         "nbinsx": 100,
         "offsetgroup": "I burn",
         "orientation": "v",
         "showlegend": true,
         "type": "histogram",
         "x": [
          54
         ],
         "xaxis": "x",
         "y": [
          202573
         ],
         "yaxis": "y"
        },
        {
         "alignmentgroup": "True",
         "bingroup": "x",
         "histfunc": "sum",
         "hovertemplate": "title=NCT 2018 EMPATHY<br>album_rank=%{x}<br>sum of cumulative_sales=%{y}<extra></extra>",
         "legendgroup": "NCT 2018 EMPATHY",
         "marker": {
          "color": "#FFA15A",
          "pattern": {
           "shape": ""
          }
         },
         "name": "NCT 2018 EMPATHY",
         "nbinsx": 100,
         "offsetgroup": "NCT 2018 EMPATHY",
         "orientation": "v",
         "showlegend": true,
         "type": "histogram",
         "x": [
          55
         ],
         "xaxis": "x",
         "y": [
          193442
         ],
         "yaxis": "y"
        },
        {
         "alignmentgroup": "True",
         "bingroup": "x",
         "histfunc": "sum",
         "hovertemplate": "title=THE ALBUM<br>album_rank=%{x}<br>sum of cumulative_sales=%{y}<extra></extra>",
         "legendgroup": "THE ALBUM",
         "marker": {
          "color": "#19d3f3",
          "pattern": {
           "shape": ""
          }
         },
         "name": "THE ALBUM",
         "nbinsx": 100,
         "offsetgroup": "THE ALBUM",
         "orientation": "v",
         "showlegend": true,
         "type": "histogram",
         "x": [
          56
         ],
         "xaxis": "x",
         "y": [
          190729
         ],
         "yaxis": "y"
        },
        {
         "alignmentgroup": "True",
         "bingroup": "x",
         "histfunc": "sum",
         "hovertemplate": "title=NOIR - The 2nd Mini Album<br>album_rank=%{x}<br>sum of cumulative_sales=%{y}<extra></extra>",
         "legendgroup": "NOIR - The 2nd Mini Album",
         "marker": {
          "color": "#FF6692",
          "pattern": {
           "shape": ""
          }
         },
         "name": "NOIR - The 2nd Mini Album",
         "nbinsx": 100,
         "offsetgroup": "NOIR - The 2nd Mini Album",
         "orientation": "v",
         "showlegend": true,
         "type": "histogram",
         "x": [
          57
         ],
         "xaxis": "x",
         "y": [
          190352
         ],
         "yaxis": "y"
        },
        {
         "alignmentgroup": "True",
         "bingroup": "x",
         "histfunc": "sum",
         "hovertemplate": "title=BORDER : DAY ONE<br>album_rank=%{x}<br>sum of cumulative_sales=%{y}<extra></extra>",
         "legendgroup": "BORDER : DAY ONE",
         "marker": {
          "color": "#B6E880",
          "pattern": {
           "shape": ""
          }
         },
         "name": "BORDER : DAY ONE",
         "nbinsx": 100,
         "offsetgroup": "BORDER : DAY ONE",
         "orientation": "v",
         "showlegend": true,
         "type": "histogram",
         "x": [
          58
         ],
         "xaxis": "x",
         "y": [
          189832
         ],
         "yaxis": "y"
        },
        {
         "alignmentgroup": "True",
         "bingroup": "x",
         "histfunc": "sum",
         "hovertemplate": "title=화양연화 Young Forever<br>album_rank=%{x}<br>sum of cumulative_sales=%{y}<extra></extra>",
         "legendgroup": "화양연화 Young Forever",
         "marker": {
          "color": "#FF97FF",
          "pattern": {
           "shape": ""
          }
         },
         "name": "화양연화 Young Forever",
         "nbinsx": 100,
         "offsetgroup": "화양연화 Young Forever",
         "orientation": "v",
         "showlegend": true,
         "type": "histogram",
         "x": [
          59
         ],
         "xaxis": "x",
         "y": [
          186595
         ],
         "yaxis": "y"
        },
        {
         "alignmentgroup": "True",
         "bingroup": "x",
         "histfunc": "sum",
         "hovertemplate": "title=WINGS<br>album_rank=%{x}<br>sum of cumulative_sales=%{y}<extra></extra>",
         "legendgroup": "WINGS",
         "marker": {
          "color": "#FECB52",
          "pattern": {
           "shape": ""
          }
         },
         "name": "WINGS",
         "nbinsx": 100,
         "offsetgroup": "WINGS",
         "orientation": "v",
         "showlegend": true,
         "type": "histogram",
         "x": [
          60
         ],
         "xaxis": "x",
         "y": [
          184418
         ],
         "yaxis": "y"
        },
        {
         "alignmentgroup": "True",
         "bingroup": "x",
         "histfunc": "sum",
         "hovertemplate": "title=YOU NEVER WALK ALONE<br>album_rank=%{x}<br>sum of cumulative_sales=%{y}<extra></extra>",
         "legendgroup": "YOU NEVER WALK ALONE",
         "marker": {
          "color": "#636efa",
          "pattern": {
           "shape": ""
          }
         },
         "name": "YOU NEVER WALK ALONE",
         "nbinsx": 100,
         "offsetgroup": "YOU NEVER WALK ALONE",
         "orientation": "v",
         "showlegend": true,
         "type": "histogram",
         "x": [
          61
         ],
         "xaxis": "x",
         "y": [
          184398
         ],
         "yaxis": "y"
        },
        {
         "alignmentgroup": "True",
         "bingroup": "x",
         "histfunc": "sum",
         "hovertemplate": "title=1ST ALBUM PART 1 [The Awakening: Written In The Stars]<br>album_rank=%{x}<br>sum of cumulative_sales=%{y}<extra></extra>",
         "legendgroup": "1ST ALBUM PART 1 [The Awakening: Written In The Stars]",
         "marker": {
          "color": "#EF553B",
          "pattern": {
           "shape": ""
          }
         },
         "name": "1ST ALBUM PART 1 [The Awakening: Written In The Stars]",
         "nbinsx": 100,
         "offsetgroup": "1ST ALBUM PART 1 [The Awakening: Written In The Stars]",
         "orientation": "v",
         "showlegend": true,
         "type": "histogram",
         "x": [
          62
         ],
         "xaxis": "x",
         "y": [
          181291
         ],
         "yaxis": "y"
        },
        {
         "alignmentgroup": "True",
         "bingroup": "x",
         "histfunc": "sum",
         "hovertemplate": "title=RUMINATION<br>album_rank=%{x}<br>sum of cumulative_sales=%{y}<extra></extra>",
         "legendgroup": "RUMINATION",
         "marker": {
          "color": "#00cc96",
          "pattern": {
           "shape": ""
          }
         },
         "name": "RUMINATION",
         "nbinsx": 100,
         "offsetgroup": "RUMINATION",
         "orientation": "v",
         "showlegend": true,
         "type": "histogram",
         "x": [
          63
         ],
         "xaxis": "x",
         "y": [
          179581
         ],
         "yaxis": "y"
        },
        {
         "alignmentgroup": "True",
         "bingroup": "x",
         "histfunc": "sum",
         "hovertemplate": "title=HIDEOUT: BE OUR VOICE - SEASON 3.<br>album_rank=%{x}<br>sum of cumulative_sales=%{y}<extra></extra>",
         "legendgroup": "HIDEOUT: BE OUR VOICE - SEASON 3.",
         "marker": {
          "color": "#ab63fa",
          "pattern": {
           "shape": ""
          }
         },
         "name": "HIDEOUT: BE OUR VOICE - SEASON 3.",
         "nbinsx": 100,
         "offsetgroup": "HIDEOUT: BE OUR VOICE - SEASON 3.",
         "orientation": "v",
         "showlegend": true,
         "type": "histogram",
         "x": [
          64
         ],
         "xaxis": "x",
         "y": [
          176511
         ],
         "yaxis": "y"
        },
        {
         "alignmentgroup": "True",
         "bingroup": "x",
         "histfunc": "sum",
         "hovertemplate": "title=BLOOD MOON <br>album_rank=%{x}<br>sum of cumulative_sales=%{y}<extra></extra>",
         "legendgroup": "BLOOD MOON ",
         "marker": {
          "color": "#FFA15A",
          "pattern": {
           "shape": ""
          }
         },
         "name": "BLOOD MOON ",
         "nbinsx": 100,
         "offsetgroup": "BLOOD MOON ",
         "orientation": "v",
         "showlegend": true,
         "type": "histogram",
         "x": [
          65
         ],
         "xaxis": "x",
         "y": [
          175287
         ],
         "yaxis": "y"
        },
        {
         "alignmentgroup": "True",
         "bingroup": "x",
         "histfunc": "sum",
         "hovertemplate": "title=Like Water - The 1st Mini Album<br>album_rank=%{x}<br>sum of cumulative_sales=%{y}<extra></extra>",
         "legendgroup": "Like Water - The 1st Mini Album",
         "marker": {
          "color": "#19d3f3",
          "pattern": {
           "shape": ""
          }
         },
         "name": "Like Water - The 1st Mini Album",
         "nbinsx": 100,
         "offsetgroup": "Like Water - The 1st Mini Album",
         "orientation": "v",
         "showlegend": true,
         "type": "histogram",
         "x": [
          66
         ],
         "xaxis": "x",
         "y": [
          169714
         ],
         "yaxis": "y"
        },
        {
         "alignmentgroup": "True",
         "bingroup": "x",
         "histfunc": "sum",
         "hovertemplate": "title=화양연화 pt.2<br>album_rank=%{x}<br>sum of cumulative_sales=%{y}<extra></extra>",
         "legendgroup": "화양연화 pt.2",
         "marker": {
          "color": "#FF6692",
          "pattern": {
           "shape": ""
          }
         },
         "name": "화양연화 pt.2",
         "nbinsx": 100,
         "offsetgroup": "화양연화 pt.2",
         "orientation": "v",
         "showlegend": true,
         "type": "histogram",
         "x": [
          67
         ],
         "xaxis": "x",
         "y": [
          166566
         ],
         "yaxis": "y"
        },
        {
         "alignmentgroup": "True",
         "bingroup": "x",
         "histfunc": "sum",
         "hovertemplate": "title=STEREOTYPE<br>album_rank=%{x}<br>sum of cumulative_sales=%{y}<extra></extra>",
         "legendgroup": "STEREOTYPE",
         "marker": {
          "color": "#B6E880",
          "pattern": {
           "shape": ""
          }
         },
         "name": "STEREOTYPE",
         "nbinsx": 100,
         "offsetgroup": "STEREOTYPE",
         "orientation": "v",
         "showlegend": true,
         "type": "histogram",
         "x": [
          68
         ],
         "xaxis": "x",
         "y": [
          166529
         ],
         "yaxis": "y"
        },
        {
         "alignmentgroup": "True",
         "bingroup": "x",
         "histfunc": "sum",
         "hovertemplate": "title=minisode1 : Blue Hour<br>album_rank=%{x}<br>sum of cumulative_sales=%{y}<extra></extra>",
         "legendgroup": "minisode1 : Blue Hour",
         "marker": {
          "color": "#FF97FF",
          "pattern": {
           "shape": ""
          }
         },
         "name": "minisode1 : Blue Hour",
         "nbinsx": 100,
         "offsetgroup": "minisode1 : Blue Hour",
         "orientation": "v",
         "showlegend": true,
         "type": "histogram",
         "x": [
          69
         ],
         "xaxis": "x",
         "y": [
          161879
         ],
         "yaxis": "y"
        },
        {
         "alignmentgroup": "True",
         "bingroup": "x",
         "histfunc": "sum",
         "hovertemplate": "title=3RD ALBUM `An Ode`<br>album_rank=%{x}<br>sum of cumulative_sales=%{y}<extra></extra>",
         "legendgroup": "3RD ALBUM `An Ode`",
         "marker": {
          "color": "#FECB52",
          "pattern": {
           "shape": ""
          }
         },
         "name": "3RD ALBUM `An Ode`",
         "nbinsx": 100,
         "offsetgroup": "3RD ALBUM `An Ode`",
         "orientation": "v",
         "showlegend": true,
         "type": "histogram",
         "x": [
          70
         ],
         "xaxis": "x",
         "y": [
          153073
         ],
         "yaxis": "y"
        },
        {
         "alignmentgroup": "True",
         "bingroup": "x",
         "histfunc": "sum",
         "hovertemplate": "title=2nd Album [Game Changer]<br>album_rank=%{x}<br>sum of cumulative_sales=%{y}<extra></extra>",
         "legendgroup": "2nd Album [Game Changer]",
         "marker": {
          "color": "#636efa",
          "pattern": {
           "shape": ""
          }
         },
         "name": "2nd Album [Game Changer]",
         "nbinsx": 100,
         "offsetgroup": "2nd Album [Game Changer]",
         "orientation": "v",
         "showlegend": true,
         "type": "histogram",
         "x": [
          71
         ],
         "xaxis": "x",
         "y": [
          148177
         ],
         "yaxis": "y"
        },
        {
         "alignmentgroup": "True",
         "bingroup": "x",
         "histfunc": "sum",
         "hovertemplate": "title=Atlantis - The 7th Album Repackage<br>album_rank=%{x}<br>sum of cumulative_sales=%{y}<extra></extra>",
         "legendgroup": "Atlantis - The 7th Album Repackage",
         "marker": {
          "color": "#EF553B",
          "pattern": {
           "shape": ""
          }
         },
         "name": "Atlantis - The 7th Album Repackage",
         "nbinsx": 100,
         "offsetgroup": "Atlantis - The 7th Album Repackage",
         "orientation": "v",
         "showlegend": true,
         "type": "histogram",
         "x": [
          72
         ],
         "xaxis": "x",
         "y": [
          145435
         ],
         "yaxis": "y"
        },
        {
         "alignmentgroup": "True",
         "bingroup": "x",
         "histfunc": "sum",
         "hovertemplate": "title=그리움, 아낌없이 주는 나무<br>album_rank=%{x}<br>sum of cumulative_sales=%{y}<extra></extra>",
         "legendgroup": "그리움, 아낌없이 주는 나무",
         "marker": {
          "color": "#00cc96",
          "pattern": {
           "shape": ""
          }
         },
         "name": "그리움, 아낌없이 주는 나무",
         "nbinsx": 100,
         "offsetgroup": "그리움, 아낌없이 주는 나무",
         "orientation": "v",
         "showlegend": true,
         "type": "histogram",
         "x": [
          73
         ],
         "xaxis": "x",
         "y": [
          144576
         ],
         "yaxis": "y"
        },
        {
         "alignmentgroup": "True",
         "bingroup": "x",
         "histfunc": "sum",
         "hovertemplate": "title=MUST<br>album_rank=%{x}<br>sum of cumulative_sales=%{y}<extra></extra>",
         "legendgroup": "MUST",
         "marker": {
          "color": "#ab63fa",
          "pattern": {
           "shape": ""
          }
         },
         "name": "MUST",
         "nbinsx": 100,
         "offsetgroup": "MUST",
         "orientation": "v",
         "showlegend": true,
         "type": "histogram",
         "x": [
          74
         ],
         "xaxis": "x",
         "y": [
          141100
         ],
         "yaxis": "y"
        },
        {
         "alignmentgroup": "True",
         "bingroup": "x",
         "histfunc": "sum",
         "hovertemplate": "title=Advice - The 3rd Mini Album<br>album_rank=%{x}<br>sum of cumulative_sales=%{y}<extra></extra>",
         "legendgroup": "Advice - The 3rd Mini Album",
         "marker": {
          "color": "#FFA15A",
          "pattern": {
           "shape": ""
          }
         },
         "name": "Advice - The 3rd Mini Album",
         "nbinsx": 100,
         "offsetgroup": "Advice - The 3rd Mini Album",
         "orientation": "v",
         "showlegend": true,
         "type": "histogram",
         "x": [
          75
         ],
         "xaxis": "x",
         "y": [
          134904
         ],
         "yaxis": "y"
        },
        {
         "alignmentgroup": "True",
         "bingroup": "x",
         "histfunc": "sum",
         "hovertemplate": "title=riBBon<br>album_rank=%{x}<br>sum of cumulative_sales=%{y}<extra></extra>",
         "legendgroup": "riBBon",
         "marker": {
          "color": "#19d3f3",
          "pattern": {
           "shape": ""
          }
         },
         "name": "riBBon",
         "nbinsx": 100,
         "offsetgroup": "riBBon",
         "orientation": "v",
         "showlegend": true,
         "type": "histogram",
         "x": [
          76
         ],
         "xaxis": "x",
         "y": [
          134057
         ],
         "yaxis": "y"
        },
        {
         "alignmentgroup": "True",
         "bingroup": "x",
         "histfunc": "sum",
         "hovertemplate": "title=화양연화 pt.1<br>album_rank=%{x}<br>sum of cumulative_sales=%{y}<extra></extra>",
         "legendgroup": "화양연화 pt.1",
         "marker": {
          "color": "#FF6692",
          "pattern": {
           "shape": ""
          }
         },
         "name": "화양연화 pt.1",
         "nbinsx": 100,
         "offsetgroup": "화양연화 pt.1",
         "orientation": "v",
         "showlegend": true,
         "type": "histogram",
         "x": [
          77
         ],
         "xaxis": "x",
         "y": [
          132293
         ],
         "yaxis": "y"
        },
        {
         "alignmentgroup": "True",
         "bingroup": "x",
         "histfunc": "sum",
         "hovertemplate": "title=WAW<br>album_rank=%{x}<br>sum of cumulative_sales=%{y}<extra></extra>",
         "legendgroup": "WAW",
         "marker": {
          "color": "#B6E880",
          "pattern": {
           "shape": ""
          }
         },
         "name": "WAW",
         "nbinsx": 100,
         "offsetgroup": "WAW",
         "orientation": "v",
         "showlegend": true,
         "type": "histogram",
         "x": [
          78
         ],
         "xaxis": "x",
         "y": [
          130680
         ],
         "yaxis": "y"
        },
        {
         "alignmentgroup": "True",
         "bingroup": "x",
         "histfunc": "sum",
         "hovertemplate": "title=We Boom - The 3rd Mini Album<br>album_rank=%{x}<br>sum of cumulative_sales=%{y}<extra></extra>",
         "legendgroup": "We Boom - The 3rd Mini Album",
         "marker": {
          "color": "#FF97FF",
          "pattern": {
           "shape": ""
          }
         },
         "name": "We Boom - The 3rd Mini Album",
         "nbinsx": 100,
         "offsetgroup": "We Boom - The 3rd Mini Album",
         "orientation": "v",
         "showlegend": true,
         "type": "histogram",
         "x": [
          79
         ],
         "xaxis": "x",
         "y": [
          129693
         ],
         "yaxis": "y"
        },
        {
         "alignmentgroup": "True",
         "bingroup": "x",
         "histfunc": "sum",
         "hovertemplate": "title=BAD LOVE - The 1st Mini Album<br>album_rank=%{x}<br>sum of cumulative_sales=%{y}<extra></extra>",
         "legendgroup": "BAD LOVE - The 1st Mini Album",
         "marker": {
          "color": "#FECB52",
          "pattern": {
           "shape": ""
          }
         },
         "name": "BAD LOVE - The 1st Mini Album",
         "nbinsx": 100,
         "offsetgroup": "BAD LOVE - The 1st Mini Album",
         "orientation": "v",
         "showlegend": true,
         "type": "histogram",
         "x": [
          80
         ],
         "xaxis": "x",
         "y": [
          127639
         ],
         "yaxis": "y"
        },
        {
         "alignmentgroup": "True",
         "bingroup": "x",
         "histfunc": "sum",
         "hovertemplate": "title=Dystopia : Road to Utopia<br>album_rank=%{x}<br>sum of cumulative_sales=%{y}<extra></extra>",
         "legendgroup": "Dystopia : Road to Utopia",
         "marker": {
          "color": "#636efa",
          "pattern": {
           "shape": ""
          }
         },
         "name": "Dystopia : Road to Utopia",
         "nbinsx": 100,
         "offsetgroup": "Dystopia : Road to Utopia",
         "orientation": "v",
         "showlegend": true,
         "type": "histogram",
         "x": [
          81
         ],
         "xaxis": "x",
         "y": [
          126614
         ],
         "yaxis": "y"
        },
        {
         "alignmentgroup": "True",
         "bingroup": "x",
         "histfunc": "sum",
         "hovertemplate": "title=[Summer Holiday]<br>album_rank=%{x}<br>sum of cumulative_sales=%{y}<extra></extra>",
         "legendgroup": "[Summer Holiday]",
         "marker": {
          "color": "#EF553B",
          "pattern": {
           "shape": ""
          }
         },
         "name": "[Summer Holiday]",
         "nbinsx": 100,
         "offsetgroup": "[Summer Holiday]",
         "orientation": "v",
         "showlegend": true,
         "type": "histogram",
         "x": [
          82
         ],
         "xaxis": "x",
         "y": [
          126294
         ],
         "yaxis": "y"
        },
        {
         "alignmentgroup": "True",
         "bingroup": "x",
         "histfunc": "sum",
         "hovertemplate": "title=IN生<br>album_rank=%{x}<br>sum of cumulative_sales=%{y}<extra></extra>",
         "legendgroup": "IN生",
         "marker": {
          "color": "#00cc96",
          "pattern": {
           "shape": ""
          }
         },
         "name": "IN生",
         "nbinsx": 100,
         "offsetgroup": "IN生",
         "orientation": "v",
         "showlegend": true,
         "type": "histogram",
         "x": [
          83
         ],
         "xaxis": "x",
         "y": [
          125570
         ],
         "yaxis": "y"
        },
        {
         "alignmentgroup": "True",
         "bingroup": "x",
         "histfunc": "sum",
         "hovertemplate": "title=[&]<br>album_rank=%{x}<br>sum of cumulative_sales=%{y}<extra></extra>",
         "legendgroup": "[&]",
         "marker": {
          "color": "#ab63fa",
          "pattern": {
           "shape": ""
          }
         },
         "name": "[&]",
         "nbinsx": 100,
         "offsetgroup": "[&]",
         "orientation": "v",
         "showlegend": true,
         "type": "histogram",
         "x": [
          84
         ],
         "xaxis": "x",
         "y": [
          125457
         ],
         "yaxis": "y"
        },
        {
         "alignmentgroup": "True",
         "bingroup": "x",
         "histfunc": "sum",
         "hovertemplate": "title=O! RUL8 ,2?<br>album_rank=%{x}<br>sum of cumulative_sales=%{y}<extra></extra>",
         "legendgroup": "O! RUL8 ,2?",
         "marker": {
          "color": "#FFA15A",
          "pattern": {
           "shape": ""
          }
         },
         "name": "O! RUL8 ,2?",
         "nbinsx": 100,
         "offsetgroup": "O! RUL8 ,2?",
         "orientation": "v",
         "showlegend": true,
         "type": "histogram",
         "x": [
          85
         ],
         "xaxis": "x",
         "y": [
          125217
         ],
         "yaxis": "y"
        },
        {
         "alignmentgroup": "True",
         "bingroup": "x",
         "histfunc": "sum",
         "hovertemplate": "title=Dark & Wild<br>album_rank=%{x}<br>sum of cumulative_sales=%{y}<extra></extra>",
         "legendgroup": "Dark & Wild",
         "marker": {
          "color": "#19d3f3",
          "pattern": {
           "shape": ""
          }
         },
         "name": "Dark & Wild",
         "nbinsx": 100,
         "offsetgroup": "Dark & Wild",
         "orientation": "v",
         "showlegend": true,
         "type": "histogram",
         "x": [
          86
         ],
         "xaxis": "x",
         "y": [
          122505
         ],
         "yaxis": "y"
        },
        {
         "alignmentgroup": "True",
         "bingroup": "x",
         "histfunc": "sum",
         "hovertemplate": "title=Skool Luv Affair<br>album_rank=%{x}<br>sum of cumulative_sales=%{y}<extra></extra>",
         "legendgroup": "Skool Luv Affair",
         "marker": {
          "color": "#FF6692",
          "pattern": {
           "shape": ""
          }
         },
         "name": "Skool Luv Affair",
         "nbinsx": 100,
         "offsetgroup": "Skool Luv Affair",
         "orientation": "v",
         "showlegend": true,
         "type": "histogram",
         "x": [
          87
         ],
         "xaxis": "x",
         "y": [
          121285
         ],
         "yaxis": "y"
        },
        {
         "alignmentgroup": "True",
         "bingroup": "x",
         "histfunc": "sum",
         "hovertemplate": "title=KILL THIS LOVE<br>album_rank=%{x}<br>sum of cumulative_sales=%{y}<extra></extra>",
         "legendgroup": "KILL THIS LOVE",
         "marker": {
          "color": "#B6E880",
          "pattern": {
           "shape": ""
          }
         },
         "name": "KILL THIS LOVE",
         "nbinsx": 100,
         "offsetgroup": "KILL THIS LOVE",
         "orientation": "v",
         "showlegend": true,
         "type": "histogram",
         "x": [
          88
         ],
         "xaxis": "x",
         "y": [
          120001
         ],
         "yaxis": "y"
        },
        {
         "alignmentgroup": "True",
         "bingroup": "x",
         "histfunc": "sum",
         "hovertemplate": "title=DEVIL<br>album_rank=%{x}<br>sum of cumulative_sales=%{y}<extra></extra>",
         "legendgroup": "DEVIL",
         "marker": {
          "color": "#FF97FF",
          "pattern": {
           "shape": ""
          }
         },
         "name": "DEVIL",
         "nbinsx": 100,
         "offsetgroup": "DEVIL",
         "orientation": "v",
         "showlegend": true,
         "type": "histogram",
         "x": [
          89
         ],
         "xaxis": "x",
         "y": [
          118372
         ],
         "yaxis": "y"
        },
        {
         "alignmentgroup": "True",
         "bingroup": "x",
         "histfunc": "sum",
         "hovertemplate": "title=2 Cool 4 Skool<br>album_rank=%{x}<br>sum of cumulative_sales=%{y}<extra></extra>",
         "legendgroup": "2 Cool 4 Skool",
         "marker": {
          "color": "#FECB52",
          "pattern": {
           "shape": ""
          }
         },
         "name": "2 Cool 4 Skool",
         "nbinsx": 100,
         "offsetgroup": "2 Cool 4 Skool",
         "orientation": "v",
         "showlegend": true,
         "type": "histogram",
         "x": [
          90
         ],
         "xaxis": "x",
         "y": [
          115160
         ],
         "yaxis": "y"
        },
        {
         "alignmentgroup": "True",
         "bingroup": "x",
         "histfunc": "sum",
         "hovertemplate": "title=NCT RESONANCE Pt. 2 - The 2nd Album (Kit)<br>album_rank=%{x}<br>sum of cumulative_sales=%{y}<extra></extra>",
         "legendgroup": "NCT RESONANCE Pt. 2 - The 2nd Album (Kit)",
         "marker": {
          "color": "#636efa",
          "pattern": {
           "shape": ""
          }
         },
         "name": "NCT RESONANCE Pt. 2 - The 2nd Album (Kit)",
         "nbinsx": 100,
         "offsetgroup": "NCT RESONANCE Pt. 2 - The 2nd Album (Kit)",
         "orientation": "v",
         "showlegend": true,
         "type": "histogram",
         "x": [
          91
         ],
         "xaxis": "x",
         "y": [
          114384
         ],
         "yaxis": "y"
        },
        {
         "alignmentgroup": "True",
         "bingroup": "x",
         "histfunc": "sum",
         "hovertemplate": "title=5th Mini Album [YES.]<br>album_rank=%{x}<br>sum of cumulative_sales=%{y}<extra></extra>",
         "legendgroup": "5th Mini Album [YES.]",
         "marker": {
          "color": "#EF553B",
          "pattern": {
           "shape": ""
          }
         },
         "name": "5th Mini Album [YES.]",
         "nbinsx": 100,
         "offsetgroup": "5th Mini Album [YES.]",
         "orientation": "v",
         "showlegend": true,
         "type": "histogram",
         "x": [
          92
         ],
         "xaxis": "x",
         "y": [
          113966
         ],
         "yaxis": "y"
        },
        {
         "alignmentgroup": "True",
         "bingroup": "x",
         "histfunc": "sum",
         "hovertemplate": "title=GO生<br>album_rank=%{x}<br>sum of cumulative_sales=%{y}<extra></extra>",
         "legendgroup": "GO生",
         "marker": {
          "color": "#00cc96",
          "pattern": {
           "shape": ""
          }
         },
         "name": "GO生",
         "nbinsx": 100,
         "offsetgroup": "GO生",
         "orientation": "v",
         "showlegend": true,
         "type": "histogram",
         "x": [
          93
         ],
         "xaxis": "x",
         "y": [
          113463
         ],
         "yaxis": "y"
        },
        {
         "alignmentgroup": "True",
         "bingroup": "x",
         "histfunc": "sum",
         "hovertemplate": "title=LOVE or TAKE<br>album_rank=%{x}<br>sum of cumulative_sales=%{y}<extra></extra>",
         "legendgroup": "LOVE or TAKE",
         "marker": {
          "color": "#ab63fa",
          "pattern": {
           "shape": ""
          }
         },
         "name": "LOVE or TAKE",
         "nbinsx": 100,
         "offsetgroup": "LOVE or TAKE",
         "orientation": "v",
         "showlegend": true,
         "type": "histogram",
         "x": [
          94
         ],
         "xaxis": "x",
         "y": [
          112823
         ],
         "yaxis": "y"
        },
        {
         "alignmentgroup": "True",
         "bingroup": "x",
         "histfunc": "sum",
         "hovertemplate": "title=PAGE<br>album_rank=%{x}<br>sum of cumulative_sales=%{y}<extra></extra>",
         "legendgroup": "PAGE",
         "marker": {
          "color": "#FFA15A",
          "pattern": {
           "shape": ""
          }
         },
         "name": "PAGE",
         "nbinsx": 100,
         "offsetgroup": "PAGE",
         "orientation": "v",
         "showlegend": true,
         "type": "histogram",
         "x": [
          95
         ],
         "xaxis": "x",
         "y": [
          112202
         ],
         "yaxis": "y"
        },
        {
         "alignmentgroup": "True",
         "bingroup": "x",
         "histfunc": "sum",
         "hovertemplate": "title=SUMMER POPUP ALBUM [POPPING]<br>album_rank=%{x}<br>sum of cumulative_sales=%{y}<extra></extra>",
         "legendgroup": "SUMMER POPUP ALBUM [POPPING]",
         "marker": {
          "color": "#19d3f3",
          "pattern": {
           "shape": ""
          }
         },
         "name": "SUMMER POPUP ALBUM [POPPING]",
         "nbinsx": 100,
         "offsetgroup": "SUMMER POPUP ALBUM [POPPING]",
         "orientation": "v",
         "showlegend": true,
         "type": "histogram",
         "x": [
          96
         ],
         "xaxis": "x",
         "y": [
          111875
         ],
         "yaxis": "y"
        },
        {
         "alignmentgroup": "True",
         "bingroup": "x",
         "histfunc": "sum",
         "hovertemplate": "title=..선물<br>album_rank=%{x}<br>sum of cumulative_sales=%{y}<extra></extra>",
         "legendgroup": "..선물",
         "marker": {
          "color": "#FF6692",
          "pattern": {
           "shape": ""
          }
         },
         "name": "..선물",
         "nbinsx": 100,
         "offsetgroup": "..선물",
         "orientation": "v",
         "showlegend": true,
         "type": "histogram",
         "x": [
          97
         ],
         "xaxis": "x",
         "y": [
          111387
         ],
         "yaxis": "y"
        },
        {
         "alignmentgroup": "True",
         "bingroup": "x",
         "histfunc": "sum",
         "hovertemplate": "title=The Book of Us : Negentropy - Chaos swallowed up in love<br>album_rank=%{x}<br>sum of cumulative_sales=%{y}<extra></extra>",
         "legendgroup": "The Book of Us : Negentropy - Chaos swallowed up in love",
         "marker": {
          "color": "#B6E880",
          "pattern": {
           "shape": ""
          }
         },
         "name": "The Book of Us : Negentropy - Chaos swallowed up in love",
         "nbinsx": 100,
         "offsetgroup": "The Book of Us : Negentropy - Chaos swallowed up in love",
         "orientation": "v",
         "showlegend": true,
         "type": "histogram",
         "x": [
          98
         ],
         "xaxis": "x",
         "y": [
          110106
         ],
         "yaxis": "y"
        },
        {
         "alignmentgroup": "True",
         "bingroup": "x",
         "histfunc": "sum",
         "hovertemplate": "title=6TH MINI ALBUM [Goosebumps]<br>album_rank=%{x}<br>sum of cumulative_sales=%{y}<extra></extra>",
         "legendgroup": "6TH MINI ALBUM [Goosebumps]",
         "marker": {
          "color": "#FF97FF",
          "pattern": {
           "shape": ""
          }
         },
         "name": "6TH MINI ALBUM [Goosebumps]",
         "nbinsx": 100,
         "offsetgroup": "6TH MINI ALBUM [Goosebumps]",
         "orientation": "v",
         "showlegend": true,
         "type": "histogram",
         "x": [
          99
         ],
         "xaxis": "x",
         "y": [
          109805
         ],
         "yaxis": "y"
        },
        {
         "alignmentgroup": "True",
         "bingroup": "x",
         "histfunc": "sum",
         "hovertemplate": "title=The First - The 1st Single Album<br>album_rank=%{x}<br>sum of cumulative_sales=%{y}<extra></extra>",
         "legendgroup": "The First - The 1st Single Album",
         "marker": {
          "color": "#FECB52",
          "pattern": {
           "shape": ""
          }
         },
         "name": "The First - The 1st Single Album",
         "nbinsx": 100,
         "offsetgroup": "The First - The 1st Single Album",
         "orientation": "v",
         "showlegend": true,
         "type": "histogram",
         "x": [
          100
         ],
         "xaxis": "x",
         "y": [
          109573
         ],
         "yaxis": "y"
        }
       ],
       "layout": {
        "barmode": "relative",
        "legend": {
         "title": {
          "text": "title"
         },
         "tracegroupgap": 0
        },
        "template": {
         "data": {
          "bar": [
           {
            "error_x": {
             "color": "#2a3f5f"
            },
            "error_y": {
             "color": "#2a3f5f"
            },
            "marker": {
             "line": {
              "color": "#E5ECF6",
              "width": 0.5
             },
             "pattern": {
              "fillmode": "overlay",
              "size": 10,
              "solidity": 0.2
             }
            },
            "type": "bar"
           }
          ],
          "barpolar": [
           {
            "marker": {
             "line": {
              "color": "#E5ECF6",
              "width": 0.5
             },
             "pattern": {
              "fillmode": "overlay",
              "size": 10,
              "solidity": 0.2
             }
            },
            "type": "barpolar"
           }
          ],
          "carpet": [
           {
            "aaxis": {
             "endlinecolor": "#2a3f5f",
             "gridcolor": "white",
             "linecolor": "white",
             "minorgridcolor": "white",
             "startlinecolor": "#2a3f5f"
            },
            "baxis": {
             "endlinecolor": "#2a3f5f",
             "gridcolor": "white",
             "linecolor": "white",
             "minorgridcolor": "white",
             "startlinecolor": "#2a3f5f"
            },
            "type": "carpet"
           }
          ],
          "choropleth": [
           {
            "colorbar": {
             "outlinewidth": 0,
             "ticks": ""
            },
            "type": "choropleth"
           }
          ],
          "contour": [
           {
            "colorbar": {
             "outlinewidth": 0,
             "ticks": ""
            },
            "colorscale": [
             [
              0,
              "#0d0887"
             ],
             [
              0.1111111111111111,
              "#46039f"
             ],
             [
              0.2222222222222222,
              "#7201a8"
             ],
             [
              0.3333333333333333,
              "#9c179e"
             ],
             [
              0.4444444444444444,
              "#bd3786"
             ],
             [
              0.5555555555555556,
              "#d8576b"
             ],
             [
              0.6666666666666666,
              "#ed7953"
             ],
             [
              0.7777777777777778,
              "#fb9f3a"
             ],
             [
              0.8888888888888888,
              "#fdca26"
             ],
             [
              1,
              "#f0f921"
             ]
            ],
            "type": "contour"
           }
          ],
          "contourcarpet": [
           {
            "colorbar": {
             "outlinewidth": 0,
             "ticks": ""
            },
            "type": "contourcarpet"
           }
          ],
          "heatmap": [
           {
            "colorbar": {
             "outlinewidth": 0,
             "ticks": ""
            },
            "colorscale": [
             [
              0,
              "#0d0887"
             ],
             [
              0.1111111111111111,
              "#46039f"
             ],
             [
              0.2222222222222222,
              "#7201a8"
             ],
             [
              0.3333333333333333,
              "#9c179e"
             ],
             [
              0.4444444444444444,
              "#bd3786"
             ],
             [
              0.5555555555555556,
              "#d8576b"
             ],
             [
              0.6666666666666666,
              "#ed7953"
             ],
             [
              0.7777777777777778,
              "#fb9f3a"
             ],
             [
              0.8888888888888888,
              "#fdca26"
             ],
             [
              1,
              "#f0f921"
             ]
            ],
            "type": "heatmap"
           }
          ],
          "heatmapgl": [
           {
            "colorbar": {
             "outlinewidth": 0,
             "ticks": ""
            },
            "colorscale": [
             [
              0,
              "#0d0887"
             ],
             [
              0.1111111111111111,
              "#46039f"
             ],
             [
              0.2222222222222222,
              "#7201a8"
             ],
             [
              0.3333333333333333,
              "#9c179e"
             ],
             [
              0.4444444444444444,
              "#bd3786"
             ],
             [
              0.5555555555555556,
              "#d8576b"
             ],
             [
              0.6666666666666666,
              "#ed7953"
             ],
             [
              0.7777777777777778,
              "#fb9f3a"
             ],
             [
              0.8888888888888888,
              "#fdca26"
             ],
             [
              1,
              "#f0f921"
             ]
            ],
            "type": "heatmapgl"
           }
          ],
          "histogram": [
           {
            "marker": {
             "pattern": {
              "fillmode": "overlay",
              "size": 10,
              "solidity": 0.2
             }
            },
            "type": "histogram"
           }
          ],
          "histogram2d": [
           {
            "colorbar": {
             "outlinewidth": 0,
             "ticks": ""
            },
            "colorscale": [
             [
              0,
              "#0d0887"
             ],
             [
              0.1111111111111111,
              "#46039f"
             ],
             [
              0.2222222222222222,
              "#7201a8"
             ],
             [
              0.3333333333333333,
              "#9c179e"
             ],
             [
              0.4444444444444444,
              "#bd3786"
             ],
             [
              0.5555555555555556,
              "#d8576b"
             ],
             [
              0.6666666666666666,
              "#ed7953"
             ],
             [
              0.7777777777777778,
              "#fb9f3a"
             ],
             [
              0.8888888888888888,
              "#fdca26"
             ],
             [
              1,
              "#f0f921"
             ]
            ],
            "type": "histogram2d"
           }
          ],
          "histogram2dcontour": [
           {
            "colorbar": {
             "outlinewidth": 0,
             "ticks": ""
            },
            "colorscale": [
             [
              0,
              "#0d0887"
             ],
             [
              0.1111111111111111,
              "#46039f"
             ],
             [
              0.2222222222222222,
              "#7201a8"
             ],
             [
              0.3333333333333333,
              "#9c179e"
             ],
             [
              0.4444444444444444,
              "#bd3786"
             ],
             [
              0.5555555555555556,
              "#d8576b"
             ],
             [
              0.6666666666666666,
              "#ed7953"
             ],
             [
              0.7777777777777778,
              "#fb9f3a"
             ],
             [
              0.8888888888888888,
              "#fdca26"
             ],
             [
              1,
              "#f0f921"
             ]
            ],
            "type": "histogram2dcontour"
           }
          ],
          "mesh3d": [
           {
            "colorbar": {
             "outlinewidth": 0,
             "ticks": ""
            },
            "type": "mesh3d"
           }
          ],
          "parcoords": [
           {
            "line": {
             "colorbar": {
              "outlinewidth": 0,
              "ticks": ""
             }
            },
            "type": "parcoords"
           }
          ],
          "pie": [
           {
            "automargin": true,
            "type": "pie"
           }
          ],
          "scatter": [
           {
            "marker": {
             "colorbar": {
              "outlinewidth": 0,
              "ticks": ""
             }
            },
            "type": "scatter"
           }
          ],
          "scatter3d": [
           {
            "line": {
             "colorbar": {
              "outlinewidth": 0,
              "ticks": ""
             }
            },
            "marker": {
             "colorbar": {
              "outlinewidth": 0,
              "ticks": ""
             }
            },
            "type": "scatter3d"
           }
          ],
          "scattercarpet": [
           {
            "marker": {
             "colorbar": {
              "outlinewidth": 0,
              "ticks": ""
             }
            },
            "type": "scattercarpet"
           }
          ],
          "scattergeo": [
           {
            "marker": {
             "colorbar": {
              "outlinewidth": 0,
              "ticks": ""
             }
            },
            "type": "scattergeo"
           }
          ],
          "scattergl": [
           {
            "marker": {
             "colorbar": {
              "outlinewidth": 0,
              "ticks": ""
             }
            },
            "type": "scattergl"
           }
          ],
          "scattermapbox": [
           {
            "marker": {
             "colorbar": {
              "outlinewidth": 0,
              "ticks": ""
             }
            },
            "type": "scattermapbox"
           }
          ],
          "scatterpolar": [
           {
            "marker": {
             "colorbar": {
              "outlinewidth": 0,
              "ticks": ""
             }
            },
            "type": "scatterpolar"
           }
          ],
          "scatterpolargl": [
           {
            "marker": {
             "colorbar": {
              "outlinewidth": 0,
              "ticks": ""
             }
            },
            "type": "scatterpolargl"
           }
          ],
          "scatterternary": [
           {
            "marker": {
             "colorbar": {
              "outlinewidth": 0,
              "ticks": ""
             }
            },
            "type": "scatterternary"
           }
          ],
          "surface": [
           {
            "colorbar": {
             "outlinewidth": 0,
             "ticks": ""
            },
            "colorscale": [
             [
              0,
              "#0d0887"
             ],
             [
              0.1111111111111111,
              "#46039f"
             ],
             [
              0.2222222222222222,
              "#7201a8"
             ],
             [
              0.3333333333333333,
              "#9c179e"
             ],
             [
              0.4444444444444444,
              "#bd3786"
             ],
             [
              0.5555555555555556,
              "#d8576b"
             ],
             [
              0.6666666666666666,
              "#ed7953"
             ],
             [
              0.7777777777777778,
              "#fb9f3a"
             ],
             [
              0.8888888888888888,
              "#fdca26"
             ],
             [
              1,
              "#f0f921"
             ]
            ],
            "type": "surface"
           }
          ],
          "table": [
           {
            "cells": {
             "fill": {
              "color": "#EBF0F8"
             },
             "line": {
              "color": "white"
             }
            },
            "header": {
             "fill": {
              "color": "#C8D4E3"
             },
             "line": {
              "color": "white"
             }
            },
            "type": "table"
           }
          ]
         },
         "layout": {
          "annotationdefaults": {
           "arrowcolor": "#2a3f5f",
           "arrowhead": 0,
           "arrowwidth": 1
          },
          "autotypenumbers": "strict",
          "coloraxis": {
           "colorbar": {
            "outlinewidth": 0,
            "ticks": ""
           }
          },
          "colorscale": {
           "diverging": [
            [
             0,
             "#8e0152"
            ],
            [
             0.1,
             "#c51b7d"
            ],
            [
             0.2,
             "#de77ae"
            ],
            [
             0.3,
             "#f1b6da"
            ],
            [
             0.4,
             "#fde0ef"
            ],
            [
             0.5,
             "#f7f7f7"
            ],
            [
             0.6,
             "#e6f5d0"
            ],
            [
             0.7,
             "#b8e186"
            ],
            [
             0.8,
             "#7fbc41"
            ],
            [
             0.9,
             "#4d9221"
            ],
            [
             1,
             "#276419"
            ]
           ],
           "sequential": [
            [
             0,
             "#0d0887"
            ],
            [
             0.1111111111111111,
             "#46039f"
            ],
            [
             0.2222222222222222,
             "#7201a8"
            ],
            [
             0.3333333333333333,
             "#9c179e"
            ],
            [
             0.4444444444444444,
             "#bd3786"
            ],
            [
             0.5555555555555556,
             "#d8576b"
            ],
            [
             0.6666666666666666,
             "#ed7953"
            ],
            [
             0.7777777777777778,
             "#fb9f3a"
            ],
            [
             0.8888888888888888,
             "#fdca26"
            ],
            [
             1,
             "#f0f921"
            ]
           ],
           "sequentialminus": [
            [
             0,
             "#0d0887"
            ],
            [
             0.1111111111111111,
             "#46039f"
            ],
            [
             0.2222222222222222,
             "#7201a8"
            ],
            [
             0.3333333333333333,
             "#9c179e"
            ],
            [
             0.4444444444444444,
             "#bd3786"
            ],
            [
             0.5555555555555556,
             "#d8576b"
            ],
            [
             0.6666666666666666,
             "#ed7953"
            ],
            [
             0.7777777777777778,
             "#fb9f3a"
            ],
            [
             0.8888888888888888,
             "#fdca26"
            ],
            [
             1,
             "#f0f921"
            ]
           ]
          },
          "colorway": [
           "#636efa",
           "#EF553B",
           "#00cc96",
           "#ab63fa",
           "#FFA15A",
           "#19d3f3",
           "#FF6692",
           "#B6E880",
           "#FF97FF",
           "#FECB52"
          ],
          "font": {
           "color": "#2a3f5f"
          },
          "geo": {
           "bgcolor": "white",
           "lakecolor": "white",
           "landcolor": "#E5ECF6",
           "showlakes": true,
           "showland": true,
           "subunitcolor": "white"
          },
          "hoverlabel": {
           "align": "left"
          },
          "hovermode": "closest",
          "mapbox": {
           "style": "light"
          },
          "paper_bgcolor": "white",
          "plot_bgcolor": "#E5ECF6",
          "polar": {
           "angularaxis": {
            "gridcolor": "white",
            "linecolor": "white",
            "ticks": ""
           },
           "bgcolor": "#E5ECF6",
           "radialaxis": {
            "gridcolor": "white",
            "linecolor": "white",
            "ticks": ""
           }
          },
          "scene": {
           "xaxis": {
            "backgroundcolor": "#E5ECF6",
            "gridcolor": "white",
            "gridwidth": 2,
            "linecolor": "white",
            "showbackground": true,
            "ticks": "",
            "zerolinecolor": "white"
           },
           "yaxis": {
            "backgroundcolor": "#E5ECF6",
            "gridcolor": "white",
            "gridwidth": 2,
            "linecolor": "white",
            "showbackground": true,
            "ticks": "",
            "zerolinecolor": "white"
           },
           "zaxis": {
            "backgroundcolor": "#E5ECF6",
            "gridcolor": "white",
            "gridwidth": 2,
            "linecolor": "white",
            "showbackground": true,
            "ticks": "",
            "zerolinecolor": "white"
           }
          },
          "shapedefaults": {
           "line": {
            "color": "#2a3f5f"
           }
          },
          "ternary": {
           "aaxis": {
            "gridcolor": "white",
            "linecolor": "white",
            "ticks": ""
           },
           "baxis": {
            "gridcolor": "white",
            "linecolor": "white",
            "ticks": ""
           },
           "bgcolor": "#E5ECF6",
           "caxis": {
            "gridcolor": "white",
            "linecolor": "white",
            "ticks": ""
           }
          },
          "title": {
           "x": 0.05
          },
          "xaxis": {
           "automargin": true,
           "gridcolor": "white",
           "linecolor": "white",
           "ticks": "",
           "title": {
            "standoff": 15
           },
           "zerolinecolor": "white",
           "zerolinewidth": 2
          },
          "yaxis": {
           "automargin": true,
           "gridcolor": "white",
           "linecolor": "white",
           "ticks": "",
           "title": {
            "standoff": 15
           },
           "zerolinecolor": "white",
           "zerolinewidth": 2
          }
         }
        },
        "title": {
         "text": "Top 100 Albums of the Year"
        },
        "xaxis": {
         "anchor": "y",
         "domain": [
          0,
          1
         ],
         "title": {
          "text": "album_rank"
         }
        },
        "yaxis": {
         "anchor": "x",
         "domain": [
          0,
          1
         ],
         "title": {
          "text": "sum of cumulative_sales"
         }
        }
       }
      }
     },
     "metadata": {},
     "output_type": "display_data"
    }
   ],
   "source": [
    "# Histogram of total sales for each album in the annual Top 100\n",
    "px.histogram(annual_top_100, x=\"album_rank\", y=\"cumulative_sales\", nbins=100, color=\"title\", title='Top 100 Albums of the Year')"
   ]
  },
  {
   "cell_type": "markdown",
   "metadata": {},
   "source": [
    "#### Albums Ranked Year-Round"
   ]
  },
  {
   "cell_type": "code",
   "execution_count": 31,
   "metadata": {},
   "outputs": [
    {
     "data": {
      "text/html": [
       "<div>\n",
       "<style scoped>\n",
       "    .dataframe tbody tr th:only-of-type {\n",
       "        vertical-align: middle;\n",
       "    }\n",
       "\n",
       "    .dataframe tbody tr th {\n",
       "        vertical-align: top;\n",
       "    }\n",
       "\n",
       "    .dataframe thead th {\n",
       "        text-align: right;\n",
       "    }\n",
       "</style>\n",
       "<table border=\"1\" class=\"dataframe\">\n",
       "  <thead>\n",
       "    <tr style=\"text-align: right;\">\n",
       "      <th></th>\n",
       "      <th>month</th>\n",
       "      <th>month_name</th>\n",
       "      <th>album_rank</th>\n",
       "      <th>rank_change</th>\n",
       "      <th>rank_difference</th>\n",
       "      <th>title</th>\n",
       "      <th>artist</th>\n",
       "      <th>new_sales</th>\n",
       "      <th>cumulative_sales</th>\n",
       "      <th>production</th>\n",
       "    </tr>\n",
       "  </thead>\n",
       "  <tbody>\n",
       "    <tr>\n",
       "      <th>9</th>\n",
       "      <td>1</td>\n",
       "      <td>January</td>\n",
       "      <td>10</td>\n",
       "      <td>up</td>\n",
       "      <td>16.0</td>\n",
       "      <td>THE ALBUM</td>\n",
       "      <td>BLACKPINK</td>\n",
       "      <td>67387</td>\n",
       "      <td>67387</td>\n",
       "      <td>YG PLUS</td>\n",
       "    </tr>\n",
       "    <tr>\n",
       "      <th>16</th>\n",
       "      <td>1</td>\n",
       "      <td>January</td>\n",
       "      <td>17</td>\n",
       "      <td>down</td>\n",
       "      <td>-5.0</td>\n",
       "      <td>BE</td>\n",
       "      <td>BTS</td>\n",
       "      <td>25452</td>\n",
       "      <td>25452</td>\n",
       "      <td>Dreamus</td>\n",
       "    </tr>\n",
       "    <tr>\n",
       "      <th>17</th>\n",
       "      <td>1</td>\n",
       "      <td>January</td>\n",
       "      <td>18</td>\n",
       "      <td>down</td>\n",
       "      <td>-2.0</td>\n",
       "      <td>MAP OF THE SOUL : 7</td>\n",
       "      <td>BTS</td>\n",
       "      <td>24801</td>\n",
       "      <td>24801</td>\n",
       "      <td>Dreamus</td>\n",
       "    </tr>\n",
       "    <tr>\n",
       "      <th>18</th>\n",
       "      <td>1</td>\n",
       "      <td>January</td>\n",
       "      <td>19</td>\n",
       "      <td>down</td>\n",
       "      <td>-1.0</td>\n",
       "      <td>MAP OF THE SOUL : PERSONA</td>\n",
       "      <td>BTS</td>\n",
       "      <td>24693</td>\n",
       "      <td>24693</td>\n",
       "      <td>Dreamus</td>\n",
       "    </tr>\n",
       "    <tr>\n",
       "      <th>19</th>\n",
       "      <td>1</td>\n",
       "      <td>January</td>\n",
       "      <td>20</td>\n",
       "      <td>down</td>\n",
       "      <td>-11.0</td>\n",
       "      <td>BORDER : DAY ONE</td>\n",
       "      <td>ENHYPEN</td>\n",
       "      <td>24576</td>\n",
       "      <td>24576</td>\n",
       "      <td>Genie Music, Stone Music Entertainment</td>\n",
       "    </tr>\n",
       "    <tr>\n",
       "      <th>...</th>\n",
       "      <td>...</td>\n",
       "      <td>...</td>\n",
       "      <td>...</td>\n",
       "      <td>...</td>\n",
       "      <td>...</td>\n",
       "      <td>...</td>\n",
       "      <td>...</td>\n",
       "      <td>...</td>\n",
       "      <td>...</td>\n",
       "      <td>...</td>\n",
       "    </tr>\n",
       "    <tr>\n",
       "      <th>1157</th>\n",
       "      <td>12</td>\n",
       "      <td>December</td>\n",
       "      <td>58</td>\n",
       "      <td>up</td>\n",
       "      <td>19.0</td>\n",
       "      <td>IN生</td>\n",
       "      <td>Stray Kids</td>\n",
       "      <td>9230</td>\n",
       "      <td>125570</td>\n",
       "      <td>Dreamus</td>\n",
       "    </tr>\n",
       "    <tr>\n",
       "      <th>1158</th>\n",
       "      <td>12</td>\n",
       "      <td>December</td>\n",
       "      <td>59</td>\n",
       "      <td>up</td>\n",
       "      <td>6.0</td>\n",
       "      <td>THE ALBUM</td>\n",
       "      <td>BLACKPINK</td>\n",
       "      <td>9194</td>\n",
       "      <td>190729</td>\n",
       "      <td>YG PLUS</td>\n",
       "    </tr>\n",
       "    <tr>\n",
       "      <th>1159</th>\n",
       "      <td>12</td>\n",
       "      <td>December</td>\n",
       "      <td>60</td>\n",
       "      <td>down</td>\n",
       "      <td>-9.0</td>\n",
       "      <td>2 Cool 4 Skool</td>\n",
       "      <td>BTS</td>\n",
       "      <td>8609</td>\n",
       "      <td>115160</td>\n",
       "      <td>YG PLUS</td>\n",
       "    </tr>\n",
       "    <tr>\n",
       "      <th>1165</th>\n",
       "      <td>12</td>\n",
       "      <td>December</td>\n",
       "      <td>66</td>\n",
       "      <td>up</td>\n",
       "      <td>6.0</td>\n",
       "      <td>GO生</td>\n",
       "      <td>Stray Kids</td>\n",
       "      <td>7903</td>\n",
       "      <td>113463</td>\n",
       "      <td>Dreamus</td>\n",
       "    </tr>\n",
       "    <tr>\n",
       "      <th>1166</th>\n",
       "      <td>12</td>\n",
       "      <td>December</td>\n",
       "      <td>67</td>\n",
       "      <td>up</td>\n",
       "      <td>19.0</td>\n",
       "      <td>SQUARE UP</td>\n",
       "      <td>BLACKPINK</td>\n",
       "      <td>7486</td>\n",
       "      <td>80657</td>\n",
       "      <td>YG PLUS</td>\n",
       "    </tr>\n",
       "  </tbody>\n",
       "</table>\n",
       "<p>312 rows × 10 columns</p>\n",
       "</div>"
      ],
      "text/plain": [
       "      month month_name  album_rank rank_change  rank_difference  \\\n",
       "9         1    January          10          up             16.0   \n",
       "16        1    January          17        down             -5.0   \n",
       "17        1    January          18        down             -2.0   \n",
       "18        1    January          19        down             -1.0   \n",
       "19        1    January          20        down            -11.0   \n",
       "...     ...        ...         ...         ...              ...   \n",
       "1157     12   December          58          up             19.0   \n",
       "1158     12   December          59          up              6.0   \n",
       "1159     12   December          60        down             -9.0   \n",
       "1165     12   December          66          up              6.0   \n",
       "1166     12   December          67          up             19.0   \n",
       "\n",
       "                          title       artist  new_sales  cumulative_sales  \\\n",
       "9                     THE ALBUM    BLACKPINK      67387             67387   \n",
       "16                           BE          BTS      25452             25452   \n",
       "17          MAP OF THE SOUL : 7          BTS      24801             24801   \n",
       "18    MAP OF THE SOUL : PERSONA          BTS      24693             24693   \n",
       "19             BORDER : DAY ONE      ENHYPEN      24576             24576   \n",
       "...                         ...          ...        ...               ...   \n",
       "1157                        IN生  Stray Kids        9230            125570   \n",
       "1158                  THE ALBUM    BLACKPINK       9194            190729   \n",
       "1159             2 Cool 4 Skool          BTS       8609            115160   \n",
       "1165                        GO生  Stray Kids        7903            113463   \n",
       "1166                  SQUARE UP    BLACKPINK       7486             80657   \n",
       "\n",
       "                                  production  \n",
       "9                                    YG PLUS  \n",
       "16                                   Dreamus  \n",
       "17                                   Dreamus  \n",
       "18                                   Dreamus  \n",
       "19    Genie Music, Stone Music Entertainment  \n",
       "...                                      ...  \n",
       "1157                                 Dreamus  \n",
       "1158                                 YG PLUS  \n",
       "1159                                 YG PLUS  \n",
       "1165                                 Dreamus  \n",
       "1166                                 YG PLUS  \n",
       "\n",
       "[312 rows x 10 columns]"
      ]
     },
     "execution_count": 31,
     "metadata": {},
     "output_type": "execute_result"
    }
   ],
   "source": [
    "# Checking if any albums ranked each month throughout the entire year\n",
    "year_round_albums = df.groupby(\"title\").filter(lambda x: len(x) == 12)\n",
    "year_round_albums"
   ]
  },
  {
   "cell_type": "code",
   "execution_count": 32,
   "metadata": {},
   "outputs": [
    {
     "data": {
      "application/vnd.plotly.v1+json": {
       "config": {
        "plotlyServerURL": "https://plot.ly"
       },
       "data": [
        {
         "hovertemplate": "title=THE ALBUM<br>month_name=%{x}<br>cumulative_sales=%{y}<extra></extra>",
         "legendgroup": "THE ALBUM",
         "line": {
          "color": "#636efa",
          "dash": "solid"
         },
         "marker": {
          "symbol": "circle"
         },
         "mode": "lines",
         "name": "THE ALBUM",
         "orientation": "v",
         "showlegend": true,
         "type": "scatter",
         "x": [
          "January",
          "February",
          "March",
          "April",
          "May",
          "June",
          "July",
          "August",
          "September",
          "October",
          "November",
          "December"
         ],
         "xaxis": "x",
         "y": [
          67387,
          79253,
          96986,
          105905,
          119132,
          130256,
          139511,
          150475,
          162377,
          173668,
          181535,
          190729
         ],
         "yaxis": "y"
        },
        {
         "hovertemplate": "title=BE<br>month_name=%{x}<br>cumulative_sales=%{y}<extra></extra>",
         "legendgroup": "BE",
         "line": {
          "color": "#EF553B",
          "dash": "solid"
         },
         "marker": {
          "symbol": "circle"
         },
         "mode": "lines",
         "name": "BE",
         "orientation": "v",
         "showlegend": true,
         "type": "scatter",
         "x": [
          "January",
          "February",
          "March",
          "April",
          "May",
          "June",
          "July",
          "August",
          "September",
          "October",
          "November",
          "December"
         ],
         "xaxis": "x",
         "y": [
          25452,
          788535,
          907413,
          949820,
          959316,
          970197,
          983241,
          994153,
          1007576,
          1017970,
          1030681,
          1049496
         ],
         "yaxis": "y"
        },
        {
         "hovertemplate": "title=MAP OF THE SOUL : 7<br>month_name=%{x}<br>cumulative_sales=%{y}<extra></extra>",
         "legendgroup": "MAP OF THE SOUL : 7",
         "line": {
          "color": "#00cc96",
          "dash": "solid"
         },
         "marker": {
          "symbol": "circle"
         },
         "mode": "lines",
         "name": "MAP OF THE SOUL : 7",
         "orientation": "v",
         "showlegend": true,
         "type": "scatter",
         "x": [
          "January",
          "February",
          "March",
          "April",
          "May",
          "June",
          "July",
          "August",
          "September",
          "October",
          "November",
          "December"
         ],
         "xaxis": "x",
         "y": [
          24801,
          45946,
          63843,
          99031,
          117386,
          138694,
          162400,
          186834,
          219463,
          292607,
          314966,
          345192
         ],
         "yaxis": "y"
        },
        {
         "hovertemplate": "title=MAP OF THE SOUL : PERSONA<br>month_name=%{x}<br>cumulative_sales=%{y}<extra></extra>",
         "legendgroup": "MAP OF THE SOUL : PERSONA",
         "line": {
          "color": "#ab63fa",
          "dash": "solid"
         },
         "marker": {
          "symbol": "circle"
         },
         "mode": "lines",
         "name": "MAP OF THE SOUL : PERSONA",
         "orientation": "v",
         "showlegend": true,
         "type": "scatter",
         "x": [
          "January",
          "February",
          "March",
          "April",
          "May",
          "June",
          "July",
          "August",
          "September",
          "October",
          "November",
          "December"
         ],
         "xaxis": "x",
         "y": [
          24693,
          44757,
          63967,
          106005,
          131375,
          154730,
          181265,
          213692,
          252035,
          298050,
          325674,
          358154
         ],
         "yaxis": "y"
        },
        {
         "hovertemplate": "title=BORDER : DAY ONE<br>month_name=%{x}<br>cumulative_sales=%{y}<extra></extra>",
         "legendgroup": "BORDER : DAY ONE",
         "line": {
          "color": "#FFA15A",
          "dash": "solid"
         },
         "marker": {
          "symbol": "circle"
         },
         "mode": "lines",
         "name": "BORDER : DAY ONE",
         "orientation": "v",
         "showlegend": true,
         "type": "scatter",
         "x": [
          "January",
          "February",
          "March",
          "April",
          "May",
          "June",
          "July",
          "August",
          "September",
          "October",
          "November",
          "December"
         ],
         "xaxis": "x",
         "y": [
          24576,
          29742,
          59074,
          74048,
          84240,
          94441,
          109140,
          128947,
          145978,
          160074,
          175465,
          189832
         ],
         "yaxis": "y"
        },
        {
         "hovertemplate": "title=LOVE YOURSELF 轉 `Tear`<br>month_name=%{x}<br>cumulative_sales=%{y}<extra></extra>",
         "legendgroup": "LOVE YOURSELF 轉 `Tear`",
         "line": {
          "color": "#19d3f3",
          "dash": "solid"
         },
         "marker": {
          "symbol": "circle"
         },
         "mode": "lines",
         "name": "LOVE YOURSELF 轉 `Tear`",
         "orientation": "v",
         "showlegend": true,
         "type": "scatter",
         "x": [
          "January",
          "February",
          "March",
          "April",
          "May",
          "June",
          "July",
          "August",
          "September",
          "October",
          "November",
          "December"
         ],
         "xaxis": "x",
         "y": [
          21542,
          40868,
          64175,
          114942,
          134989,
          164046,
          189858,
          266004,
          307231,
          384651,
          418782,
          458050
         ],
         "yaxis": "y"
        },
        {
         "hovertemplate": "title=LOVE YOURSELF 承 `Her`<br>month_name=%{x}<br>cumulative_sales=%{y}<extra></extra>",
         "legendgroup": "LOVE YOURSELF 承 `Her`",
         "line": {
          "color": "#FF6692",
          "dash": "solid"
         },
         "marker": {
          "symbol": "circle"
         },
         "mode": "lines",
         "name": "LOVE YOURSELF 承 `Her`",
         "orientation": "v",
         "showlegend": true,
         "type": "scatter",
         "x": [
          "January",
          "February",
          "March",
          "April",
          "May",
          "June",
          "July",
          "August",
          "September",
          "October",
          "November",
          "December"
         ],
         "xaxis": "x",
         "y": [
          18736,
          41439,
          65351,
          108537,
          126870,
          144233,
          167084,
          238154,
          274153,
          339465,
          364959,
          391160
         ],
         "yaxis": "y"
        },
        {
         "hovertemplate": "title=3RD ALBUM `An Ode`<br>month_name=%{x}<br>cumulative_sales=%{y}<extra></extra>",
         "legendgroup": "3RD ALBUM `An Ode`",
         "line": {
          "color": "#B6E880",
          "dash": "solid"
         },
         "marker": {
          "symbol": "circle"
         },
         "mode": "lines",
         "name": "3RD ALBUM `An Ode`",
         "orientation": "v",
         "showlegend": true,
         "type": "scatter",
         "x": [
          "January",
          "February",
          "March",
          "April",
          "May",
          "June",
          "July",
          "August",
          "September",
          "October",
          "November",
          "December"
         ],
         "xaxis": "x",
         "y": [
          17420,
          32597,
          42656,
          49556,
          70164,
          80924,
          92467,
          104470,
          118234,
          127178,
          135636,
          153073
         ],
         "yaxis": "y"
        },
        {
         "hovertemplate": "title=화양연화 Young Forever<br>month_name=%{x}<br>cumulative_sales=%{y}<extra></extra>",
         "legendgroup": "화양연화 Young Forever",
         "line": {
          "color": "#FF97FF",
          "dash": "solid"
         },
         "marker": {
          "symbol": "circle"
         },
         "mode": "lines",
         "name": "화양연화 Young Forever",
         "orientation": "v",
         "showlegend": true,
         "type": "scatter",
         "x": [
          "January",
          "February",
          "March",
          "April",
          "May",
          "June",
          "July",
          "August",
          "September",
          "October",
          "November",
          "December"
         ],
         "xaxis": "x",
         "y": [
          14214,
          29805,
          41859,
          68602,
          81283,
          92667,
          106931,
          123259,
          140514,
          152421,
          166703,
          186595
         ],
         "yaxis": "y"
        },
        {
         "hovertemplate": "title=WINGS<br>month_name=%{x}<br>cumulative_sales=%{y}<extra></extra>",
         "legendgroup": "WINGS",
         "line": {
          "color": "#FECB52",
          "dash": "solid"
         },
         "marker": {
          "symbol": "circle"
         },
         "mode": "lines",
         "name": "WINGS",
         "orientation": "v",
         "showlegend": true,
         "type": "scatter",
         "x": [
          "January",
          "February",
          "March",
          "April",
          "May",
          "June",
          "July",
          "August",
          "September",
          "October",
          "November",
          "December"
         ],
         "xaxis": "x",
         "y": [
          13720,
          26749,
          44514,
          70586,
          82469,
          96053,
          111413,
          124908,
          143513,
          153553,
          170016,
          184418
         ],
         "yaxis": "y"
        },
        {
         "hovertemplate": "title=YOU NEVER WALK ALONE<br>month_name=%{x}<br>cumulative_sales=%{y}<extra></extra>",
         "legendgroup": "YOU NEVER WALK ALONE",
         "line": {
          "color": "#636efa",
          "dash": "solid"
         },
         "marker": {
          "symbol": "circle"
         },
         "mode": "lines",
         "name": "YOU NEVER WALK ALONE",
         "orientation": "v",
         "showlegend": true,
         "type": "scatter",
         "x": [
          "January",
          "February",
          "March",
          "April",
          "May",
          "June",
          "July",
          "August",
          "September",
          "October",
          "November",
          "December"
         ],
         "xaxis": "x",
         "y": [
          13408,
          26743,
          43232,
          68200,
          77191,
          90124,
          105845,
          121143,
          139364,
          150240,
          167453,
          184398
         ],
         "yaxis": "y"
        },
        {
         "hovertemplate": "title=IN生<br>month_name=%{x}<br>cumulative_sales=%{y}<extra></extra>",
         "legendgroup": "IN生",
         "line": {
          "color": "#EF553B",
          "dash": "solid"
         },
         "marker": {
          "symbol": "circle"
         },
         "mode": "lines",
         "name": "IN生",
         "orientation": "v",
         "showlegend": true,
         "type": "scatter",
         "x": [
          "January",
          "February",
          "March",
          "April",
          "May",
          "June",
          "July",
          "August",
          "September",
          "October",
          "November",
          "December"
         ],
         "xaxis": "x",
         "y": [
          11951,
          20231,
          32991,
          46418,
          54612,
          66592,
          79883,
          89550,
          99418,
          110156,
          116340,
          125570
         ],
         "yaxis": "y"
        },
        {
         "hovertemplate": "title=LOVE YOURSELF 結 `Answer`<br>month_name=%{x}<br>cumulative_sales=%{y}<extra></extra>",
         "legendgroup": "LOVE YOURSELF 結 `Answer`",
         "line": {
          "color": "#00cc96",
          "dash": "solid"
         },
         "marker": {
          "symbol": "circle"
         },
         "mode": "lines",
         "name": "LOVE YOURSELF 結 `Answer`",
         "orientation": "v",
         "showlegend": true,
         "type": "scatter",
         "x": [
          "January",
          "February",
          "March",
          "April",
          "May",
          "June",
          "July",
          "August",
          "September",
          "October",
          "November",
          "December"
         ],
         "xaxis": "x",
         "y": [
          10614,
          54889,
          71145,
          116201,
          135690,
          159708,
          183574,
          257147,
          294848,
          350283,
          382133,
          411822
         ],
         "yaxis": "y"
        },
        {
         "hovertemplate": "title=화양연화 pt.2<br>month_name=%{x}<br>cumulative_sales=%{y}<extra></extra>",
         "legendgroup": "화양연화 pt.2",
         "line": {
          "color": "#ab63fa",
          "dash": "solid"
         },
         "marker": {
          "symbol": "circle"
         },
         "mode": "lines",
         "name": "화양연화 pt.2",
         "orientation": "v",
         "showlegend": true,
         "type": "scatter",
         "x": [
          "January",
          "February",
          "March",
          "April",
          "May",
          "June",
          "July",
          "August",
          "September",
          "October",
          "November",
          "December"
         ],
         "xaxis": "x",
         "y": [
          9944,
          22268,
          36252,
          58468,
          68832,
          80134,
          93015,
          108160,
          124678,
          133429,
          151351,
          166566
         ],
         "yaxis": "y"
        },
        {
         "hovertemplate": "title=GO生<br>month_name=%{x}<br>cumulative_sales=%{y}<extra></extra>",
         "legendgroup": "GO生",
         "line": {
          "color": "#FFA15A",
          "dash": "solid"
         },
         "marker": {
          "symbol": "circle"
         },
         "mode": "lines",
         "name": "GO生",
         "orientation": "v",
         "showlegend": true,
         "type": "scatter",
         "x": [
          "January",
          "February",
          "March",
          "April",
          "May",
          "June",
          "July",
          "August",
          "September",
          "October",
          "November",
          "December"
         ],
         "xaxis": "x",
         "y": [
          9932,
          18414,
          30483,
          39386,
          49055,
          59997,
          72699,
          82611,
          93081,
          98833,
          105560,
          113463
         ],
         "yaxis": "y"
        },
        {
         "hovertemplate": "title=minisode1 : Blue Hour<br>month_name=%{x}<br>cumulative_sales=%{y}<extra></extra>",
         "legendgroup": "minisode1 : Blue Hour",
         "line": {
          "color": "#19d3f3",
          "dash": "solid"
         },
         "marker": {
          "symbol": "circle"
         },
         "mode": "lines",
         "name": "minisode1 : Blue Hour",
         "orientation": "v",
         "showlegend": true,
         "type": "scatter",
         "x": [
          "January",
          "February",
          "March",
          "April",
          "May",
          "June",
          "July",
          "August",
          "September",
          "October",
          "November",
          "December"
         ],
         "xaxis": "x",
         "y": [
          9656,
          19978,
          32030,
          51338,
          62274,
          71328,
          85838,
          104181,
          117351,
          125979,
          141142,
          161879
         ],
         "yaxis": "y"
        },
        {
         "hovertemplate": "title=2 Cool 4 Skool<br>month_name=%{x}<br>cumulative_sales=%{y}<extra></extra>",
         "legendgroup": "2 Cool 4 Skool",
         "line": {
          "color": "#FF6692",
          "dash": "solid"
         },
         "marker": {
          "symbol": "circle"
         },
         "mode": "lines",
         "name": "2 Cool 4 Skool",
         "orientation": "v",
         "showlegend": true,
         "type": "scatter",
         "x": [
          "January",
          "February",
          "March",
          "April",
          "May",
          "June",
          "July",
          "August",
          "September",
          "October",
          "November",
          "December"
         ],
         "xaxis": "x",
         "y": [
          9013,
          14820,
          25021,
          38588,
          46514,
          54645,
          64033,
          75278,
          87815,
          94735,
          106551,
          115160
         ],
         "yaxis": "y"
        },
        {
         "hovertemplate": "title=화양연화 pt.1<br>month_name=%{x}<br>cumulative_sales=%{y}<extra></extra>",
         "legendgroup": "화양연화 pt.1",
         "line": {
          "color": "#B6E880",
          "dash": "solid"
         },
         "marker": {
          "symbol": "circle"
         },
         "mode": "lines",
         "name": "화양연화 pt.1",
         "orientation": "v",
         "showlegend": true,
         "type": "scatter",
         "x": [
          "January",
          "February",
          "March",
          "April",
          "May",
          "June",
          "July",
          "August",
          "September",
          "October",
          "November",
          "December"
         ],
         "xaxis": "x",
         "y": [
          8099,
          15961,
          28615,
          45891,
          55426,
          65171,
          75863,
          87502,
          100676,
          108296,
          122464,
          132293
         ],
         "yaxis": "y"
        },
        {
         "hovertemplate": "title=꿈의 장: MAGIC<br>month_name=%{x}<br>cumulative_sales=%{y}<extra></extra>",
         "legendgroup": "꿈의 장: MAGIC",
         "line": {
          "color": "#FF97FF",
          "dash": "solid"
         },
         "marker": {
          "symbol": "circle"
         },
         "mode": "lines",
         "name": "꿈의 장: MAGIC",
         "orientation": "v",
         "showlegend": true,
         "type": "scatter",
         "x": [
          "January",
          "February",
          "March",
          "April",
          "May",
          "June",
          "July",
          "August",
          "September",
          "October",
          "November",
          "December"
         ],
         "xaxis": "x",
         "y": [
          7767,
          17385,
          25351,
          34855,
          41754,
          46766,
          55102,
          61516,
          69457,
          74720,
          80858,
          91669
         ],
         "yaxis": "y"
        },
        {
         "hovertemplate": "title=Dark & Wild<br>month_name=%{x}<br>cumulative_sales=%{y}<extra></extra>",
         "legendgroup": "Dark & Wild",
         "line": {
          "color": "#FECB52",
          "dash": "solid"
         },
         "marker": {
          "symbol": "circle"
         },
         "mode": "lines",
         "name": "Dark & Wild",
         "orientation": "v",
         "showlegend": true,
         "type": "scatter",
         "x": [
          "January",
          "February",
          "March",
          "April",
          "May",
          "June",
          "July",
          "August",
          "September",
          "October",
          "November",
          "December"
         ],
         "xaxis": "x",
         "y": [
          7425,
          14638,
          24356,
          38783,
          45508,
          53536,
          63045,
          74490,
          86833,
          95752,
          109112,
          122505
         ],
         "yaxis": "y"
        },
        {
         "hovertemplate": "title=KILL THIS LOVE<br>month_name=%{x}<br>cumulative_sales=%{y}<extra></extra>",
         "legendgroup": "KILL THIS LOVE",
         "line": {
          "color": "#636efa",
          "dash": "solid"
         },
         "marker": {
          "symbol": "circle"
         },
         "mode": "lines",
         "name": "KILL THIS LOVE",
         "orientation": "v",
         "showlegend": true,
         "type": "scatter",
         "x": [
          "January",
          "February",
          "March",
          "April",
          "May",
          "June",
          "July",
          "August",
          "September",
          "October",
          "November",
          "December"
         ],
         "xaxis": "x",
         "y": [
          6746,
          18513,
          34016,
          40854,
          50496,
          62162,
          70193,
          85119,
          94270,
          101322,
          109876,
          120001
         ],
         "yaxis": "y"
        },
        {
         "hovertemplate": "title=꿈의 장: STAR<br>month_name=%{x}<br>cumulative_sales=%{y}<extra></extra>",
         "legendgroup": "꿈의 장: STAR",
         "line": {
          "color": "#EF553B",
          "dash": "solid"
         },
         "marker": {
          "symbol": "circle"
         },
         "mode": "lines",
         "name": "꿈의 장: STAR",
         "orientation": "v",
         "showlegend": true,
         "type": "scatter",
         "x": [
          "January",
          "February",
          "March",
          "April",
          "May",
          "June",
          "July",
          "August",
          "September",
          "October",
          "November",
          "December"
         ],
         "xaxis": "x",
         "y": [
          6436,
          12616,
          19148,
          28309,
          32710,
          38385,
          44918,
          50806,
          59851,
          64805,
          69504,
          79602
         ],
         "yaxis": "y"
        },
        {
         "hovertemplate": "title=O! RUL8 ,2?<br>month_name=%{x}<br>cumulative_sales=%{y}<extra></extra>",
         "legendgroup": "O! RUL8 ,2?",
         "line": {
          "color": "#00cc96",
          "dash": "solid"
         },
         "marker": {
          "symbol": "circle"
         },
         "mode": "lines",
         "name": "O! RUL8 ,2?",
         "orientation": "v",
         "showlegend": true,
         "type": "scatter",
         "x": [
          "January",
          "February",
          "March",
          "April",
          "May",
          "June",
          "July",
          "August",
          "September",
          "October",
          "November",
          "December"
         ],
         "xaxis": "x",
         "y": [
          6431,
          13480,
          23722,
          37808,
          47399,
          56319,
          66611,
          77507,
          91097,
          99455,
          113708,
          125217
         ],
         "yaxis": "y"
        },
        {
         "hovertemplate": "title=꿈의 장: ETERNITY<br>month_name=%{x}<br>cumulative_sales=%{y}<extra></extra>",
         "legendgroup": "꿈의 장: ETERNITY",
         "line": {
          "color": "#ab63fa",
          "dash": "solid"
         },
         "marker": {
          "symbol": "circle"
         },
         "mode": "lines",
         "name": "꿈의 장: ETERNITY",
         "orientation": "v",
         "showlegend": true,
         "type": "scatter",
         "x": [
          "January",
          "February",
          "March",
          "April",
          "May",
          "June",
          "July",
          "August",
          "September",
          "October",
          "November",
          "December"
         ],
         "xaxis": "x",
         "y": [
          6362,
          12562,
          20539,
          29884,
          33928,
          38575,
          44552,
          49453,
          57149,
          61820,
          66327,
          75645
         ],
         "yaxis": "y"
        },
        {
         "hovertemplate": "title=SQUARE UP<br>month_name=%{x}<br>cumulative_sales=%{y}<extra></extra>",
         "legendgroup": "SQUARE UP",
         "line": {
          "color": "#FFA15A",
          "dash": "solid"
         },
         "marker": {
          "symbol": "circle"
         },
         "mode": "lines",
         "name": "SQUARE UP",
         "orientation": "v",
         "showlegend": true,
         "type": "scatter",
         "x": [
          "January",
          "February",
          "March",
          "April",
          "May",
          "June",
          "July",
          "August",
          "September",
          "October",
          "November",
          "December"
         ],
         "xaxis": "x",
         "y": [
          5816,
          11080,
          23342,
          30946,
          36448,
          43696,
          50829,
          55270,
          62880,
          67716,
          73171,
          80657
         ],
         "yaxis": "y"
        },
        {
         "hovertemplate": "title=Skool Luv Affair<br>month_name=%{x}<br>cumulative_sales=%{y}<extra></extra>",
         "legendgroup": "Skool Luv Affair",
         "line": {
          "color": "#19d3f3",
          "dash": "solid"
         },
         "marker": {
          "symbol": "circle"
         },
         "mode": "lines",
         "name": "Skool Luv Affair",
         "orientation": "v",
         "showlegend": true,
         "type": "scatter",
         "x": [
          "January",
          "February",
          "March",
          "April",
          "May",
          "June",
          "July",
          "August",
          "September",
          "October",
          "November",
          "December"
         ],
         "xaxis": "x",
         "y": [
          5545,
          14745,
          23378,
          37524,
          45875,
          55605,
          65406,
          77377,
          88383,
          96680,
          109284,
          121285
         ],
         "yaxis": "y"
        }
       ],
       "layout": {
        "legend": {
         "title": {
          "text": "title"
         },
         "tracegroupgap": 0
        },
        "template": {
         "data": {
          "bar": [
           {
            "error_x": {
             "color": "#2a3f5f"
            },
            "error_y": {
             "color": "#2a3f5f"
            },
            "marker": {
             "line": {
              "color": "#E5ECF6",
              "width": 0.5
             },
             "pattern": {
              "fillmode": "overlay",
              "size": 10,
              "solidity": 0.2
             }
            },
            "type": "bar"
           }
          ],
          "barpolar": [
           {
            "marker": {
             "line": {
              "color": "#E5ECF6",
              "width": 0.5
             },
             "pattern": {
              "fillmode": "overlay",
              "size": 10,
              "solidity": 0.2
             }
            },
            "type": "barpolar"
           }
          ],
          "carpet": [
           {
            "aaxis": {
             "endlinecolor": "#2a3f5f",
             "gridcolor": "white",
             "linecolor": "white",
             "minorgridcolor": "white",
             "startlinecolor": "#2a3f5f"
            },
            "baxis": {
             "endlinecolor": "#2a3f5f",
             "gridcolor": "white",
             "linecolor": "white",
             "minorgridcolor": "white",
             "startlinecolor": "#2a3f5f"
            },
            "type": "carpet"
           }
          ],
          "choropleth": [
           {
            "colorbar": {
             "outlinewidth": 0,
             "ticks": ""
            },
            "type": "choropleth"
           }
          ],
          "contour": [
           {
            "colorbar": {
             "outlinewidth": 0,
             "ticks": ""
            },
            "colorscale": [
             [
              0,
              "#0d0887"
             ],
             [
              0.1111111111111111,
              "#46039f"
             ],
             [
              0.2222222222222222,
              "#7201a8"
             ],
             [
              0.3333333333333333,
              "#9c179e"
             ],
             [
              0.4444444444444444,
              "#bd3786"
             ],
             [
              0.5555555555555556,
              "#d8576b"
             ],
             [
              0.6666666666666666,
              "#ed7953"
             ],
             [
              0.7777777777777778,
              "#fb9f3a"
             ],
             [
              0.8888888888888888,
              "#fdca26"
             ],
             [
              1,
              "#f0f921"
             ]
            ],
            "type": "contour"
           }
          ],
          "contourcarpet": [
           {
            "colorbar": {
             "outlinewidth": 0,
             "ticks": ""
            },
            "type": "contourcarpet"
           }
          ],
          "heatmap": [
           {
            "colorbar": {
             "outlinewidth": 0,
             "ticks": ""
            },
            "colorscale": [
             [
              0,
              "#0d0887"
             ],
             [
              0.1111111111111111,
              "#46039f"
             ],
             [
              0.2222222222222222,
              "#7201a8"
             ],
             [
              0.3333333333333333,
              "#9c179e"
             ],
             [
              0.4444444444444444,
              "#bd3786"
             ],
             [
              0.5555555555555556,
              "#d8576b"
             ],
             [
              0.6666666666666666,
              "#ed7953"
             ],
             [
              0.7777777777777778,
              "#fb9f3a"
             ],
             [
              0.8888888888888888,
              "#fdca26"
             ],
             [
              1,
              "#f0f921"
             ]
            ],
            "type": "heatmap"
           }
          ],
          "heatmapgl": [
           {
            "colorbar": {
             "outlinewidth": 0,
             "ticks": ""
            },
            "colorscale": [
             [
              0,
              "#0d0887"
             ],
             [
              0.1111111111111111,
              "#46039f"
             ],
             [
              0.2222222222222222,
              "#7201a8"
             ],
             [
              0.3333333333333333,
              "#9c179e"
             ],
             [
              0.4444444444444444,
              "#bd3786"
             ],
             [
              0.5555555555555556,
              "#d8576b"
             ],
             [
              0.6666666666666666,
              "#ed7953"
             ],
             [
              0.7777777777777778,
              "#fb9f3a"
             ],
             [
              0.8888888888888888,
              "#fdca26"
             ],
             [
              1,
              "#f0f921"
             ]
            ],
            "type": "heatmapgl"
           }
          ],
          "histogram": [
           {
            "marker": {
             "pattern": {
              "fillmode": "overlay",
              "size": 10,
              "solidity": 0.2
             }
            },
            "type": "histogram"
           }
          ],
          "histogram2d": [
           {
            "colorbar": {
             "outlinewidth": 0,
             "ticks": ""
            },
            "colorscale": [
             [
              0,
              "#0d0887"
             ],
             [
              0.1111111111111111,
              "#46039f"
             ],
             [
              0.2222222222222222,
              "#7201a8"
             ],
             [
              0.3333333333333333,
              "#9c179e"
             ],
             [
              0.4444444444444444,
              "#bd3786"
             ],
             [
              0.5555555555555556,
              "#d8576b"
             ],
             [
              0.6666666666666666,
              "#ed7953"
             ],
             [
              0.7777777777777778,
              "#fb9f3a"
             ],
             [
              0.8888888888888888,
              "#fdca26"
             ],
             [
              1,
              "#f0f921"
             ]
            ],
            "type": "histogram2d"
           }
          ],
          "histogram2dcontour": [
           {
            "colorbar": {
             "outlinewidth": 0,
             "ticks": ""
            },
            "colorscale": [
             [
              0,
              "#0d0887"
             ],
             [
              0.1111111111111111,
              "#46039f"
             ],
             [
              0.2222222222222222,
              "#7201a8"
             ],
             [
              0.3333333333333333,
              "#9c179e"
             ],
             [
              0.4444444444444444,
              "#bd3786"
             ],
             [
              0.5555555555555556,
              "#d8576b"
             ],
             [
              0.6666666666666666,
              "#ed7953"
             ],
             [
              0.7777777777777778,
              "#fb9f3a"
             ],
             [
              0.8888888888888888,
              "#fdca26"
             ],
             [
              1,
              "#f0f921"
             ]
            ],
            "type": "histogram2dcontour"
           }
          ],
          "mesh3d": [
           {
            "colorbar": {
             "outlinewidth": 0,
             "ticks": ""
            },
            "type": "mesh3d"
           }
          ],
          "parcoords": [
           {
            "line": {
             "colorbar": {
              "outlinewidth": 0,
              "ticks": ""
             }
            },
            "type": "parcoords"
           }
          ],
          "pie": [
           {
            "automargin": true,
            "type": "pie"
           }
          ],
          "scatter": [
           {
            "marker": {
             "colorbar": {
              "outlinewidth": 0,
              "ticks": ""
             }
            },
            "type": "scatter"
           }
          ],
          "scatter3d": [
           {
            "line": {
             "colorbar": {
              "outlinewidth": 0,
              "ticks": ""
             }
            },
            "marker": {
             "colorbar": {
              "outlinewidth": 0,
              "ticks": ""
             }
            },
            "type": "scatter3d"
           }
          ],
          "scattercarpet": [
           {
            "marker": {
             "colorbar": {
              "outlinewidth": 0,
              "ticks": ""
             }
            },
            "type": "scattercarpet"
           }
          ],
          "scattergeo": [
           {
            "marker": {
             "colorbar": {
              "outlinewidth": 0,
              "ticks": ""
             }
            },
            "type": "scattergeo"
           }
          ],
          "scattergl": [
           {
            "marker": {
             "colorbar": {
              "outlinewidth": 0,
              "ticks": ""
             }
            },
            "type": "scattergl"
           }
          ],
          "scattermapbox": [
           {
            "marker": {
             "colorbar": {
              "outlinewidth": 0,
              "ticks": ""
             }
            },
            "type": "scattermapbox"
           }
          ],
          "scatterpolar": [
           {
            "marker": {
             "colorbar": {
              "outlinewidth": 0,
              "ticks": ""
             }
            },
            "type": "scatterpolar"
           }
          ],
          "scatterpolargl": [
           {
            "marker": {
             "colorbar": {
              "outlinewidth": 0,
              "ticks": ""
             }
            },
            "type": "scatterpolargl"
           }
          ],
          "scatterternary": [
           {
            "marker": {
             "colorbar": {
              "outlinewidth": 0,
              "ticks": ""
             }
            },
            "type": "scatterternary"
           }
          ],
          "surface": [
           {
            "colorbar": {
             "outlinewidth": 0,
             "ticks": ""
            },
            "colorscale": [
             [
              0,
              "#0d0887"
             ],
             [
              0.1111111111111111,
              "#46039f"
             ],
             [
              0.2222222222222222,
              "#7201a8"
             ],
             [
              0.3333333333333333,
              "#9c179e"
             ],
             [
              0.4444444444444444,
              "#bd3786"
             ],
             [
              0.5555555555555556,
              "#d8576b"
             ],
             [
              0.6666666666666666,
              "#ed7953"
             ],
             [
              0.7777777777777778,
              "#fb9f3a"
             ],
             [
              0.8888888888888888,
              "#fdca26"
             ],
             [
              1,
              "#f0f921"
             ]
            ],
            "type": "surface"
           }
          ],
          "table": [
           {
            "cells": {
             "fill": {
              "color": "#EBF0F8"
             },
             "line": {
              "color": "white"
             }
            },
            "header": {
             "fill": {
              "color": "#C8D4E3"
             },
             "line": {
              "color": "white"
             }
            },
            "type": "table"
           }
          ]
         },
         "layout": {
          "annotationdefaults": {
           "arrowcolor": "#2a3f5f",
           "arrowhead": 0,
           "arrowwidth": 1
          },
          "autotypenumbers": "strict",
          "coloraxis": {
           "colorbar": {
            "outlinewidth": 0,
            "ticks": ""
           }
          },
          "colorscale": {
           "diverging": [
            [
             0,
             "#8e0152"
            ],
            [
             0.1,
             "#c51b7d"
            ],
            [
             0.2,
             "#de77ae"
            ],
            [
             0.3,
             "#f1b6da"
            ],
            [
             0.4,
             "#fde0ef"
            ],
            [
             0.5,
             "#f7f7f7"
            ],
            [
             0.6,
             "#e6f5d0"
            ],
            [
             0.7,
             "#b8e186"
            ],
            [
             0.8,
             "#7fbc41"
            ],
            [
             0.9,
             "#4d9221"
            ],
            [
             1,
             "#276419"
            ]
           ],
           "sequential": [
            [
             0,
             "#0d0887"
            ],
            [
             0.1111111111111111,
             "#46039f"
            ],
            [
             0.2222222222222222,
             "#7201a8"
            ],
            [
             0.3333333333333333,
             "#9c179e"
            ],
            [
             0.4444444444444444,
             "#bd3786"
            ],
            [
             0.5555555555555556,
             "#d8576b"
            ],
            [
             0.6666666666666666,
             "#ed7953"
            ],
            [
             0.7777777777777778,
             "#fb9f3a"
            ],
            [
             0.8888888888888888,
             "#fdca26"
            ],
            [
             1,
             "#f0f921"
            ]
           ],
           "sequentialminus": [
            [
             0,
             "#0d0887"
            ],
            [
             0.1111111111111111,
             "#46039f"
            ],
            [
             0.2222222222222222,
             "#7201a8"
            ],
            [
             0.3333333333333333,
             "#9c179e"
            ],
            [
             0.4444444444444444,
             "#bd3786"
            ],
            [
             0.5555555555555556,
             "#d8576b"
            ],
            [
             0.6666666666666666,
             "#ed7953"
            ],
            [
             0.7777777777777778,
             "#fb9f3a"
            ],
            [
             0.8888888888888888,
             "#fdca26"
            ],
            [
             1,
             "#f0f921"
            ]
           ]
          },
          "colorway": [
           "#636efa",
           "#EF553B",
           "#00cc96",
           "#ab63fa",
           "#FFA15A",
           "#19d3f3",
           "#FF6692",
           "#B6E880",
           "#FF97FF",
           "#FECB52"
          ],
          "font": {
           "color": "#2a3f5f"
          },
          "geo": {
           "bgcolor": "white",
           "lakecolor": "white",
           "landcolor": "#E5ECF6",
           "showlakes": true,
           "showland": true,
           "subunitcolor": "white"
          },
          "hoverlabel": {
           "align": "left"
          },
          "hovermode": "closest",
          "mapbox": {
           "style": "light"
          },
          "paper_bgcolor": "white",
          "plot_bgcolor": "#E5ECF6",
          "polar": {
           "angularaxis": {
            "gridcolor": "white",
            "linecolor": "white",
            "ticks": ""
           },
           "bgcolor": "#E5ECF6",
           "radialaxis": {
            "gridcolor": "white",
            "linecolor": "white",
            "ticks": ""
           }
          },
          "scene": {
           "xaxis": {
            "backgroundcolor": "#E5ECF6",
            "gridcolor": "white",
            "gridwidth": 2,
            "linecolor": "white",
            "showbackground": true,
            "ticks": "",
            "zerolinecolor": "white"
           },
           "yaxis": {
            "backgroundcolor": "#E5ECF6",
            "gridcolor": "white",
            "gridwidth": 2,
            "linecolor": "white",
            "showbackground": true,
            "ticks": "",
            "zerolinecolor": "white"
           },
           "zaxis": {
            "backgroundcolor": "#E5ECF6",
            "gridcolor": "white",
            "gridwidth": 2,
            "linecolor": "white",
            "showbackground": true,
            "ticks": "",
            "zerolinecolor": "white"
           }
          },
          "shapedefaults": {
           "line": {
            "color": "#2a3f5f"
           }
          },
          "ternary": {
           "aaxis": {
            "gridcolor": "white",
            "linecolor": "white",
            "ticks": ""
           },
           "baxis": {
            "gridcolor": "white",
            "linecolor": "white",
            "ticks": ""
           },
           "bgcolor": "#E5ECF6",
           "caxis": {
            "gridcolor": "white",
            "linecolor": "white",
            "ticks": ""
           }
          },
          "title": {
           "x": 0.05
          },
          "xaxis": {
           "automargin": true,
           "gridcolor": "white",
           "linecolor": "white",
           "ticks": "",
           "title": {
            "standoff": 15
           },
           "zerolinecolor": "white",
           "zerolinewidth": 2
          },
          "yaxis": {
           "automargin": true,
           "gridcolor": "white",
           "linecolor": "white",
           "ticks": "",
           "title": {
            "standoff": 15
           },
           "zerolinecolor": "white",
           "zerolinewidth": 2
          }
         }
        },
        "title": {
         "text": "Annual Growth of Sales"
        },
        "xaxis": {
         "anchor": "y",
         "domain": [
          0,
          1
         ],
         "title": {
          "text": "month_name"
         }
        },
        "yaxis": {
         "anchor": "x",
         "domain": [
          0,
          1
         ],
         "title": {
          "text": "cumulative_sales"
         }
        }
       }
      }
     },
     "metadata": {},
     "output_type": "display_data"
    }
   ],
   "source": [
    "# Line graph showing growth of sales over the year\n",
    "# Only includes albums that appeared on the charts every month\n",
    "px.line(year_round_albums, x=\"month_name\", y=\"cumulative_sales\", color=\"title\", title='Annual Growth of Sales')\n",
    "# px.line(year_round_albums.loc[year_round_albums[\"artist\"] == \"BTS\"], x=\"month\", y=\"new_sales\", title='Graph', color=\"title\")\n"
   ]
  },
  {
   "cell_type": "markdown",
   "metadata": {},
   "source": [
    "### Artist Counts"
   ]
  },
  {
   "cell_type": "code",
   "execution_count": 33,
   "metadata": {},
   "outputs": [
    {
     "data": {
      "text/plain": [
       "month                 12\n",
       "month_name            12\n",
       "album_rank           100\n",
       "rank_change            5\n",
       "rank_difference      137\n",
       "title                491\n",
       "artist               205\n",
       "new_sales           1155\n",
       "cumulative_sales    1179\n",
       "production            15\n",
       "dtype: int64"
      ]
     },
     "execution_count": 33,
     "metadata": {},
     "output_type": "execute_result"
    }
   ],
   "source": [
    "# Number of unique values in each column\n",
    "# # Focusing on number of unique artists mentioned in the monthly charts\n",
    "num_unique_artists = df.nunique()\n",
    "num_unique_artists"
   ]
  },
  {
   "cell_type": "code",
   "execution_count": 34,
   "metadata": {},
   "outputs": [
    {
     "data": {
      "text/plain": [
       "BTS            187\n",
       "Stray Kids      91\n",
       "TXT             61\n",
       "BLACKPINK       37\n",
       "SEVENTEEN       35\n",
       "TWICE           35\n",
       "NCT DREAM       34\n",
       "NCT 127         32\n",
       "THE BOYZ        27\n",
       "ENHYPEN         24\n",
       "Name: artist, dtype: int64"
      ]
     },
     "execution_count": 34,
     "metadata": {},
     "output_type": "execute_result"
    }
   ],
   "source": [
    "# Total number of times an artist has been included in the monthly charts throughout the year\n",
    "artist_mentions = df[\"artist\"].value_counts()\n",
    "artist_mentions.head(10)"
   ]
  },
  {
   "cell_type": "markdown",
   "metadata": {},
   "source": [
    "### Albums With Greatest Rank Changes"
   ]
  },
  {
   "cell_type": "code",
   "execution_count": 88,
   "metadata": {},
   "outputs": [
    {
     "data": {
      "text/html": [
       "<div>\n",
       "<style scoped>\n",
       "    .dataframe tbody tr th:only-of-type {\n",
       "        vertical-align: middle;\n",
       "    }\n",
       "\n",
       "    .dataframe tbody tr th {\n",
       "        vertical-align: top;\n",
       "    }\n",
       "\n",
       "    .dataframe thead th {\n",
       "        text-align: right;\n",
       "    }\n",
       "</style>\n",
       "<table border=\"1\" class=\"dataframe\">\n",
       "  <thead>\n",
       "    <tr style=\"text-align: right;\">\n",
       "      <th></th>\n",
       "      <th>month</th>\n",
       "      <th>month_name</th>\n",
       "      <th>album_rank</th>\n",
       "      <th>rank_change</th>\n",
       "      <th>rank_difference</th>\n",
       "      <th>title</th>\n",
       "      <th>artist</th>\n",
       "      <th>new_sales</th>\n",
       "      <th>cumulative_sales</th>\n",
       "      <th>production</th>\n",
       "    </tr>\n",
       "  </thead>\n",
       "  <tbody>\n",
       "    <tr>\n",
       "      <th>38</th>\n",
       "      <td>1</td>\n",
       "      <td>January</td>\n",
       "      <td>39</td>\n",
       "      <td>up</td>\n",
       "      <td>82.0</td>\n",
       "      <td>SuperM - The 1st Mini Album</td>\n",
       "      <td>SuperM</td>\n",
       "      <td>9723</td>\n",
       "      <td>9723</td>\n",
       "      <td>Dreamus</td>\n",
       "    </tr>\n",
       "    <tr>\n",
       "      <th>86</th>\n",
       "      <td>1</td>\n",
       "      <td>January</td>\n",
       "      <td>87</td>\n",
       "      <td>up</td>\n",
       "      <td>77.0</td>\n",
       "      <td>`Present : YOU` &amp;ME Edition</td>\n",
       "      <td>GOT7</td>\n",
       "      <td>3165</td>\n",
       "      <td>3165</td>\n",
       "      <td>Dreamus</td>\n",
       "    </tr>\n",
       "    <tr>\n",
       "      <th>76</th>\n",
       "      <td>1</td>\n",
       "      <td>January</td>\n",
       "      <td>77</td>\n",
       "      <td>up</td>\n",
       "      <td>73.0</td>\n",
       "      <td>Call My Name</td>\n",
       "      <td>GOT7</td>\n",
       "      <td>3704</td>\n",
       "      <td>3704</td>\n",
       "      <td>Dreamus</td>\n",
       "    </tr>\n",
       "    <tr>\n",
       "      <th>58</th>\n",
       "      <td>1</td>\n",
       "      <td>January</td>\n",
       "      <td>59</td>\n",
       "      <td>up</td>\n",
       "      <td>70.0</td>\n",
       "      <td>REVEAL</td>\n",
       "      <td>THE BOYZ</td>\n",
       "      <td>6041</td>\n",
       "      <td>6041</td>\n",
       "      <td>Kakao Entertainment</td>\n",
       "    </tr>\n",
       "    <tr>\n",
       "      <th>69</th>\n",
       "      <td>1</td>\n",
       "      <td>January</td>\n",
       "      <td>70</td>\n",
       "      <td>up</td>\n",
       "      <td>64.0</td>\n",
       "      <td>4th MINI ALBUM [DreamLike]</td>\n",
       "      <td>THE BOYZ</td>\n",
       "      <td>4896</td>\n",
       "      <td>4896</td>\n",
       "      <td>Kakao Entertainment</td>\n",
       "    </tr>\n",
       "    <tr>\n",
       "      <th>...</th>\n",
       "      <td>...</td>\n",
       "      <td>...</td>\n",
       "      <td>...</td>\n",
       "      <td>...</td>\n",
       "      <td>...</td>\n",
       "      <td>...</td>\n",
       "      <td>...</td>\n",
       "      <td>...</td>\n",
       "      <td>...</td>\n",
       "      <td>...</td>\n",
       "    </tr>\n",
       "    <tr>\n",
       "      <th>1140</th>\n",
       "      <td>12</td>\n",
       "      <td>December</td>\n",
       "      <td>41</td>\n",
       "      <td>down</td>\n",
       "      <td>-38.0</td>\n",
       "      <td>3rd Single Album [MAVERICK]</td>\n",
       "      <td>THE BOYZ</td>\n",
       "      <td>14382</td>\n",
       "      <td>642369</td>\n",
       "      <td>Kakao Entertainment</td>\n",
       "    </tr>\n",
       "    <tr>\n",
       "      <th>1169</th>\n",
       "      <td>12</td>\n",
       "      <td>December</td>\n",
       "      <td>70</td>\n",
       "      <td>down</td>\n",
       "      <td>-43.0</td>\n",
       "      <td>Guilty Pleasure</td>\n",
       "      <td>Hwa Sa</td>\n",
       "      <td>6949</td>\n",
       "      <td>37308</td>\n",
       "      <td>Kakao Entertainment</td>\n",
       "    </tr>\n",
       "    <tr>\n",
       "      <th>1175</th>\n",
       "      <td>12</td>\n",
       "      <td>December</td>\n",
       "      <td>76</td>\n",
       "      <td>down</td>\n",
       "      <td>-61.0</td>\n",
       "      <td>폐허가 된다 해도</td>\n",
       "      <td>LEE SEUNG YOON</td>\n",
       "      <td>4708</td>\n",
       "      <td>66266</td>\n",
       "      <td>Kakao Entertainment</td>\n",
       "    </tr>\n",
       "    <tr>\n",
       "      <th>1178</th>\n",
       "      <td>12</td>\n",
       "      <td>December</td>\n",
       "      <td>79</td>\n",
       "      <td>down</td>\n",
       "      <td>-61.0</td>\n",
       "      <td>Re:T-ARA</td>\n",
       "      <td>T-ara</td>\n",
       "      <td>4656</td>\n",
       "      <td>53956</td>\n",
       "      <td>Dreamus</td>\n",
       "    </tr>\n",
       "    <tr>\n",
       "      <th>1188</th>\n",
       "      <td>12</td>\n",
       "      <td>December</td>\n",
       "      <td>89</td>\n",
       "      <td>down</td>\n",
       "      <td>-73.0</td>\n",
       "      <td>XOXO</td>\n",
       "      <td>JEON SOMI</td>\n",
       "      <td>3710</td>\n",
       "      <td>58933</td>\n",
       "      <td>YG PLUS</td>\n",
       "    </tr>\n",
       "  </tbody>\n",
       "</table>\n",
       "<p>760 rows × 10 columns</p>\n",
       "</div>"
      ],
      "text/plain": [
       "      month month_name  album_rank rank_change  rank_difference  \\\n",
       "38        1    January          39          up             82.0   \n",
       "86        1    January          87          up             77.0   \n",
       "76        1    January          77          up             73.0   \n",
       "58        1    January          59          up             70.0   \n",
       "69        1    January          70          up             64.0   \n",
       "...     ...        ...         ...         ...              ...   \n",
       "1140     12   December          41        down            -38.0   \n",
       "1169     12   December          70        down            -43.0   \n",
       "1175     12   December          76        down            -61.0   \n",
       "1178     12   December          79        down            -61.0   \n",
       "1188     12   December          89        down            -73.0   \n",
       "\n",
       "                            title          artist  new_sales  \\\n",
       "38    SuperM - The 1st Mini Album          SuperM       9723   \n",
       "86    `Present : YOU` &ME Edition            GOT7       3165   \n",
       "76                   Call My Name            GOT7       3704   \n",
       "58                         REVEAL        THE BOYZ       6041   \n",
       "69     4th MINI ALBUM [DreamLike]        THE BOYZ       4896   \n",
       "...                           ...             ...        ...   \n",
       "1140  3rd Single Album [MAVERICK]        THE BOYZ      14382   \n",
       "1169              Guilty Pleasure          Hwa Sa       6949   \n",
       "1175                    폐허가 된다 해도  LEE SEUNG YOON       4708   \n",
       "1178                     Re:T-ARA           T-ara       4656   \n",
       "1188                         XOXO       JEON SOMI       3710   \n",
       "\n",
       "      cumulative_sales           production  \n",
       "38                9723              Dreamus  \n",
       "86                3165              Dreamus  \n",
       "76                3704              Dreamus  \n",
       "58                6041  Kakao Entertainment  \n",
       "69                4896  Kakao Entertainment  \n",
       "...                ...                  ...  \n",
       "1140            642369  Kakao Entertainment  \n",
       "1169             37308  Kakao Entertainment  \n",
       "1175             66266  Kakao Entertainment  \n",
       "1178             53956              Dreamus  \n",
       "1188             58933              YG PLUS  \n",
       "\n",
       "[760 rows x 10 columns]"
      ]
     },
     "execution_count": 88,
     "metadata": {},
     "output_type": "execute_result"
    }
   ],
   "source": [
    "# Sorting original dataframe by month then rank difference\n",
    "# Removed rows with no rank difference value before sorting\n",
    "sort_by_rank_difference = df[~df['rank_difference'].isna()].sort_values(['month', 'rank_difference'], ascending = (True, False))\n",
    "sort_by_rank_difference"
   ]
  },
  {
   "cell_type": "code",
   "execution_count": 92,
   "metadata": {},
   "outputs": [
    {
     "data": {
      "text/html": [
       "<div>\n",
       "<style scoped>\n",
       "    .dataframe tbody tr th:only-of-type {\n",
       "        vertical-align: middle;\n",
       "    }\n",
       "\n",
       "    .dataframe tbody tr th {\n",
       "        vertical-align: top;\n",
       "    }\n",
       "\n",
       "    .dataframe thead th {\n",
       "        text-align: right;\n",
       "    }\n",
       "</style>\n",
       "<table border=\"1\" class=\"dataframe\">\n",
       "  <thead>\n",
       "    <tr style=\"text-align: right;\">\n",
       "      <th></th>\n",
       "      <th>month</th>\n",
       "      <th>month_name</th>\n",
       "      <th>album_rank</th>\n",
       "      <th>rank_change</th>\n",
       "      <th>rank_difference</th>\n",
       "      <th>title</th>\n",
       "      <th>artist</th>\n",
       "      <th>new_sales</th>\n",
       "      <th>cumulative_sales</th>\n",
       "      <th>production</th>\n",
       "    </tr>\n",
       "  </thead>\n",
       "  <tbody>\n",
       "    <tr>\n",
       "      <th>38</th>\n",
       "      <td>1</td>\n",
       "      <td>January</td>\n",
       "      <td>39</td>\n",
       "      <td>up</td>\n",
       "      <td>82.0</td>\n",
       "      <td>SuperM - The 1st Mini Album</td>\n",
       "      <td>SuperM</td>\n",
       "      <td>9723</td>\n",
       "      <td>9723</td>\n",
       "      <td>Dreamus</td>\n",
       "    </tr>\n",
       "    <tr>\n",
       "      <th>195</th>\n",
       "      <td>2</td>\n",
       "      <td>February</td>\n",
       "      <td>96</td>\n",
       "      <td>up</td>\n",
       "      <td>86.0</td>\n",
       "      <td>중독 (Overdose)</td>\n",
       "      <td>EXO-K</td>\n",
       "      <td>3461</td>\n",
       "      <td>3979</td>\n",
       "      <td>Dreamus</td>\n",
       "    </tr>\n",
       "    <tr>\n",
       "      <th>218</th>\n",
       "      <td>3</td>\n",
       "      <td>March</td>\n",
       "      <td>19</td>\n",
       "      <td>up</td>\n",
       "      <td>62.0</td>\n",
       "      <td>BORDER : DAY ONE</td>\n",
       "      <td>ENHYPEN</td>\n",
       "      <td>29332</td>\n",
       "      <td>59074</td>\n",
       "      <td>Genie Music, Stone Music Entertainment</td>\n",
       "    </tr>\n",
       "    <tr>\n",
       "      <th>331</th>\n",
       "      <td>4</td>\n",
       "      <td>April</td>\n",
       "      <td>32</td>\n",
       "      <td>up</td>\n",
       "      <td>73.0</td>\n",
       "      <td>NCT #127 Regulate - The 1st Album Repackage</td>\n",
       "      <td>NCT 127</td>\n",
       "      <td>29984</td>\n",
       "      <td>34918</td>\n",
       "      <td>Dreamus</td>\n",
       "    </tr>\n",
       "    <tr>\n",
       "      <th>433</th>\n",
       "      <td>5</td>\n",
       "      <td>May</td>\n",
       "      <td>34</td>\n",
       "      <td>up</td>\n",
       "      <td>62.0</td>\n",
       "      <td>3RD ALBUM `An Ode`</td>\n",
       "      <td>SEVENTEEN</td>\n",
       "      <td>20608</td>\n",
       "      <td>70164</td>\n",
       "      <td>YG PLUS</td>\n",
       "    </tr>\n",
       "    <tr>\n",
       "      <th>594</th>\n",
       "      <td>6</td>\n",
       "      <td>June</td>\n",
       "      <td>95</td>\n",
       "      <td>up</td>\n",
       "      <td>29.0</td>\n",
       "      <td>7th Mini Album [GATEWAY]</td>\n",
       "      <td>ASTRO</td>\n",
       "      <td>5127</td>\n",
       "      <td>32980</td>\n",
       "      <td>Kakao Entertainment</td>\n",
       "    </tr>\n",
       "    <tr>\n",
       "      <th>628</th>\n",
       "      <td>7</td>\n",
       "      <td>July</td>\n",
       "      <td>29</td>\n",
       "      <td>up</td>\n",
       "      <td>80.0</td>\n",
       "      <td>JUST BURN</td>\n",
       "      <td>JUST B</td>\n",
       "      <td>14767</td>\n",
       "      <td>18210</td>\n",
       "      <td>Bugs (NHN벅스)</td>\n",
       "    </tr>\n",
       "    <tr>\n",
       "      <th>761</th>\n",
       "      <td>8</td>\n",
       "      <td>August</td>\n",
       "      <td>62</td>\n",
       "      <td>up</td>\n",
       "      <td>50.0</td>\n",
       "      <td>NCT RESONANCE Pt. 2 - The 2nd Album</td>\n",
       "      <td>NCT</td>\n",
       "      <td>7337</td>\n",
       "      <td>388555</td>\n",
       "      <td>Dreamus</td>\n",
       "    </tr>\n",
       "    <tr>\n",
       "      <th>885</th>\n",
       "      <td>9</td>\n",
       "      <td>September</td>\n",
       "      <td>86</td>\n",
       "      <td>up</td>\n",
       "      <td>76.0</td>\n",
       "      <td>Dear OHMYGIRL</td>\n",
       "      <td>OH MY GIRL</td>\n",
       "      <td>4152</td>\n",
       "      <td>105997</td>\n",
       "      <td>Sony Music</td>\n",
       "    </tr>\n",
       "    <tr>\n",
       "      <th>936</th>\n",
       "      <td>10</td>\n",
       "      <td>October</td>\n",
       "      <td>37</td>\n",
       "      <td>up</td>\n",
       "      <td>65.0</td>\n",
       "      <td>Dark Dream</td>\n",
       "      <td>E`LAST</td>\n",
       "      <td>19130</td>\n",
       "      <td>22130</td>\n",
       "      <td>MUSIC&amp;NEW</td>\n",
       "    </tr>\n",
       "    <tr>\n",
       "      <th>1089</th>\n",
       "      <td>11</td>\n",
       "      <td>November</td>\n",
       "      <td>90</td>\n",
       "      <td>up</td>\n",
       "      <td>79.0</td>\n",
       "      <td>YOU COMPLETE ME</td>\n",
       "      <td>ONF</td>\n",
       "      <td>4742</td>\n",
       "      <td>7738</td>\n",
       "      <td>Genie Music, Stone Music Entertainment</td>\n",
       "    </tr>\n",
       "    <tr>\n",
       "      <th>1192</th>\n",
       "      <td>12</td>\n",
       "      <td>December</td>\n",
       "      <td>93</td>\n",
       "      <td>up</td>\n",
       "      <td>67.0</td>\n",
       "      <td>TWICEcoaster : LANE 2</td>\n",
       "      <td>TWICE</td>\n",
       "      <td>3244</td>\n",
       "      <td>17896</td>\n",
       "      <td>Dreamus</td>\n",
       "    </tr>\n",
       "  </tbody>\n",
       "</table>\n",
       "</div>"
      ],
      "text/plain": [
       "      month month_name  album_rank rank_change  rank_difference  \\\n",
       "38        1    January          39          up             82.0   \n",
       "195       2   February          96          up             86.0   \n",
       "218       3      March          19          up             62.0   \n",
       "331       4      April          32          up             73.0   \n",
       "433       5        May          34          up             62.0   \n",
       "594       6       June          95          up             29.0   \n",
       "628       7       July          29          up             80.0   \n",
       "761       8     August          62          up             50.0   \n",
       "885       9  September          86          up             76.0   \n",
       "936      10    October          37          up             65.0   \n",
       "1089     11   November          90          up             79.0   \n",
       "1192     12   December          93          up             67.0   \n",
       "\n",
       "                                            title      artist  new_sales  \\\n",
       "38                    SuperM - The 1st Mini Album      SuperM       9723   \n",
       "195                                 중독 (Overdose)       EXO-K       3461   \n",
       "218                              BORDER : DAY ONE     ENHYPEN      29332   \n",
       "331   NCT #127 Regulate - The 1st Album Repackage     NCT 127      29984   \n",
       "433                            3RD ALBUM `An Ode`   SEVENTEEN      20608   \n",
       "594                      7th Mini Album [GATEWAY]       ASTRO       5127   \n",
       "628                                     JUST BURN     JUST B       14767   \n",
       "761           NCT RESONANCE Pt. 2 - The 2nd Album         NCT       7337   \n",
       "885                                 Dear OHMYGIRL  OH MY GIRL       4152   \n",
       "936                                    Dark Dream      E`LAST      19130   \n",
       "1089                              YOU COMPLETE ME         ONF       4742   \n",
       "1192                        TWICEcoaster : LANE 2       TWICE       3244   \n",
       "\n",
       "      cumulative_sales                              production  \n",
       "38                9723                                 Dreamus  \n",
       "195               3979                                 Dreamus  \n",
       "218              59074  Genie Music, Stone Music Entertainment  \n",
       "331              34918                                 Dreamus  \n",
       "433              70164                                 YG PLUS  \n",
       "594              32980                     Kakao Entertainment  \n",
       "628              18210                            Bugs (NHN벅스)  \n",
       "761             388555                                 Dreamus  \n",
       "885             105997                              Sony Music  \n",
       "936              22130                               MUSIC&NEW  \n",
       "1089              7738  Genie Music, Stone Music Entertainment  \n",
       "1192             17896                                 Dreamus  "
      ]
     },
     "execution_count": 92,
     "metadata": {},
     "output_type": "execute_result"
    }
   ],
   "source": [
    "# Albums in the chart whose ranks rose the most\n",
    "greatest_pos_change = sort_by_rank_difference.groupby('month').head(1)\n",
    "greatest_pos_change"
   ]
  },
  {
   "cell_type": "code",
   "execution_count": 93,
   "metadata": {},
   "outputs": [
    {
     "data": {
      "text/html": [
       "<div>\n",
       "<style scoped>\n",
       "    .dataframe tbody tr th:only-of-type {\n",
       "        vertical-align: middle;\n",
       "    }\n",
       "\n",
       "    .dataframe tbody tr th {\n",
       "        vertical-align: top;\n",
       "    }\n",
       "\n",
       "    .dataframe thead th {\n",
       "        text-align: right;\n",
       "    }\n",
       "</style>\n",
       "<table border=\"1\" class=\"dataframe\">\n",
       "  <thead>\n",
       "    <tr style=\"text-align: right;\">\n",
       "      <th></th>\n",
       "      <th>month</th>\n",
       "      <th>month_name</th>\n",
       "      <th>album_rank</th>\n",
       "      <th>rank_change</th>\n",
       "      <th>rank_difference</th>\n",
       "      <th>title</th>\n",
       "      <th>artist</th>\n",
       "      <th>new_sales</th>\n",
       "      <th>cumulative_sales</th>\n",
       "      <th>production</th>\n",
       "    </tr>\n",
       "  </thead>\n",
       "  <tbody>\n",
       "    <tr>\n",
       "      <th>78</th>\n",
       "      <td>1</td>\n",
       "      <td>January</td>\n",
       "      <td>79</td>\n",
       "      <td>down</td>\n",
       "      <td>-68.0</td>\n",
       "      <td>3rd Mini Album `INSIDE ME`</td>\n",
       "      <td>KIM SUNG KYU (김성규)</td>\n",
       "      <td>3465</td>\n",
       "      <td>3465</td>\n",
       "      <td>Kakao Entertainment</td>\n",
       "    </tr>\n",
       "    <tr>\n",
       "      <th>184</th>\n",
       "      <td>2</td>\n",
       "      <td>February</td>\n",
       "      <td>85</td>\n",
       "      <td>down</td>\n",
       "      <td>-84.0</td>\n",
       "      <td>THE FIRST STEP : TREASURE EFFECT</td>\n",
       "      <td>TREASURE</td>\n",
       "      <td>4329</td>\n",
       "      <td>271223</td>\n",
       "      <td>YG PLUS</td>\n",
       "    </tr>\n",
       "    <tr>\n",
       "      <th>299</th>\n",
       "      <td>3</td>\n",
       "      <td>March</td>\n",
       "      <td>100</td>\n",
       "      <td>down</td>\n",
       "      <td>-77.0</td>\n",
       "      <td>NCT #127 CHERRY BOMB - The 3rd Mini Album</td>\n",
       "      <td>NCT 127</td>\n",
       "      <td>5391</td>\n",
       "      <td>29993</td>\n",
       "      <td>Dreamus</td>\n",
       "    </tr>\n",
       "    <tr>\n",
       "      <th>398</th>\n",
       "      <td>4</td>\n",
       "      <td>April</td>\n",
       "      <td>99</td>\n",
       "      <td>down</td>\n",
       "      <td>-59.0</td>\n",
       "      <td>KILL THIS LOVE</td>\n",
       "      <td>BLACKPINK</td>\n",
       "      <td>6838</td>\n",
       "      <td>40854</td>\n",
       "      <td>YG PLUS</td>\n",
       "    </tr>\n",
       "    <tr>\n",
       "      <th>489</th>\n",
       "      <td>5</td>\n",
       "      <td>May</td>\n",
       "      <td>90</td>\n",
       "      <td>down</td>\n",
       "      <td>-79.0</td>\n",
       "      <td>Be My Reason</td>\n",
       "      <td>Hwang Chi Yeul (황치열)</td>\n",
       "      <td>4329</td>\n",
       "      <td>88925</td>\n",
       "      <td>Kakao Entertainment</td>\n",
       "    </tr>\n",
       "    <tr>\n",
       "      <th>593</th>\n",
       "      <td>6</td>\n",
       "      <td>June</td>\n",
       "      <td>94</td>\n",
       "      <td>down</td>\n",
       "      <td>-82.0</td>\n",
       "      <td>We Boom - The 3rd Mini Album</td>\n",
       "      <td>NCT DREAM</td>\n",
       "      <td>5244</td>\n",
       "      <td>129693</td>\n",
       "      <td>Dreamus</td>\n",
       "    </tr>\n",
       "    <tr>\n",
       "      <th>699</th>\n",
       "      <td>7</td>\n",
       "      <td>July</td>\n",
       "      <td>100</td>\n",
       "      <td>down</td>\n",
       "      <td>-86.0</td>\n",
       "      <td>Summer Queen</td>\n",
       "      <td>Brave Girls</td>\n",
       "      <td>4284</td>\n",
       "      <td>75663</td>\n",
       "      <td>Kakao Entertainment</td>\n",
       "    </tr>\n",
       "    <tr>\n",
       "      <th>793</th>\n",
       "      <td>8</td>\n",
       "      <td>August</td>\n",
       "      <td>94</td>\n",
       "      <td>down</td>\n",
       "      <td>-65.0</td>\n",
       "      <td>JUST BURN</td>\n",
       "      <td>JUST B</td>\n",
       "      <td>3395</td>\n",
       "      <td>21605</td>\n",
       "      <td>Bugs (NHN벅스)</td>\n",
       "    </tr>\n",
       "    <tr>\n",
       "      <th>894</th>\n",
       "      <td>9</td>\n",
       "      <td>September</td>\n",
       "      <td>95</td>\n",
       "      <td>down</td>\n",
       "      <td>-75.0</td>\n",
       "      <td>Play Game : Holiday</td>\n",
       "      <td>Weeekly</td>\n",
       "      <td>3565</td>\n",
       "      <td>46367</td>\n",
       "      <td>Kakao Entertainment</td>\n",
       "    </tr>\n",
       "    <tr>\n",
       "      <th>991</th>\n",
       "      <td>10</td>\n",
       "      <td>October</td>\n",
       "      <td>92</td>\n",
       "      <td>down</td>\n",
       "      <td>-78.0</td>\n",
       "      <td>Eternal</td>\n",
       "      <td>Young K</td>\n",
       "      <td>4601</td>\n",
       "      <td>56274</td>\n",
       "      <td>Dreamus</td>\n",
       "    </tr>\n",
       "    <tr>\n",
       "      <th>1087</th>\n",
       "      <td>11</td>\n",
       "      <td>November</td>\n",
       "      <td>88</td>\n",
       "      <td>down</td>\n",
       "      <td>-80.0</td>\n",
       "      <td>GLASSY</td>\n",
       "      <td>JO YURI</td>\n",
       "      <td>5035</td>\n",
       "      <td>89168</td>\n",
       "      <td>Genie Music, Stone Music Entertainment</td>\n",
       "    </tr>\n",
       "    <tr>\n",
       "      <th>1188</th>\n",
       "      <td>12</td>\n",
       "      <td>December</td>\n",
       "      <td>89</td>\n",
       "      <td>down</td>\n",
       "      <td>-73.0</td>\n",
       "      <td>XOXO</td>\n",
       "      <td>JEON SOMI</td>\n",
       "      <td>3710</td>\n",
       "      <td>58933</td>\n",
       "      <td>YG PLUS</td>\n",
       "    </tr>\n",
       "  </tbody>\n",
       "</table>\n",
       "</div>"
      ],
      "text/plain": [
       "      month month_name  album_rank rank_change  rank_difference  \\\n",
       "78        1    January          79        down            -68.0   \n",
       "184       2   February          85        down            -84.0   \n",
       "299       3      March         100        down            -77.0   \n",
       "398       4      April          99        down            -59.0   \n",
       "489       5        May          90        down            -79.0   \n",
       "593       6       June          94        down            -82.0   \n",
       "699       7       July         100        down            -86.0   \n",
       "793       8     August          94        down            -65.0   \n",
       "894       9  September          95        down            -75.0   \n",
       "991      10    October          92        down            -78.0   \n",
       "1087     11   November          88        down            -80.0   \n",
       "1188     12   December          89        down            -73.0   \n",
       "\n",
       "                                          title                artist  \\\n",
       "78                   3rd Mini Album `INSIDE ME`    KIM SUNG KYU (김성규)   \n",
       "184            THE FIRST STEP : TREASURE EFFECT             TREASURE    \n",
       "299   NCT #127 CHERRY BOMB - The 3rd Mini Album               NCT 127   \n",
       "398                              KILL THIS LOVE             BLACKPINK   \n",
       "489                                Be My Reason  Hwang Chi Yeul (황치열)   \n",
       "593                We Boom - The 3rd Mini Album             NCT DREAM   \n",
       "699                                Summer Queen           Brave Girls   \n",
       "793                                   JUST BURN               JUST B    \n",
       "894                         Play Game : Holiday              Weeekly    \n",
       "991                                     Eternal               Young K   \n",
       "1087                                     GLASSY               JO YURI   \n",
       "1188                                       XOXO             JEON SOMI   \n",
       "\n",
       "      new_sales  cumulative_sales                              production  \n",
       "78         3465              3465                     Kakao Entertainment  \n",
       "184        4329            271223                                 YG PLUS  \n",
       "299        5391             29993                                 Dreamus  \n",
       "398        6838             40854                                 YG PLUS  \n",
       "489        4329             88925                     Kakao Entertainment  \n",
       "593        5244            129693                                 Dreamus  \n",
       "699        4284             75663                     Kakao Entertainment  \n",
       "793        3395             21605                            Bugs (NHN벅스)  \n",
       "894        3565             46367                     Kakao Entertainment  \n",
       "991        4601             56274                                 Dreamus  \n",
       "1087       5035             89168  Genie Music, Stone Music Entertainment  \n",
       "1188       3710             58933                                 YG PLUS  "
      ]
     },
     "execution_count": 93,
     "metadata": {},
     "output_type": "execute_result"
    }
   ],
   "source": [
    "# Albums in the chart whose ranks fell the most each month\n",
    "greatest_neg_change = sort_by_rank_difference.groupby('month').tail(1)\n",
    "greatest_neg_change"
   ]
  },
  {
   "cell_type": "code",
   "execution_count": null,
   "metadata": {},
   "outputs": [],
   "source": []
  }
 ],
 "metadata": {
  "interpreter": {
   "hash": "fc2fa51c0e129825acc284034577a3b883e126bf2a8faa6b0851634e4319796e"
  },
  "kernelspec": {
   "display_name": "Python 3.7.3 32-bit",
   "language": "python",
   "name": "python3"
  },
  "language_info": {
   "codemirror_mode": {
    "name": "ipython",
    "version": 3
   },
   "file_extension": ".py",
   "mimetype": "text/x-python",
   "name": "python",
   "nbconvert_exporter": "python",
   "pygments_lexer": "ipython3",
   "version": "3.7.3"
  },
  "orig_nbformat": 4
 },
 "nbformat": 4,
 "nbformat_minor": 2
}
